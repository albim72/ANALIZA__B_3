{
 "cells":[
  {
   "cell_type":"code",
   "source":[
    "import numpy as np\n",
    "import matplotlib.pyplot as plt"
   ],
   "execution_count":1,
   "outputs":[
    
   ],
   "metadata":{
    "datalore":{
     "node_id":"uMzxZCJhE60xIE8WO91CIx",
     "type":"CODE",
     "hide_input_from_viewers":true,
     "hide_output_from_viewers":true
    }
   }
  },
  {
   "cell_type":"markdown",
   "source":[
    "# wykres słupkowy"
   ],
   "attachments":{
    
   },
   "metadata":{
    "datalore":{
     "node_id":"Ki0ADKgCLedZezDJIyjiwI",
     "type":"MD",
     "hide_input_from_viewers":true,
     "hide_output_from_viewers":true
    }
   }
  },
  {
   "cell_type":"code",
   "source":[
    "fig,ax = plt.subplots()\n",
    "marki = ['audi','toyota','mercedes','honda','kia','jeep','seat']\n",
    "sprzedaz = [12.7,28.9,9.8,16.8,23.5,7.8,28.3]\n",
    "\n",
    "bar_labels = ['audi','toyota','mercedes','honda','kia','jeep','seat']\n",
    "bar_colors = ['tab:red','tab:green','tab:red','tab:blue','tab:orange','tab:red','tab:green']\n",
    "\n",
    "ax.bar(marki,sprzedaz,label=bar_labels,color=bar_colors)\n",
    "ax.set_ylabel('Sprzedaż wybranych marek')\n",
    "ax.set_xlabel('marki samochodów')\n",
    "\n",
    "ax.legend(title = 'marki')\n",
    "plt.show()"
   ],
   "execution_count":2,
   "outputs":[
    {
     "data":{
      "image\/png":"[encoded data removed]"
     },
     "metadata":{
      "image\/png":{
       
      }
     },
     "output_type":"display_data"
    }
   ],
   "metadata":{
    "datalore":{
     "node_id":"C7RYoMVBLF6hv556kOEhr9",
     "type":"CODE",
     "hide_input_from_viewers":true,
     "hide_output_from_viewers":true
    }
   }
  }
 ],
 "metadata":{
  "kernelspec":{
   "display_name":"Python",
   "language":"python",
   "name":"python"
  },
  "datalore":{
   "computation_mode":"JUPYTER",
   "package_manager":"pip",
   "base_environment":"default",
   "packages":[
    
   ],
   "report_row_ids":[
    
   ],
   "version":3
  }
 },
 "nbformat":4,
 "nbformat_minor":4
}