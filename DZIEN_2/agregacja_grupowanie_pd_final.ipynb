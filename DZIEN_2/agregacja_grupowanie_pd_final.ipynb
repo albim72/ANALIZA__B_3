{
 "cells":[
  {
   "cell_type":"code",
   "source":[
    "import numpy as np\n",
    "import pandas as pd\n",
    "import matplotlib.pyplot as plt"
   ],
   "execution_count":1,
   "outputs":[
    
   ],
   "metadata":{
    "datalore":{
     "node_id":"Eic1mws8oDQDDvZLx2JrIo",
     "type":"CODE",
     "hide_input_from_viewers":true,
     "hide_output_from_viewers":true
    }
   }
  },
  {
   "cell_type":"code",
   "source":[
    "df = pd.DataFrame({\n",
    "    'klucz1':['a','a','b','b','a'],\n",
    "    'klucz2':['jeden','dwa','jeden','dwa','jeden'],\n",
    "    'dane1':np.random.randn(5),\n",
    "    'dane2':np.random.randn(5)\n",
    "})"
   ],
   "execution_count":2,
   "outputs":[
    
   ],
   "metadata":{
    "datalore":{
     "node_id":"BSU8igqjiLSGMAGqTQKy7M",
     "type":"CODE",
     "hide_input_from_viewers":true,
     "hide_output_from_viewers":true
    }
   }
  },
  {
   "cell_type":"code",
   "source":[
    "df"
   ],
   "execution_count":5,
   "outputs":[
    {
     "data":{
      "text\/html":[
       "<div>\n",
       "<style scoped>\n",
       "    .dataframe tbody tr th:only-of-type {\n",
       "        vertical-align: middle;\n",
       "    }\n",
       "\n",
       "    .dataframe tbody tr th {\n",
       "        vertical-align: top;\n",
       "    }\n",
       "\n",
       "    .dataframe thead th {\n",
       "        text-align: right;\n",
       "    }\n",
       "<\/style>\n",
       "<table border=\"1\" class=\"dataframe\">\n",
       "  <thead>\n",
       "    <tr style=\"text-align: right;\">\n",
       "      <th><\/th>\n",
       "      <th>klucz1<\/th>\n",
       "      <th>klucz2<\/th>\n",
       "      <th>dane1<\/th>\n",
       "      <th>dane2<\/th>\n",
       "    <\/tr>\n",
       "  <\/thead>\n",
       "  <tbody>\n",
       "    <tr>\n",
       "      <th>0<\/th>\n",
       "      <td>a<\/td>\n",
       "      <td>jeden<\/td>\n",
       "      <td>0.631906<\/td>\n",
       "      <td>-0.848200<\/td>\n",
       "    <\/tr>\n",
       "    <tr>\n",
       "      <th>1<\/th>\n",
       "      <td>a<\/td>\n",
       "      <td>dwa<\/td>\n",
       "      <td>0.862868<\/td>\n",
       "      <td>-0.418853<\/td>\n",
       "    <\/tr>\n",
       "    <tr>\n",
       "      <th>2<\/th>\n",
       "      <td>b<\/td>\n",
       "      <td>jeden<\/td>\n",
       "      <td>-0.940146<\/td>\n",
       "      <td>0.201076<\/td>\n",
       "    <\/tr>\n",
       "    <tr>\n",
       "      <th>3<\/th>\n",
       "      <td>b<\/td>\n",
       "      <td>dwa<\/td>\n",
       "      <td>-0.675906<\/td>\n",
       "      <td>-0.244668<\/td>\n",
       "    <\/tr>\n",
       "    <tr>\n",
       "      <th>4<\/th>\n",
       "      <td>a<\/td>\n",
       "      <td>jeden<\/td>\n",
       "      <td>0.430602<\/td>\n",
       "      <td>-1.527150<\/td>\n",
       "    <\/tr>\n",
       "  <\/tbody>\n",
       "<\/table>\n",
       "<\/div>"
      ]
     },
     "metadata":{
      
     },
     "output_type":"display_data"
    }
   ],
   "metadata":{
    "datalore":{
     "node_id":"5VJ68iRoDVEqvhWbypL95F",
     "type":"CODE",
     "hide_input_from_viewers":true,
     "hide_output_from_viewers":true
    }
   }
  },
  {
   "cell_type":"code",
   "source":[
    "grouped = df['dane1'].groupby(df['klucz1'])\n",
    "grouped"
   ],
   "execution_count":6,
   "outputs":[
    {
     "data":{
      "text\/plain":[
       "<pandas.core.groupby.generic.SeriesGroupBy object at 0x7f5ee2def880>"
      ]
     },
     "metadata":{
      
     },
     "output_type":"display_data"
    }
   ],
   "metadata":{
    "datalore":{
     "node_id":"Qj8zPwOfrrTVt3BzIV1unh",
     "type":"CODE",
     "hide_input_from_viewers":true,
     "hide_output_from_viewers":true
    }
   }
  },
  {
   "cell_type":"code",
   "source":[
    "grouped.mean()"
   ],
   "execution_count":7,
   "outputs":[
    {
     "data":{
      "text\/html":[
       "<pre>klucz1\n",
       "a    0.641792\n",
       "b   -0.808026\n",
       "Name: dane1, dtype: float64<\/pre>"
      ]
     },
     "metadata":{
      
     },
     "output_type":"display_data"
    }
   ],
   "metadata":{
    "datalore":{
     "node_id":"GVE9VynQie4PvlbpadNIFn",
     "type":"CODE",
     "hide_input_from_viewers":true,
     "hide_output_from_viewers":true
    }
   }
  },
  {
   "cell_type":"code",
   "source":[
    "grouped.sum()"
   ],
   "execution_count":8,
   "outputs":[
    {
     "data":{
      "text\/html":[
       "<pre>klucz1\n",
       "a    1.925375\n",
       "b   -1.616053\n",
       "Name: dane1, dtype: float64<\/pre>"
      ]
     },
     "metadata":{
      
     },
     "output_type":"display_data"
    }
   ],
   "metadata":{
    "datalore":{
     "node_id":"qFQRsgQYQSbQTj55dhko2P",
     "type":"CODE",
     "hide_input_from_viewers":true,
     "hide_output_from_viewers":true
    }
   }
  },
  {
   "cell_type":"code",
   "source":[
    "grouped.std()"
   ],
   "execution_count":9,
   "outputs":[
    {
     "data":{
      "text\/html":[
       "<pre>klucz1\n",
       "a    0.216303\n",
       "b    0.186846\n",
       "Name: dane1, dtype: float64<\/pre>"
      ]
     },
     "metadata":{
      
     },
     "output_type":"display_data"
    }
   ],
   "metadata":{
    "datalore":{
     "node_id":"IdBbeqHA8GT2hOj0a34g3U",
     "type":"CODE",
     "hide_input_from_viewers":true,
     "hide_output_from_viewers":true
    }
   }
  },
  {
   "cell_type":"code",
   "source":[
    "means = df['dane1'].groupby([df['klucz1'],df['klucz2']]).mean()\n",
    "means"
   ],
   "execution_count":11,
   "outputs":[
    {
     "data":{
      "text\/html":[
       "<pre>klucz1  klucz2\n",
       "a       dwa       0.862868\n",
       "        jeden     0.531254\n",
       "b       dwa      -0.675906\n",
       "        jeden    -0.940146\n",
       "Name: dane1, dtype: float64<\/pre>"
      ]
     },
     "metadata":{
      
     },
     "output_type":"display_data"
    }
   ],
   "metadata":{
    "datalore":{
     "node_id":"ywCMFfVZtlXiNuXkGu5gNE",
     "type":"CODE",
     "hide_input_from_viewers":true,
     "hide_output_from_viewers":true
    }
   }
  },
  {
   "cell_type":"code",
   "source":[
    "means.unstack()"
   ],
   "execution_count":12,
   "outputs":[
    {
     "data":{
      "text\/html":[
       "<div>\n",
       "<style scoped>\n",
       "    .dataframe tbody tr th:only-of-type {\n",
       "        vertical-align: middle;\n",
       "    }\n",
       "\n",
       "    .dataframe tbody tr th {\n",
       "        vertical-align: top;\n",
       "    }\n",
       "\n",
       "    .dataframe thead th {\n",
       "        text-align: right;\n",
       "    }\n",
       "<\/style>\n",
       "<table border=\"1\" class=\"dataframe\">\n",
       "  <thead>\n",
       "    <tr style=\"text-align: right;\">\n",
       "      <th>klucz2<\/th>\n",
       "      <th>dwa<\/th>\n",
       "      <th>jeden<\/th>\n",
       "    <\/tr>\n",
       "    <tr>\n",
       "      <th>klucz1<\/th>\n",
       "      <th><\/th>\n",
       "      <th><\/th>\n",
       "    <\/tr>\n",
       "  <\/thead>\n",
       "  <tbody>\n",
       "    <tr>\n",
       "      <th>a<\/th>\n",
       "      <td>0.862868<\/td>\n",
       "      <td>0.531254<\/td>\n",
       "    <\/tr>\n",
       "    <tr>\n",
       "      <th>b<\/th>\n",
       "      <td>-0.675906<\/td>\n",
       "      <td>-0.940146<\/td>\n",
       "    <\/tr>\n",
       "  <\/tbody>\n",
       "<\/table>\n",
       "<\/div>"
      ]
     },
     "metadata":{
      
     },
     "output_type":"display_data"
    }
   ],
   "metadata":{
    "datalore":{
     "node_id":"xe0CYf4XG6wVqSWmRSUYg6",
     "type":"CODE",
     "hide_input_from_viewers":true,
     "hide_output_from_viewers":true
    }
   }
  },
  {
   "cell_type":"code",
   "source":[
    "woj = np.array(['mazowieckie','małopolskie','lubelskie','pomorskie','śląskie'])\n",
    "lata = np.array([2018,2018,2020,2020,2020])\n",
    "df['dane1'].groupby([woj,lata]).mean()"
   ],
   "execution_count":13,
   "outputs":[
    {
     "data":{
      "text\/html":[
       "<pre>lubelskie    2020   -0.940146\n",
       "mazowieckie  2018    0.631906\n",
       "małopolskie  2018    0.862868\n",
       "pomorskie    2020   -0.675906\n",
       "śląskie      2020    0.430602\n",
       "Name: dane1, dtype: float64<\/pre>"
      ]
     },
     "metadata":{
      
     },
     "output_type":"display_data"
    }
   ],
   "metadata":{
    "datalore":{
     "node_id":"9C5KMqEyzMlHAiYHwK7cRr",
     "type":"CODE",
     "hide_input_from_viewers":true,
     "hide_output_from_viewers":true
    }
   }
  },
  {
   "cell_type":"code",
   "source":[
    "df.groupby('klucz1').mean()"
   ],
   "execution_count":14,
   "outputs":[
    {
     "name":"stderr",
     "text":[
      "<ipython-input-14-1f540c8b2067>:1: FutureWarning: The default value of numeric_only in DataFrameGroupBy.mean is deprecated. In a future version, numeric_only will default to False. Either specify numeric_only or select only columns which should be valid for the function.\n",
      "  df.groupby('klucz1').mean()\n"
     ],
     "output_type":"stream"
    },
    {
     "data":{
      "text\/html":[
       "<div>\n",
       "<style scoped>\n",
       "    .dataframe tbody tr th:only-of-type {\n",
       "        vertical-align: middle;\n",
       "    }\n",
       "\n",
       "    .dataframe tbody tr th {\n",
       "        vertical-align: top;\n",
       "    }\n",
       "\n",
       "    .dataframe thead th {\n",
       "        text-align: right;\n",
       "    }\n",
       "<\/style>\n",
       "<table border=\"1\" class=\"dataframe\">\n",
       "  <thead>\n",
       "    <tr style=\"text-align: right;\">\n",
       "      <th><\/th>\n",
       "      <th>dane1<\/th>\n",
       "      <th>dane2<\/th>\n",
       "    <\/tr>\n",
       "    <tr>\n",
       "      <th>klucz1<\/th>\n",
       "      <th><\/th>\n",
       "      <th><\/th>\n",
       "    <\/tr>\n",
       "  <\/thead>\n",
       "  <tbody>\n",
       "    <tr>\n",
       "      <th>a<\/th>\n",
       "      <td>0.641792<\/td>\n",
       "      <td>-0.931401<\/td>\n",
       "    <\/tr>\n",
       "    <tr>\n",
       "      <th>b<\/th>\n",
       "      <td>-0.808026<\/td>\n",
       "      <td>-0.021796<\/td>\n",
       "    <\/tr>\n",
       "  <\/tbody>\n",
       "<\/table>\n",
       "<\/div>"
      ]
     },
     "metadata":{
      
     },
     "output_type":"display_data"
    }
   ],
   "metadata":{
    "datalore":{
     "node_id":"JcA0TqQ37rnLquX9ITD20N",
     "type":"CODE",
     "hide_input_from_viewers":true,
     "hide_output_from_viewers":true
    }
   }
  },
  {
   "cell_type":"code",
   "source":[
    "df.groupby(['klucz1','klucz2']).mean()"
   ],
   "execution_count":15,
   "outputs":[
    {
     "data":{
      "text\/html":[
       "<div>\n",
       "<style scoped>\n",
       "    .dataframe tbody tr th:only-of-type {\n",
       "        vertical-align: middle;\n",
       "    }\n",
       "\n",
       "    .dataframe tbody tr th {\n",
       "        vertical-align: top;\n",
       "    }\n",
       "\n",
       "    .dataframe thead th {\n",
       "        text-align: right;\n",
       "    }\n",
       "<\/style>\n",
       "<table border=\"1\" class=\"dataframe\">\n",
       "  <thead>\n",
       "    <tr style=\"text-align: right;\">\n",
       "      <th><\/th>\n",
       "      <th><\/th>\n",
       "      <th>dane1<\/th>\n",
       "      <th>dane2<\/th>\n",
       "    <\/tr>\n",
       "    <tr>\n",
       "      <th>klucz1<\/th>\n",
       "      <th>klucz2<\/th>\n",
       "      <th><\/th>\n",
       "      <th><\/th>\n",
       "    <\/tr>\n",
       "  <\/thead>\n",
       "  <tbody>\n",
       "    <tr>\n",
       "      <th rowspan=\"2\" valign=\"top\">a<\/th>\n",
       "      <th>dwa<\/th>\n",
       "      <td>0.862868<\/td>\n",
       "      <td>-0.418853<\/td>\n",
       "    <\/tr>\n",
       "    <tr>\n",
       "      <th>jeden<\/th>\n",
       "      <td>0.531254<\/td>\n",
       "      <td>-1.187675<\/td>\n",
       "    <\/tr>\n",
       "    <tr>\n",
       "      <th rowspan=\"2\" valign=\"top\">b<\/th>\n",
       "      <th>dwa<\/th>\n",
       "      <td>-0.675906<\/td>\n",
       "      <td>-0.244668<\/td>\n",
       "    <\/tr>\n",
       "    <tr>\n",
       "      <th>jeden<\/th>\n",
       "      <td>-0.940146<\/td>\n",
       "      <td>0.201076<\/td>\n",
       "    <\/tr>\n",
       "  <\/tbody>\n",
       "<\/table>\n",
       "<\/div>"
      ]
     },
     "metadata":{
      
     },
     "output_type":"display_data"
    }
   ],
   "metadata":{
    "datalore":{
     "node_id":"Mvfu761q8eZ8zNMAtxg0lT",
     "type":"CODE",
     "hide_input_from_viewers":true,
     "hide_output_from_viewers":true
    }
   }
  },
  {
   "cell_type":"code",
   "source":[
    "df.groupby(['klucz1','klucz2']).size()"
   ],
   "execution_count":16,
   "outputs":[
    {
     "data":{
      "text\/html":[
       "<pre>klucz1  klucz2\n",
       "a       dwa       1\n",
       "        jeden     2\n",
       "b       dwa       1\n",
       "        jeden     1\n",
       "dtype: int64<\/pre>"
      ]
     },
     "metadata":{
      
     },
     "output_type":"display_data"
    }
   ],
   "metadata":{
    "datalore":{
     "node_id":"J6M2hRdefNpUxCPAuUVezB",
     "type":"CODE",
     "hide_input_from_viewers":true,
     "hide_output_from_viewers":true
    }
   }
  },
  {
   "cell_type":"code",
   "source":[
    "people = pd.DataFrame(np.random.randn(5,5),\n",
    "                      columns=['a','b','c','x','y'],\n",
    "                      index=['Leon','Filip','Olga','Anna','Nadia'])"
   ],
   "execution_count":17,
   "outputs":[
    
   ],
   "metadata":{
    "datalore":{
     "node_id":"5gJWIIPbGdhID3L9QTCxFB",
     "type":"CODE",
     "hide_input_from_viewers":true,
     "hide_output_from_viewers":true
    }
   }
  },
  {
   "cell_type":"code",
   "source":[
    "people"
   ],
   "execution_count":18,
   "outputs":[
    {
     "data":{
      "text\/html":[
       "<div>\n",
       "<style scoped>\n",
       "    .dataframe tbody tr th:only-of-type {\n",
       "        vertical-align: middle;\n",
       "    }\n",
       "\n",
       "    .dataframe tbody tr th {\n",
       "        vertical-align: top;\n",
       "    }\n",
       "\n",
       "    .dataframe thead th {\n",
       "        text-align: right;\n",
       "    }\n",
       "<\/style>\n",
       "<table border=\"1\" class=\"dataframe\">\n",
       "  <thead>\n",
       "    <tr style=\"text-align: right;\">\n",
       "      <th><\/th>\n",
       "      <th>a<\/th>\n",
       "      <th>b<\/th>\n",
       "      <th>c<\/th>\n",
       "      <th>x<\/th>\n",
       "      <th>y<\/th>\n",
       "    <\/tr>\n",
       "  <\/thead>\n",
       "  <tbody>\n",
       "    <tr>\n",
       "      <th>Leon<\/th>\n",
       "      <td>0.388466<\/td>\n",
       "      <td>-0.556326<\/td>\n",
       "      <td>-1.062910<\/td>\n",
       "      <td>0.538537<\/td>\n",
       "      <td>0.291302<\/td>\n",
       "    <\/tr>\n",
       "    <tr>\n",
       "      <th>Filip<\/th>\n",
       "      <td>0.502116<\/td>\n",
       "      <td>-0.110407<\/td>\n",
       "      <td>-0.182167<\/td>\n",
       "      <td>0.606285<\/td>\n",
       "      <td>0.116267<\/td>\n",
       "    <\/tr>\n",
       "    <tr>\n",
       "      <th>Olga<\/th>\n",
       "      <td>0.956034<\/td>\n",
       "      <td>-1.559672<\/td>\n",
       "      <td>-0.517639<\/td>\n",
       "      <td>1.190252<\/td>\n",
       "      <td>-0.619416<\/td>\n",
       "    <\/tr>\n",
       "    <tr>\n",
       "      <th>Anna<\/th>\n",
       "      <td>1.512470<\/td>\n",
       "      <td>0.444164<\/td>\n",
       "      <td>-1.490088<\/td>\n",
       "      <td>0.819675<\/td>\n",
       "      <td>0.183837<\/td>\n",
       "    <\/tr>\n",
       "    <tr>\n",
       "      <th>Nadia<\/th>\n",
       "      <td>-1.721982<\/td>\n",
       "      <td>0.600335<\/td>\n",
       "      <td>0.464097<\/td>\n",
       "      <td>0.085990<\/td>\n",
       "      <td>0.351200<\/td>\n",
       "    <\/tr>\n",
       "  <\/tbody>\n",
       "<\/table>\n",
       "<\/div>"
      ]
     },
     "metadata":{
      
     },
     "output_type":"display_data"
    }
   ],
   "metadata":{
    "datalore":{
     "node_id":"WREssJ701uzQbEzfv7fwM7",
     "type":"CODE",
     "hide_input_from_viewers":true,
     "hide_output_from_viewers":true
    }
   }
  },
  {
   "cell_type":"code",
   "source":[
    "people.iloc[2:4,[1,2]] = np.nan\n",
    "people"
   ],
   "execution_count":20,
   "outputs":[
    {
     "data":{
      "text\/html":[
       "<div>\n",
       "<style scoped>\n",
       "    .dataframe tbody tr th:only-of-type {\n",
       "        vertical-align: middle;\n",
       "    }\n",
       "\n",
       "    .dataframe tbody tr th {\n",
       "        vertical-align: top;\n",
       "    }\n",
       "\n",
       "    .dataframe thead th {\n",
       "        text-align: right;\n",
       "    }\n",
       "<\/style>\n",
       "<table border=\"1\" class=\"dataframe\">\n",
       "  <thead>\n",
       "    <tr style=\"text-align: right;\">\n",
       "      <th><\/th>\n",
       "      <th>a<\/th>\n",
       "      <th>b<\/th>\n",
       "      <th>c<\/th>\n",
       "      <th>x<\/th>\n",
       "      <th>y<\/th>\n",
       "    <\/tr>\n",
       "  <\/thead>\n",
       "  <tbody>\n",
       "    <tr>\n",
       "      <th>Leon<\/th>\n",
       "      <td>0.388466<\/td>\n",
       "      <td>-0.556326<\/td>\n",
       "      <td>-1.062910<\/td>\n",
       "      <td>0.538537<\/td>\n",
       "      <td>0.291302<\/td>\n",
       "    <\/tr>\n",
       "    <tr>\n",
       "      <th>Filip<\/th>\n",
       "      <td>0.502116<\/td>\n",
       "      <td>-0.110407<\/td>\n",
       "      <td>-0.182167<\/td>\n",
       "      <td>0.606285<\/td>\n",
       "      <td>0.116267<\/td>\n",
       "    <\/tr>\n",
       "    <tr>\n",
       "      <th>Olga<\/th>\n",
       "      <td>0.956034<\/td>\n",
       "      <td>NaN<\/td>\n",
       "      <td>NaN<\/td>\n",
       "      <td>1.190252<\/td>\n",
       "      <td>-0.619416<\/td>\n",
       "    <\/tr>\n",
       "    <tr>\n",
       "      <th>Anna<\/th>\n",
       "      <td>1.512470<\/td>\n",
       "      <td>NaN<\/td>\n",
       "      <td>NaN<\/td>\n",
       "      <td>0.819675<\/td>\n",
       "      <td>0.183837<\/td>\n",
       "    <\/tr>\n",
       "    <tr>\n",
       "      <th>Nadia<\/th>\n",
       "      <td>-1.721982<\/td>\n",
       "      <td>0.600335<\/td>\n",
       "      <td>0.464097<\/td>\n",
       "      <td>0.085990<\/td>\n",
       "      <td>0.351200<\/td>\n",
       "    <\/tr>\n",
       "  <\/tbody>\n",
       "<\/table>\n",
       "<\/div>"
      ]
     },
     "metadata":{
      
     },
     "output_type":"display_data"
    }
   ],
   "metadata":{
    "datalore":{
     "node_id":"HFjRY0IoYpGHNpzP0j79yN",
     "type":"CODE",
     "hide_input_from_viewers":true,
     "hide_output_from_viewers":true
    }
   }
  },
  {
   "cell_type":"code",
   "source":[
    "mapping = {\n",
    "    'a':'czerwony',\n",
    "    'b':'czerwony',\n",
    "    'c':'niebieski',\n",
    "    'x':'niebieski',\n",
    "    'y':'czerwony',\n",
    "    'f':'pomarańczowy'\n",
    "\n",
    "}"
   ],
   "execution_count":21,
   "outputs":[
    
   ],
   "metadata":{
    "datalore":{
     "node_id":"SD1wtFJMbiniJJM1hua3Bp",
     "type":"CODE",
     "hide_input_from_viewers":true,
     "hide_output_from_viewers":true
    }
   }
  },
  {
   "cell_type":"code",
   "source":[
    "by_column = people.groupby(mapping,axis=1)\n",
    "by_column.sum()"
   ],
   "execution_count":22,
   "outputs":[
    {
     "data":{
      "text\/html":[
       "<div>\n",
       "<style scoped>\n",
       "    .dataframe tbody tr th:only-of-type {\n",
       "        vertical-align: middle;\n",
       "    }\n",
       "\n",
       "    .dataframe tbody tr th {\n",
       "        vertical-align: top;\n",
       "    }\n",
       "\n",
       "    .dataframe thead th {\n",
       "        text-align: right;\n",
       "    }\n",
       "<\/style>\n",
       "<table border=\"1\" class=\"dataframe\">\n",
       "  <thead>\n",
       "    <tr style=\"text-align: right;\">\n",
       "      <th><\/th>\n",
       "      <th>czerwony<\/th>\n",
       "      <th>niebieski<\/th>\n",
       "    <\/tr>\n",
       "  <\/thead>\n",
       "  <tbody>\n",
       "    <tr>\n",
       "      <th>Leon<\/th>\n",
       "      <td>0.123443<\/td>\n",
       "      <td>-0.524373<\/td>\n",
       "    <\/tr>\n",
       "    <tr>\n",
       "      <th>Filip<\/th>\n",
       "      <td>0.507976<\/td>\n",
       "      <td>0.424118<\/td>\n",
       "    <\/tr>\n",
       "    <tr>\n",
       "      <th>Olga<\/th>\n",
       "      <td>0.336617<\/td>\n",
       "      <td>1.190252<\/td>\n",
       "    <\/tr>\n",
       "    <tr>\n",
       "      <th>Anna<\/th>\n",
       "      <td>1.696307<\/td>\n",
       "      <td>0.819675<\/td>\n",
       "    <\/tr>\n",
       "    <tr>\n",
       "      <th>Nadia<\/th>\n",
       "      <td>-0.770447<\/td>\n",
       "      <td>0.550087<\/td>\n",
       "    <\/tr>\n",
       "  <\/tbody>\n",
       "<\/table>\n",
       "<\/div>"
      ]
     },
     "metadata":{
      
     },
     "output_type":"display_data"
    }
   ],
   "metadata":{
    "datalore":{
     "node_id":"2ljnOGlNT5CKbhPLMqpDpQ",
     "type":"CODE",
     "hide_input_from_viewers":true,
     "hide_output_from_viewers":true
    }
   }
  },
  {
   "cell_type":"code",
   "source":[
    "map_series = pd.Series(mapping)\n",
    "map_series"
   ],
   "execution_count":23,
   "outputs":[
    {
     "data":{
      "text\/html":[
       "<pre>a        czerwony\n",
       "b        czerwony\n",
       "c       niebieski\n",
       "x       niebieski\n",
       "y        czerwony\n",
       "f    pomarańczowy\n",
       "dtype: object<\/pre>"
      ]
     },
     "metadata":{
      
     },
     "output_type":"display_data"
    }
   ],
   "metadata":{
    "datalore":{
     "node_id":"zhd4Zg3ITR6IYVdXJyYA8o",
     "type":"CODE",
     "hide_input_from_viewers":true,
     "hide_output_from_viewers":true
    }
   }
  },
  {
   "cell_type":"code",
   "source":[
    "people.groupby(map_series,axis=1).count()"
   ],
   "execution_count":24,
   "outputs":[
    {
     "data":{
      "text\/html":[
       "<div>\n",
       "<style scoped>\n",
       "    .dataframe tbody tr th:only-of-type {\n",
       "        vertical-align: middle;\n",
       "    }\n",
       "\n",
       "    .dataframe tbody tr th {\n",
       "        vertical-align: top;\n",
       "    }\n",
       "\n",
       "    .dataframe thead th {\n",
       "        text-align: right;\n",
       "    }\n",
       "<\/style>\n",
       "<table border=\"1\" class=\"dataframe\">\n",
       "  <thead>\n",
       "    <tr style=\"text-align: right;\">\n",
       "      <th><\/th>\n",
       "      <th>czerwony<\/th>\n",
       "      <th>niebieski<\/th>\n",
       "    <\/tr>\n",
       "  <\/thead>\n",
       "  <tbody>\n",
       "    <tr>\n",
       "      <th>Leon<\/th>\n",
       "      <td>3<\/td>\n",
       "      <td>2<\/td>\n",
       "    <\/tr>\n",
       "    <tr>\n",
       "      <th>Filip<\/th>\n",
       "      <td>3<\/td>\n",
       "      <td>2<\/td>\n",
       "    <\/tr>\n",
       "    <tr>\n",
       "      <th>Olga<\/th>\n",
       "      <td>2<\/td>\n",
       "      <td>1<\/td>\n",
       "    <\/tr>\n",
       "    <tr>\n",
       "      <th>Anna<\/th>\n",
       "      <td>2<\/td>\n",
       "      <td>1<\/td>\n",
       "    <\/tr>\n",
       "    <tr>\n",
       "      <th>Nadia<\/th>\n",
       "      <td>3<\/td>\n",
       "      <td>2<\/td>\n",
       "    <\/tr>\n",
       "  <\/tbody>\n",
       "<\/table>\n",
       "<\/div>"
      ]
     },
     "metadata":{
      
     },
     "output_type":"display_data"
    }
   ],
   "metadata":{
    "datalore":{
     "node_id":"sxHr4yU0HjTNHkrCQqWYar",
     "type":"CODE",
     "hide_input_from_viewers":true,
     "hide_output_from_viewers":true
    }
   }
  }
 ],
 "metadata":{
  "kernelspec":{
   "display_name":"Python",
   "language":"python",
   "name":"python"
  },
  "datalore":{
   "computation_mode":"JUPYTER",
   "package_manager":"pip",
   "base_environment":"default",
   "packages":[
    
   ],
   "report_row_ids":[
    
   ],
   "version":3
  }
 },
 "nbformat":4,
 "nbformat_minor":4
}