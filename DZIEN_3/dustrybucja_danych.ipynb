{
 "cells":[
  {
   "cell_type":"code",
   "source":[
    "import numpy as np\n",
    "from numpy import random\n",
    "import matplotlib.pyplot as plt\n",
    "import seaborn as sns"
   ],
   "execution_count":1,
   "outputs":[
    
   ],
   "metadata":{
    "datalore":{
     "node_id":"uh8yXqOhIPs0oDBB7sQIkd",
     "type":"CODE",
     "hide_input_from_viewers":true,
     "hide_output_from_viewers":true
    }
   }
  },
  {
   "cell_type":"code",
   "source":[
    "#wygeneruj tablicę 1D (wektor) zawierającą 100 wartości, gdzie każda wartość musi być jedną z : [3,5,8,11]\n",
    "#prawdopodobieństwo wystąpień dla poszczególnych wartości:\n",
    "#3 -> 0,1\n",
    "#5 -> 0,25\n",
    "#8 -> 0,6\n",
    "#11 -> 0,05"
   ],
   "execution_count":2,
   "outputs":[
    
   ],
   "metadata":{
    "datalore":{
     "node_id":"OUEXnyd9VunLffWFRHDN8d",
     "type":"CODE",
     "hide_input_from_viewers":true,
     "hide_output_from_viewers":true
    }
   }
  },
  {
   "cell_type":"code",
   "source":[
    "x = random.choice([3,5,8,11],p=[0.1,0.25,0.6,0.05],size=(100))\n",
    "print(x)"
   ],
   "execution_count":4,
   "outputs":[
    {
     "name":"stdout",
     "text":[
      "[ 8  3  8  8  8  8  8  8  3  3  8  3  8  5  8  5  5  8  5  5  5  8  8  5\n",
      "  5  8  8  8  3  8  8  5 11  3  8  8  8  3  5 11  8  8  3  8  8  5  3  8\n",
      "  5  8  5  8  8  8  8  5  5  8  8  8  3  8  8  8  8  8  8  8  5  3  5  5\n",
      " 11  8  8  8  5  3  5  8  8  8  8  8  5  8  8  5  8  8  8  5  8  8  8  8\n",
      "  3  5  5  8]\n"
     ],
     "output_type":"stream"
    }
   ],
   "metadata":{
    "datalore":{
     "node_id":"9hejEJZviv3YmhhNFGsWlj",
     "type":"CODE",
     "hide_input_from_viewers":true,
     "hide_output_from_viewers":true
    }
   }
  },
  {
   "cell_type":"code",
   "source":[
    "tab = np.array([6,2,3,90,11,203])\n",
    "print(tab)"
   ],
   "execution_count":5,
   "outputs":[
    {
     "name":"stdout",
     "text":[
      "[  6   2   3  90  11 203]\n"
     ],
     "output_type":"stream"
    }
   ],
   "metadata":{
    "datalore":{
     "node_id":"5egk4hCJ8rUlZDqGIG6nbu",
     "type":"CODE",
     "hide_input_from_viewers":true,
     "hide_output_from_viewers":true
    }
   }
  },
  {
   "cell_type":"code",
   "source":[
    "random.shuffle(tab)\n",
    "print(tab)"
   ],
   "execution_count":10,
   "outputs":[
    {
     "name":"stdout",
     "text":[
      "[ 11   3   2  90 203   6]\n"
     ],
     "output_type":"stream"
    }
   ],
   "metadata":{
    "datalore":{
     "node_id":"LaypM4H2YVIVz0Cjb0zsuZ",
     "type":"CODE",
     "hide_input_from_viewers":true,
     "hide_output_from_viewers":true
    }
   }
  },
  {
   "cell_type":"code",
   "source":[
    "print(random.permutation(tab))\n",
    "print(tab)"
   ],
   "execution_count":20,
   "outputs":[
    {
     "name":"stdout",
     "text":[
      "[  2   3 203  11  90   6]\n",
      "[ 11   3   2  90 203   6]\n"
     ],
     "output_type":"stream"
    }
   ],
   "metadata":{
    "datalore":{
     "node_id":"bkZFl1xuQ71vH5LjnR5Huz",
     "type":"CODE",
     "hide_input_from_viewers":true,
     "hide_output_from_viewers":true
    }
   }
  },
  {
   "cell_type":"code",
   "source":[
    "sns.distplot([0,1,2,3,4,5,11,56,78], hist=False)\n",
    "plt.show()"
   ],
   "execution_count":22,
   "outputs":[
    {
     "name":"stderr",
     "text":[
      "<ipython-input-22-32cbee50aca0>:1: UserWarning: \n",
      "\n",
      "`distplot` is a deprecated function and will be removed in seaborn v0.14.0.\n",
      "\n",
      "Please adapt your code to use either `displot` (a figure-level function with\n",
      "similar flexibility) or `kdeplot` (an axes-level function for kernel density plots).\n",
      "\n",
      "For a guide to updating your code to use the new functions, please see\n",
      "https:\/\/gist.github.com\/mwaskom\/de44147ed2974457ad6372750bbe5751\n",
      "\n",
      "  sns.distplot([0,1,2,3,4,5,11,56,78], hist=False)\n"
     ],
     "output_type":"stream"
    },
    {
     "data":{
      "image\/png":"[encoded data removed]"
     },
     "metadata":{
      "image\/png":{
       
      }
     },
     "output_type":"display_data"
    }
   ],
   "metadata":{
    "datalore":{
     "node_id":"y8aQfB4hHMJ7cotohXKGlR",
     "type":"CODE",
     "hide_input_from_viewers":true,
     "hide_output_from_viewers":true
    }
   }
  },
  {
   "cell_type":"code",
   "source":[
    
   ],
   "execution_count":null,
   "outputs":[
    
   ],
   "metadata":{
    "datalore":{
     "node_id":"pxtcL2r2Vz7yz79xQptOzY",
     "type":"CODE",
     "hide_input_from_viewers":true,
     "hide_output_from_viewers":true
    }
   }
  }
 ],
 "metadata":{
  "kernelspec":{
   "display_name":"Python",
   "language":"python",
   "name":"python"
  },
  "datalore":{
   "computation_mode":"JUPYTER",
   "package_manager":"pip",
   "base_environment":"default",
   "packages":[
    
   ],
   "report_row_ids":[
    
   ],
   "version":3
  }
 },
 "nbformat":4,
 "nbformat_minor":4
}