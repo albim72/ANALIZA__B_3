{
 "cells":[
  {
   "cell_type":"code",
   "source":[
    "import numpy as np\n",
    "import pandas as pd"
   ],
   "execution_count":1,
   "outputs":[
    
   ],
   "metadata":{
    "datalore":{
     "node_id":"D3MLjifTF7zZ7qSlzN5k4K",
     "type":"CODE",
     "hide_input_from_viewers":true,
     "hide_output_from_viewers":true
    }
   }
  },
  {
   "cell_type":"code",
   "source":[
    "lewy = pd.DataFrame({\"klucz\":[\"ab\",\"ab\"],\"wart\":[2,4]})\n",
    "prawy = pd.DataFrame({\"klucz\":[\"ab\",\"ab\"],\"wart\":[12,41]})"
   ],
   "execution_count":3,
   "outputs":[
    
   ],
   "metadata":{
    "datalore":{
     "node_id":"ZLxpcS8HiWBerlIKwnCfPW",
     "type":"CODE",
     "hide_input_from_viewers":true,
     "hide_output_from_viewers":true
    }
   }
  },
  {
   "cell_type":"code",
   "source":[
    "lewy"
   ],
   "execution_count":4,
   "outputs":[
    {
     "data":{
      "text\/html":[
       "<div>\n",
       "<style scoped>\n",
       "    .dataframe tbody tr th:only-of-type {\n",
       "        vertical-align: middle;\n",
       "    }\n",
       "\n",
       "    .dataframe tbody tr th {\n",
       "        vertical-align: top;\n",
       "    }\n",
       "\n",
       "    .dataframe thead th {\n",
       "        text-align: right;\n",
       "    }\n",
       "<\/style>\n",
       "<table border=\"1\" class=\"dataframe\">\n",
       "  <thead>\n",
       "    <tr style=\"text-align: right;\">\n",
       "      <th><\/th>\n",
       "      <th>klucz<\/th>\n",
       "      <th>wart<\/th>\n",
       "    <\/tr>\n",
       "  <\/thead>\n",
       "  <tbody>\n",
       "    <tr>\n",
       "      <th>0<\/th>\n",
       "      <td>ab<\/td>\n",
       "      <td>2<\/td>\n",
       "    <\/tr>\n",
       "    <tr>\n",
       "      <th>1<\/th>\n",
       "      <td>ab<\/td>\n",
       "      <td>4<\/td>\n",
       "    <\/tr>\n",
       "  <\/tbody>\n",
       "<\/table>\n",
       "<\/div>"
      ]
     },
     "metadata":{
      
     },
     "output_type":"display_data"
    }
   ],
   "metadata":{
    "datalore":{
     "node_id":"uI9vbmWWnLzDZM8UX9eOEA",
     "type":"CODE",
     "hide_input_from_viewers":true,
     "hide_output_from_viewers":true
    }
   }
  },
  {
   "cell_type":"code",
   "source":[
    "prawy"
   ],
   "execution_count":5,
   "outputs":[
    {
     "data":{
      "text\/html":[
       "<div>\n",
       "<style scoped>\n",
       "    .dataframe tbody tr th:only-of-type {\n",
       "        vertical-align: middle;\n",
       "    }\n",
       "\n",
       "    .dataframe tbody tr th {\n",
       "        vertical-align: top;\n",
       "    }\n",
       "\n",
       "    .dataframe thead th {\n",
       "        text-align: right;\n",
       "    }\n",
       "<\/style>\n",
       "<table border=\"1\" class=\"dataframe\">\n",
       "  <thead>\n",
       "    <tr style=\"text-align: right;\">\n",
       "      <th><\/th>\n",
       "      <th>klucz<\/th>\n",
       "      <th>wart<\/th>\n",
       "    <\/tr>\n",
       "  <\/thead>\n",
       "  <tbody>\n",
       "    <tr>\n",
       "      <th>0<\/th>\n",
       "      <td>ab<\/td>\n",
       "      <td>12<\/td>\n",
       "    <\/tr>\n",
       "    <tr>\n",
       "      <th>1<\/th>\n",
       "      <td>ab<\/td>\n",
       "      <td>41<\/td>\n",
       "    <\/tr>\n",
       "  <\/tbody>\n",
       "<\/table>\n",
       "<\/div>"
      ]
     },
     "metadata":{
      
     },
     "output_type":"display_data"
    }
   ],
   "metadata":{
    "datalore":{
     "node_id":"tgzI3PTOJhASxpvvWj2awo",
     "type":"CODE",
     "hide_input_from_viewers":true,
     "hide_output_from_viewers":true
    }
   }
  },
  {
   "cell_type":"code",
   "source":[
    "rk = pd.merge(lewy,prawy,on=\"klucz\")\n",
    "rk"
   ],
   "execution_count":6,
   "outputs":[
    {
     "data":{
      "text\/html":[
       "<div>\n",
       "<style scoped>\n",
       "    .dataframe tbody tr th:only-of-type {\n",
       "        vertical-align: middle;\n",
       "    }\n",
       "\n",
       "    .dataframe tbody tr th {\n",
       "        vertical-align: top;\n",
       "    }\n",
       "\n",
       "    .dataframe thead th {\n",
       "        text-align: right;\n",
       "    }\n",
       "<\/style>\n",
       "<table border=\"1\" class=\"dataframe\">\n",
       "  <thead>\n",
       "    <tr style=\"text-align: right;\">\n",
       "      <th><\/th>\n",
       "      <th>klucz<\/th>\n",
       "      <th>wart_x<\/th>\n",
       "      <th>wart_y<\/th>\n",
       "    <\/tr>\n",
       "  <\/thead>\n",
       "  <tbody>\n",
       "    <tr>\n",
       "      <th>0<\/th>\n",
       "      <td>ab<\/td>\n",
       "      <td>2<\/td>\n",
       "      <td>12<\/td>\n",
       "    <\/tr>\n",
       "    <tr>\n",
       "      <th>1<\/th>\n",
       "      <td>ab<\/td>\n",
       "      <td>2<\/td>\n",
       "      <td>41<\/td>\n",
       "    <\/tr>\n",
       "    <tr>\n",
       "      <th>2<\/th>\n",
       "      <td>ab<\/td>\n",
       "      <td>4<\/td>\n",
       "      <td>12<\/td>\n",
       "    <\/tr>\n",
       "    <tr>\n",
       "      <th>3<\/th>\n",
       "      <td>ab<\/td>\n",
       "      <td>4<\/td>\n",
       "      <td>41<\/td>\n",
       "    <\/tr>\n",
       "  <\/tbody>\n",
       "<\/table>\n",
       "<\/div>"
      ]
     },
     "metadata":{
      
     },
     "output_type":"display_data"
    }
   ],
   "metadata":{
    "datalore":{
     "node_id":"eKrgEIwYY6wjnDikEMGXHG",
     "type":"CODE",
     "hide_input_from_viewers":true,
     "hide_output_from_viewers":true
    }
   }
  },
  {
   "cell_type":"code",
   "source":[
    "df = pd.DataFrame(\n",
    "    {\n",
    "    \"A\":[\"ab\",\"zz\",\"ab\",\"zz\",\"ab\",\"zz\",\"ab\",\"ab\"],\n",
    "    \"B\":[\"jeden\",\"jeden\",\"dwa\",\"trzy\",\"dwa\",\"dwa\",\"jeden\",\"trzy\"],\n",
    "    \"C\":np.random.randn(8),\n",
    "    \"D\":np.random.randn(8)\n",
    "    }\n",
    ")\n",
    "df"
   ],
   "execution_count":9,
   "outputs":[
    {
     "data":{
      "text\/html":[
       "<div>\n",
       "<style scoped>\n",
       "    .dataframe tbody tr th:only-of-type {\n",
       "        vertical-align: middle;\n",
       "    }\n",
       "\n",
       "    .dataframe tbody tr th {\n",
       "        vertical-align: top;\n",
       "    }\n",
       "\n",
       "    .dataframe thead th {\n",
       "        text-align: right;\n",
       "    }\n",
       "<\/style>\n",
       "<table border=\"1\" class=\"dataframe\">\n",
       "  <thead>\n",
       "    <tr style=\"text-align: right;\">\n",
       "      <th><\/th>\n",
       "      <th>A<\/th>\n",
       "      <th>B<\/th>\n",
       "      <th>C<\/th>\n",
       "      <th>D<\/th>\n",
       "    <\/tr>\n",
       "  <\/thead>\n",
       "  <tbody>\n",
       "    <tr>\n",
       "      <th>0<\/th>\n",
       "      <td>ab<\/td>\n",
       "      <td>jeden<\/td>\n",
       "      <td>0.124841<\/td>\n",
       "      <td>1.642756<\/td>\n",
       "    <\/tr>\n",
       "    <tr>\n",
       "      <th>1<\/th>\n",
       "      <td>zz<\/td>\n",
       "      <td>jeden<\/td>\n",
       "      <td>0.370106<\/td>\n",
       "      <td>-0.823855<\/td>\n",
       "    <\/tr>\n",
       "    <tr>\n",
       "      <th>2<\/th>\n",
       "      <td>ab<\/td>\n",
       "      <td>dwa<\/td>\n",
       "      <td>-0.316013<\/td>\n",
       "      <td>1.777693<\/td>\n",
       "    <\/tr>\n",
       "    <tr>\n",
       "      <th>3<\/th>\n",
       "      <td>zz<\/td>\n",
       "      <td>trzy<\/td>\n",
       "      <td>0.498216<\/td>\n",
       "      <td>0.930205<\/td>\n",
       "    <\/tr>\n",
       "    <tr>\n",
       "      <th>4<\/th>\n",
       "      <td>ab<\/td>\n",
       "      <td>dwa<\/td>\n",
       "      <td>0.723458<\/td>\n",
       "      <td>0.151654<\/td>\n",
       "    <\/tr>\n",
       "    <tr>\n",
       "      <th>5<\/th>\n",
       "      <td>zz<\/td>\n",
       "      <td>dwa<\/td>\n",
       "      <td>1.926231<\/td>\n",
       "      <td>-1.272364<\/td>\n",
       "    <\/tr>\n",
       "    <tr>\n",
       "      <th>6<\/th>\n",
       "      <td>ab<\/td>\n",
       "      <td>jeden<\/td>\n",
       "      <td>3.259435<\/td>\n",
       "      <td>-0.741469<\/td>\n",
       "    <\/tr>\n",
       "    <tr>\n",
       "      <th>7<\/th>\n",
       "      <td>ab<\/td>\n",
       "      <td>trzy<\/td>\n",
       "      <td>0.364893<\/td>\n",
       "      <td>1.157031<\/td>\n",
       "    <\/tr>\n",
       "  <\/tbody>\n",
       "<\/table>\n",
       "<\/div>"
      ]
     },
     "metadata":{
      
     },
     "output_type":"display_data"
    }
   ],
   "metadata":{
    "datalore":{
     "node_id":"dHJwartocBpNFhhevsxis2",
     "type":"CODE",
     "hide_input_from_viewers":true,
     "hide_output_from_viewers":true
    }
   }
  },
  {
   "cell_type":"code",
   "source":[
    "df.groupby(\"A\").sum()"
   ],
   "execution_count":10,
   "outputs":[
    {
     "name":"stderr",
     "text":[
      "<ipython-input-10-c4c1e26c5f1f>:1: FutureWarning: The default value of numeric_only in DataFrameGroupBy.sum is deprecated. In a future version, numeric_only will default to False. Either specify numeric_only or select only columns which should be valid for the function.\n",
      "  df.groupby(\"A\").sum()\n"
     ],
     "output_type":"stream"
    },
    {
     "data":{
      "text\/html":[
       "<div>\n",
       "<style scoped>\n",
       "    .dataframe tbody tr th:only-of-type {\n",
       "        vertical-align: middle;\n",
       "    }\n",
       "\n",
       "    .dataframe tbody tr th {\n",
       "        vertical-align: top;\n",
       "    }\n",
       "\n",
       "    .dataframe thead th {\n",
       "        text-align: right;\n",
       "    }\n",
       "<\/style>\n",
       "<table border=\"1\" class=\"dataframe\">\n",
       "  <thead>\n",
       "    <tr style=\"text-align: right;\">\n",
       "      <th><\/th>\n",
       "      <th>C<\/th>\n",
       "      <th>D<\/th>\n",
       "    <\/tr>\n",
       "    <tr>\n",
       "      <th>A<\/th>\n",
       "      <th><\/th>\n",
       "      <th><\/th>\n",
       "    <\/tr>\n",
       "  <\/thead>\n",
       "  <tbody>\n",
       "    <tr>\n",
       "      <th>ab<\/th>\n",
       "      <td>4.156614<\/td>\n",
       "      <td>3.987665<\/td>\n",
       "    <\/tr>\n",
       "    <tr>\n",
       "      <th>zz<\/th>\n",
       "      <td>2.794554<\/td>\n",
       "      <td>-1.166014<\/td>\n",
       "    <\/tr>\n",
       "  <\/tbody>\n",
       "<\/table>\n",
       "<\/div>"
      ]
     },
     "metadata":{
      
     },
     "output_type":"display_data"
    }
   ],
   "metadata":{
    "datalore":{
     "node_id":"Aql9pjhTj897O02quwleSS",
     "type":"CODE",
     "hide_input_from_viewers":true,
     "hide_output_from_viewers":true
    }
   }
  },
  {
   "cell_type":"code",
   "source":[
    "df.groupby([\"A\",\"B\"]).sum()"
   ],
   "execution_count":11,
   "outputs":[
    {
     "data":{
      "text\/html":[
       "<div>\n",
       "<style scoped>\n",
       "    .dataframe tbody tr th:only-of-type {\n",
       "        vertical-align: middle;\n",
       "    }\n",
       "\n",
       "    .dataframe tbody tr th {\n",
       "        vertical-align: top;\n",
       "    }\n",
       "\n",
       "    .dataframe thead th {\n",
       "        text-align: right;\n",
       "    }\n",
       "<\/style>\n",
       "<table border=\"1\" class=\"dataframe\">\n",
       "  <thead>\n",
       "    <tr style=\"text-align: right;\">\n",
       "      <th><\/th>\n",
       "      <th><\/th>\n",
       "      <th>C<\/th>\n",
       "      <th>D<\/th>\n",
       "    <\/tr>\n",
       "    <tr>\n",
       "      <th>A<\/th>\n",
       "      <th>B<\/th>\n",
       "      <th><\/th>\n",
       "      <th><\/th>\n",
       "    <\/tr>\n",
       "  <\/thead>\n",
       "  <tbody>\n",
       "    <tr>\n",
       "      <th rowspan=\"3\" valign=\"top\">ab<\/th>\n",
       "      <th>dwa<\/th>\n",
       "      <td>0.407444<\/td>\n",
       "      <td>1.929347<\/td>\n",
       "    <\/tr>\n",
       "    <tr>\n",
       "      <th>jeden<\/th>\n",
       "      <td>3.384277<\/td>\n",
       "      <td>0.901287<\/td>\n",
       "    <\/tr>\n",
       "    <tr>\n",
       "      <th>trzy<\/th>\n",
       "      <td>0.364893<\/td>\n",
       "      <td>1.157031<\/td>\n",
       "    <\/tr>\n",
       "    <tr>\n",
       "      <th rowspan=\"3\" valign=\"top\">zz<\/th>\n",
       "      <th>dwa<\/th>\n",
       "      <td>1.926231<\/td>\n",
       "      <td>-1.272364<\/td>\n",
       "    <\/tr>\n",
       "    <tr>\n",
       "      <th>jeden<\/th>\n",
       "      <td>0.370106<\/td>\n",
       "      <td>-0.823855<\/td>\n",
       "    <\/tr>\n",
       "    <tr>\n",
       "      <th>trzy<\/th>\n",
       "      <td>0.498216<\/td>\n",
       "      <td>0.930205<\/td>\n",
       "    <\/tr>\n",
       "  <\/tbody>\n",
       "<\/table>\n",
       "<\/div>"
      ]
     },
     "metadata":{
      
     },
     "output_type":"display_data"
    }
   ],
   "metadata":{
    "datalore":{
     "node_id":"enkirT6KB9qqYC6UUoRXJ7",
     "type":"CODE",
     "hide_input_from_viewers":true,
     "hide_output_from_viewers":true
    }
   }
  },
  {
   "cell_type":"code",
   "source":[
    "krotka = list(\n",
    "    zip(\n",
    "        *[\n",
    "            [\"ab\",\"ab\",\"zz\",\"zz\",\"ab\",\"ab\",\"xx\",\"xx\",\"zz\"],\n",
    "            [\"czerwony\",\"czarny\",\"czerwony\",\"czarny\",\"czarny\",\"czerwony\",\"czarny\",\"czarny\"]\n",
    "        ]\n",
    "    )\n",
    ")\n",
    "\n",
    "krotka"
   ],
   "execution_count":16,
   "outputs":[
    {
     "data":{
      "text\/plain":[
       "[('ab', 'czerwony'),\n",
       " ('ab', 'czarny'),\n",
       " ('zz', 'czerwony'),\n",
       " ('zz', 'czarny'),\n",
       " ('ab', 'czarny'),\n",
       " ('ab', 'czerwony'),\n",
       " ('xx', 'czarny'),\n",
       " ('xx', 'czarny')]"
      ]
     },
     "metadata":{
      
     },
     "output_type":"display_data"
    }
   ],
   "metadata":{
    "datalore":{
     "node_id":"MqgvVcEE0WJ78fD6S0VElY",
     "type":"CODE",
     "hide_input_from_viewers":true,
     "hide_output_from_viewers":true
    }
   }
  },
  {
   "cell_type":"code",
   "source":[
    "index = pd.MultiIndex.from_tuples(krotka,name=[\"pierwszy\",\"drugi\"])\n",
    "index"
   ],
   "execution_count":17,
   "outputs":[
    {
     "data":{
      "text\/plain":[
       "MultiIndex([('ab', 'czerwony'),\n",
       "            ('ab',   'czarny'),\n",
       "            ('zz', 'czerwony'),\n",
       "            ('zz',   'czarny'),\n",
       "            ('ab',   'czarny'),\n",
       "            ('ab', 'czerwony'),\n",
       "            ('xx',   'czarny'),\n",
       "            ('xx',   'czarny')],\n",
       "           names=['pierwszy', 'drugi'])"
      ]
     },
     "metadata":{
      
     },
     "output_type":"display_data"
    }
   ],
   "metadata":{
    "datalore":{
     "node_id":"zxLnU4RH82DHoWm7BIoQc6",
     "type":"CODE",
     "hide_input_from_viewers":true,
     "hide_output_from_viewers":true
    }
   }
  },
  {
   "cell_type":"code",
   "source":[
    "print(type(index))"
   ],
   "execution_count":14,
   "outputs":[
    {
     "name":"stdout",
     "text":[
      "<class 'pandas.core.indexes.multi.MultiIndex'>\n"
     ],
     "output_type":"stream"
    }
   ],
   "metadata":{
    "datalore":{
     "node_id":"01eeCSEJa1TFfV43iP9IdW",
     "type":"CODE",
     "hide_input_from_viewers":true,
     "hide_output_from_viewers":true
    }
   }
  },
  {
   "cell_type":"code",
   "source":[
    "df = pd.DataFrame(np.random.randn(8,2),index=index,columns=[\"A\",\"B\"])\n",
    "df"
   ],
   "execution_count":18,
   "outputs":[
    {
     "data":{
      "text\/html":[
       "<div>\n",
       "<style scoped>\n",
       "    .dataframe tbody tr th:only-of-type {\n",
       "        vertical-align: middle;\n",
       "    }\n",
       "\n",
       "    .dataframe tbody tr th {\n",
       "        vertical-align: top;\n",
       "    }\n",
       "\n",
       "    .dataframe thead th {\n",
       "        text-align: right;\n",
       "    }\n",
       "<\/style>\n",
       "<table border=\"1\" class=\"dataframe\">\n",
       "  <thead>\n",
       "    <tr style=\"text-align: right;\">\n",
       "      <th><\/th>\n",
       "      <th><\/th>\n",
       "      <th>A<\/th>\n",
       "      <th>B<\/th>\n",
       "    <\/tr>\n",
       "    <tr>\n",
       "      <th>pierwszy<\/th>\n",
       "      <th>drugi<\/th>\n",
       "      <th><\/th>\n",
       "      <th><\/th>\n",
       "    <\/tr>\n",
       "  <\/thead>\n",
       "  <tbody>\n",
       "    <tr>\n",
       "      <th rowspan=\"2\" valign=\"top\">ab<\/th>\n",
       "      <th>czerwony<\/th>\n",
       "      <td>-0.973043<\/td>\n",
       "      <td>1.527513<\/td>\n",
       "    <\/tr>\n",
       "    <tr>\n",
       "      <th>czarny<\/th>\n",
       "      <td>-0.652169<\/td>\n",
       "      <td>0.201154<\/td>\n",
       "    <\/tr>\n",
       "    <tr>\n",
       "      <th rowspan=\"2\" valign=\"top\">zz<\/th>\n",
       "      <th>czerwony<\/th>\n",
       "      <td>-0.573792<\/td>\n",
       "      <td>-0.592378<\/td>\n",
       "    <\/tr>\n",
       "    <tr>\n",
       "      <th>czarny<\/th>\n",
       "      <td>0.041532<\/td>\n",
       "      <td>-0.109113<\/td>\n",
       "    <\/tr>\n",
       "    <tr>\n",
       "      <th rowspan=\"2\" valign=\"top\">ab<\/th>\n",
       "      <th>czarny<\/th>\n",
       "      <td>-1.619165<\/td>\n",
       "      <td>0.126786<\/td>\n",
       "    <\/tr>\n",
       "    <tr>\n",
       "      <th>czerwony<\/th>\n",
       "      <td>0.019961<\/td>\n",
       "      <td>0.180279<\/td>\n",
       "    <\/tr>\n",
       "    <tr>\n",
       "      <th rowspan=\"2\" valign=\"top\">xx<\/th>\n",
       "      <th>czarny<\/th>\n",
       "      <td>0.079123<\/td>\n",
       "      <td>0.817170<\/td>\n",
       "    <\/tr>\n",
       "    <tr>\n",
       "      <th>czarny<\/th>\n",
       "      <td>-0.340949<\/td>\n",
       "      <td>0.475094<\/td>\n",
       "    <\/tr>\n",
       "  <\/tbody>\n",
       "<\/table>\n",
       "<\/div>"
      ]
     },
     "metadata":{
      
     },
     "output_type":"display_data"
    }
   ],
   "metadata":{
    "datalore":{
     "node_id":"YEjBlLi836CDxTrjfWNKG6",
     "type":"CODE",
     "hide_input_from_viewers":true,
     "hide_output_from_viewers":true
    }
   }
  },
  {
   "cell_type":"code",
   "source":[
    "df2 = df[:4]\n",
    "df2"
   ],
   "execution_count":19,
   "outputs":[
    {
     "data":{
      "text\/html":[
       "<div>\n",
       "<style scoped>\n",
       "    .dataframe tbody tr th:only-of-type {\n",
       "        vertical-align: middle;\n",
       "    }\n",
       "\n",
       "    .dataframe tbody tr th {\n",
       "        vertical-align: top;\n",
       "    }\n",
       "\n",
       "    .dataframe thead th {\n",
       "        text-align: right;\n",
       "    }\n",
       "<\/style>\n",
       "<table border=\"1\" class=\"dataframe\">\n",
       "  <thead>\n",
       "    <tr style=\"text-align: right;\">\n",
       "      <th><\/th>\n",
       "      <th><\/th>\n",
       "      <th>A<\/th>\n",
       "      <th>B<\/th>\n",
       "    <\/tr>\n",
       "    <tr>\n",
       "      <th>pierwszy<\/th>\n",
       "      <th>drugi<\/th>\n",
       "      <th><\/th>\n",
       "      <th><\/th>\n",
       "    <\/tr>\n",
       "  <\/thead>\n",
       "  <tbody>\n",
       "    <tr>\n",
       "      <th rowspan=\"2\" valign=\"top\">ab<\/th>\n",
       "      <th>czerwony<\/th>\n",
       "      <td>-0.973043<\/td>\n",
       "      <td>1.527513<\/td>\n",
       "    <\/tr>\n",
       "    <tr>\n",
       "      <th>czarny<\/th>\n",
       "      <td>-0.652169<\/td>\n",
       "      <td>0.201154<\/td>\n",
       "    <\/tr>\n",
       "    <tr>\n",
       "      <th rowspan=\"2\" valign=\"top\">zz<\/th>\n",
       "      <th>czerwony<\/th>\n",
       "      <td>-0.573792<\/td>\n",
       "      <td>-0.592378<\/td>\n",
       "    <\/tr>\n",
       "    <tr>\n",
       "      <th>czarny<\/th>\n",
       "      <td>0.041532<\/td>\n",
       "      <td>-0.109113<\/td>\n",
       "    <\/tr>\n",
       "  <\/tbody>\n",
       "<\/table>\n",
       "<\/div>"
      ]
     },
     "metadata":{
      
     },
     "output_type":"display_data"
    }
   ],
   "metadata":{
    "datalore":{
     "node_id":"yUGLrLWm9asuhoD0nLrgjW",
     "type":"CODE",
     "hide_input_from_viewers":true,
     "hide_output_from_viewers":true
    }
   }
  },
  {
   "cell_type":"code",
   "source":[
    "stosik = df2.stack()\n",
    "print(stosik)"
   ],
   "execution_count":20,
   "outputs":[
    {
     "name":"stdout",
     "text":[
      "pierwszy  drugi      \n",
      "ab        czerwony  A   -0.973043\n",
      "                    B    1.527513\n",
      "          czarny    A   -0.652169\n",
      "                    B    0.201154\n",
      "zz        czerwony  A   -0.573792\n",
      "                    B   -0.592378\n",
      "          czarny    A    0.041532\n",
      "                    B   -0.109113\n",
      "dtype: float64\n"
     ],
     "output_type":"stream"
    }
   ],
   "metadata":{
    "datalore":{
     "node_id":"3ViPs7id29gmxccYQW6w3j",
     "type":"CODE",
     "hide_input_from_viewers":true,
     "hide_output_from_viewers":true
    }
   }
  }
 ],
 "metadata":{
  "kernelspec":{
   "display_name":"Python",
   "language":"python",
   "name":"python"
  },
  "datalore":{
   "computation_mode":"JUPYTER",
   "package_manager":"pip",
   "base_environment":"default",
   "packages":[
    
   ],
   "report_row_ids":[
    
   ],
   "version":3
  }
 },
 "nbformat":4,
 "nbformat_minor":4
}