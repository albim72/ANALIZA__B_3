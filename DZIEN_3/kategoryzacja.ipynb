{
 "cells":[
  {
   "cell_type":"code",
   "source":[
    "import numpy as np\n",
    "import pandas as pd"
   ],
   "execution_count":1,
   "outputs":[
    
   ],
   "metadata":{
    "datalore":{
     "node_id":"a8vsbnIiBJiI5gkj7a8Tyl",
     "type":"CODE",
     "hide_input_from_viewers":true,
     "hide_output_from_viewers":true
    }
   }
  },
  {
   "cell_type":"code",
   "source":[
    "df = pd.DataFrame({\n",
    "    \"id\":[1,2,3,4,5,6],\n",
    "    \"wiersz_opisu\":[\"a\",\"b\",\"b\",\"a\",\"d\",\"f\"]\n",
    "\n",
    "})\n",
    "df"
   ],
   "execution_count":2,
   "outputs":[
    {
     "data":{
      "text\/html":[
       "<div>\n",
       "<style scoped>\n",
       "    .dataframe tbody tr th:only-of-type {\n",
       "        vertical-align: middle;\n",
       "    }\n",
       "\n",
       "    .dataframe tbody tr th {\n",
       "        vertical-align: top;\n",
       "    }\n",
       "\n",
       "    .dataframe thead th {\n",
       "        text-align: right;\n",
       "    }\n",
       "<\/style>\n",
       "<table border=\"1\" class=\"dataframe\">\n",
       "  <thead>\n",
       "    <tr style=\"text-align: right;\">\n",
       "      <th><\/th>\n",
       "      <th>id<\/th>\n",
       "      <th>wiersz_opisu<\/th>\n",
       "    <\/tr>\n",
       "  <\/thead>\n",
       "  <tbody>\n",
       "    <tr>\n",
       "      <th>0<\/th>\n",
       "      <td>1<\/td>\n",
       "      <td>a<\/td>\n",
       "    <\/tr>\n",
       "    <tr>\n",
       "      <th>1<\/th>\n",
       "      <td>2<\/td>\n",
       "      <td>b<\/td>\n",
       "    <\/tr>\n",
       "    <tr>\n",
       "      <th>2<\/th>\n",
       "      <td>3<\/td>\n",
       "      <td>b<\/td>\n",
       "    <\/tr>\n",
       "    <tr>\n",
       "      <th>3<\/th>\n",
       "      <td>4<\/td>\n",
       "      <td>a<\/td>\n",
       "    <\/tr>\n",
       "    <tr>\n",
       "      <th>4<\/th>\n",
       "      <td>5<\/td>\n",
       "      <td>d<\/td>\n",
       "    <\/tr>\n",
       "    <tr>\n",
       "      <th>5<\/th>\n",
       "      <td>6<\/td>\n",
       "      <td>f<\/td>\n",
       "    <\/tr>\n",
       "  <\/tbody>\n",
       "<\/table>\n",
       "<\/div>"
      ]
     },
     "metadata":{
      
     },
     "output_type":"display_data"
    }
   ],
   "metadata":{
    "datalore":{
     "node_id":"nlpNBRCicJo8tBHNQS6Hry",
     "type":"CODE",
     "hide_input_from_viewers":true,
     "hide_output_from_viewers":true
    }
   }
  },
  {
   "cell_type":"code",
   "source":[
    "df[\"wiersz\"] = df[\"wiersz_opisu\"].astype(\"category\")\n",
    "print(df[\"wiersz\"])"
   ],
   "execution_count":3,
   "outputs":[
    {
     "name":"stdout",
     "text":[
      "0    a\n",
      "1    b\n",
      "2    b\n",
      "3    a\n",
      "4    d\n",
      "5    f\n",
      "Name: wiersz, dtype: category\n",
      "Categories (4, object): ['a', 'b', 'd', 'f']\n"
     ],
     "output_type":"stream"
    }
   ],
   "metadata":{
    "datalore":{
     "node_id":"AhQspRPEpYg0yUT8k59jQo",
     "type":"CODE",
     "hide_input_from_viewers":true,
     "hide_output_from_viewers":true
    }
   }
  },
  {
   "cell_type":"code",
   "source":[
    "df[\"wiersz\"].cat.categories = [\"totalna klapa\",\"tak sobie\",\"dobrze\",\"znakomicie\"]\n",
    "print(df[\"wiersz\"])"
   ],
   "execution_count":4,
   "outputs":[
    {
     "name":"stdout",
     "text":[
      "0    totalna klapa\n",
      "1        tak sobie\n",
      "2        tak sobie\n",
      "3    totalna klapa\n",
      "4           dobrze\n",
      "5       znakomicie\n",
      "Name: wiersz, dtype: category\n",
      "Categories (4, object): ['totalna klapa', 'tak sobie', 'dobrze', 'znakomicie']\n"
     ],
     "output_type":"stream"
    },
    {
     "name":"stderr",
     "text":[
      "<ipython-input-4-a90051e17274>:1: FutureWarning: Setting categories in-place is deprecated and will raise in a future version. Use rename_categories instead.\n",
      "  df[\"wiersz\"].cat.categories = [\"totalna klapa\",\"tak sobie\",\"dobrze\",\"znakomicie\"]\n"
     ],
     "output_type":"stream"
    }
   ],
   "metadata":{
    "datalore":{
     "node_id":"1nN5HLqfa4Fl0iWFo3LbxI",
     "type":"CODE",
     "hide_input_from_viewers":true,
     "hide_output_from_viewers":true
    }
   }
  },
  {
   "cell_type":"code",
   "source":[
    "df[\"wiersz\"] = df[\"wiersz\"].cat.set_categories([\"totalna klapa\",\"kiepsko\",\"tak sobie\",\"dobrze\",\"jest ok\",\"znakomicie\"])\n",
    "print(df[\"wiersz\"])"
   ],
   "execution_count":6,
   "outputs":[
    {
     "name":"stdout",
     "text":[
      "0    totalna klapa\n",
      "1        tak sobie\n",
      "2        tak sobie\n",
      "3    totalna klapa\n",
      "4           dobrze\n",
      "5       znakomicie\n",
      "Name: wiersz, dtype: category\n",
      "Categories (6, object): ['totalna klapa', 'kiepsko', 'tak sobie', 'dobrze', 'jest ok', 'znakomicie']\n"
     ],
     "output_type":"stream"
    }
   ],
   "metadata":{
    "datalore":{
     "node_id":"W2WVq4yeHFCNcPAsDaUhLQ",
     "type":"CODE",
     "hide_input_from_viewers":true,
     "hide_output_from_viewers":true
    }
   }
  },
  {
   "cell_type":"code",
   "source":[
    "df.sort_values(by=\"wiersz\")"
   ],
   "execution_count":7,
   "outputs":[
    {
     "data":{
      "text\/html":[
       "<div>\n",
       "<style scoped>\n",
       "    .dataframe tbody tr th:only-of-type {\n",
       "        vertical-align: middle;\n",
       "    }\n",
       "\n",
       "    .dataframe tbody tr th {\n",
       "        vertical-align: top;\n",
       "    }\n",
       "\n",
       "    .dataframe thead th {\n",
       "        text-align: right;\n",
       "    }\n",
       "<\/style>\n",
       "<table border=\"1\" class=\"dataframe\">\n",
       "  <thead>\n",
       "    <tr style=\"text-align: right;\">\n",
       "      <th><\/th>\n",
       "      <th>id<\/th>\n",
       "      <th>wiersz_opisu<\/th>\n",
       "      <th>wiersz<\/th>\n",
       "    <\/tr>\n",
       "  <\/thead>\n",
       "  <tbody>\n",
       "    <tr>\n",
       "      <th>0<\/th>\n",
       "      <td>1<\/td>\n",
       "      <td>a<\/td>\n",
       "      <td>totalna klapa<\/td>\n",
       "    <\/tr>\n",
       "    <tr>\n",
       "      <th>3<\/th>\n",
       "      <td>4<\/td>\n",
       "      <td>a<\/td>\n",
       "      <td>totalna klapa<\/td>\n",
       "    <\/tr>\n",
       "    <tr>\n",
       "      <th>1<\/th>\n",
       "      <td>2<\/td>\n",
       "      <td>b<\/td>\n",
       "      <td>tak sobie<\/td>\n",
       "    <\/tr>\n",
       "    <tr>\n",
       "      <th>2<\/th>\n",
       "      <td>3<\/td>\n",
       "      <td>b<\/td>\n",
       "      <td>tak sobie<\/td>\n",
       "    <\/tr>\n",
       "    <tr>\n",
       "      <th>4<\/th>\n",
       "      <td>5<\/td>\n",
       "      <td>d<\/td>\n",
       "      <td>dobrze<\/td>\n",
       "    <\/tr>\n",
       "    <tr>\n",
       "      <th>5<\/th>\n",
       "      <td>6<\/td>\n",
       "      <td>f<\/td>\n",
       "      <td>znakomicie<\/td>\n",
       "    <\/tr>\n",
       "  <\/tbody>\n",
       "<\/table>\n",
       "<\/div>"
      ]
     },
     "metadata":{
      
     },
     "output_type":"display_data"
    }
   ],
   "metadata":{
    "datalore":{
     "node_id":"hT3ffdC6rfdsg3PfAg2Yhi",
     "type":"CODE",
     "hide_input_from_viewers":true,
     "hide_output_from_viewers":true
    }
   }
  },
  {
   "cell_type":"code",
   "source":[
    "df.groupby(\"wiersz\").size()"
   ],
   "execution_count":8,
   "outputs":[
    {
     "data":{
      "text\/html":[
       "<pre>wiersz\n",
       "totalna klapa    2\n",
       "kiepsko          0\n",
       "tak sobie        2\n",
       "dobrze           1\n",
       "jest ok          0\n",
       "znakomicie       1\n",
       "dtype: int64<\/pre>"
      ]
     },
     "metadata":{
      
     },
     "output_type":"display_data"
    }
   ],
   "metadata":{
    "datalore":{
     "node_id":"R5TGkAKQTDO8vooHStdBcW",
     "type":"CODE",
     "hide_input_from_viewers":true,
     "hide_output_from_viewers":true
    }
   }
  }
 ],
 "metadata":{
  "kernelspec":{
   "display_name":"Python",
   "language":"python",
   "name":"python"
  },
  "datalore":{
   "computation_mode":"JUPYTER",
   "package_manager":"pip",
   "base_environment":"default",
   "packages":[
    
   ],
   "report_row_ids":[
    
   ],
   "version":3
  }
 },
 "nbformat":4,
 "nbformat_minor":4
}