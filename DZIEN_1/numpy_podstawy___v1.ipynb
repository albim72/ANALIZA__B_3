{
 "cells":[
  {
   "cell_type":"code",
   "source":[
    "print(\"pierwsza komórka Jupyter\")"
   ],
   "execution_count":2,
   "outputs":[
    {
     "name":"stdout",
     "text":[
      "pierwsza komórka Jupyter\n"
     ],
     "output_type":"stream"
    }
   ],
   "metadata":{
    "datalore":{
     "node_id":"4MRYuB27rY5GfkM77H9Jyi",
     "type":"CODE",
     "hide_input_from_viewers":true,
     "hide_output_from_viewers":true
    }
   }
  },
  {
   "cell_type":"markdown",
   "source":[
    "# Podstawy pakietu NUMPY.<br>\n",
    "Piszemy w **Datalore** (<span style=\"color:red; font-size:16pt; font-family:Impact;\">Jupyter Notbook<\/span>)\n",
    "<p>\n",
    "<img src=\"numpylogo.png\" width=300>\n",
    "<\/p>\n",
    "$\\sqrt(x^2+y^2)$"
   ],
   "attachments":{
    
   },
   "metadata":{
    "datalore":{
     "node_id":"oFe7QIBQ7l83xPdyz2v1rW",
     "type":"MD",
     "hide_input_from_viewers":true,
     "hide_output_from_viewers":true
    }
   }
  },
  {
   "cell_type":"code",
   "source":[
    "import numpy as np"
   ],
   "execution_count":3,
   "outputs":[
    
   ],
   "metadata":{
    "datalore":{
     "node_id":"ZzbEhzbkpbTOVmW8QN2MNM",
     "type":"CODE",
     "hide_input_from_viewers":true,
     "hide_output_from_viewers":true
    }
   }
  },
  {
   "cell_type":"code",
   "source":[
    "a = 'to jest bilbioteka numpy'\n",
    "a"
   ],
   "execution_count":4,
   "outputs":[
    {
     "data":{
      "text\/plain":[
       "'to jest bilbioteka numpy'"
      ]
     },
     "metadata":{
      
     },
     "output_type":"display_data"
    }
   ],
   "metadata":{
    "datalore":{
     "node_id":"nadSt4Npli7sWOEmESKVmt",
     "type":"CODE",
     "hide_input_from_viewers":true,
     "hide_output_from_viewers":true
    }
   }
  },
  {
   "cell_type":"code",
   "source":[
    "np.zeros(15)"
   ],
   "execution_count":5,
   "outputs":[
    {
     "data":{
      "text\/html":[
       "<pre>array([0., 0., 0., 0., 0., 0., 0., 0., 0., 0., 0., 0., 0., 0., 0.])<\/pre>"
      ]
     },
     "metadata":{
      
     },
     "output_type":"display_data"
    }
   ],
   "metadata":{
    "datalore":{
     "node_id":"wUZE4LxqHPJr52YYMcf3JF",
     "type":"CODE",
     "hide_input_from_viewers":true,
     "hide_output_from_viewers":true
    }
   }
  },
  {
   "cell_type":"code",
   "source":[
    "np.ones(22)"
   ],
   "execution_count":6,
   "outputs":[
    {
     "data":{
      "text\/html":[
       "<pre>array([1., 1., 1., 1., 1., 1., 1., 1., 1., 1., 1., 1., 1., 1., 1., 1., 1.,\n",
       "       1., 1., 1., 1., 1.])<\/pre>"
      ]
     },
     "metadata":{
      
     },
     "output_type":"display_data"
    }
   ],
   "metadata":{
    "datalore":{
     "node_id":"fzLO9lVcI3pfXDyfksaxW2",
     "type":"CODE",
     "hide_input_from_viewers":true,
     "hide_output_from_viewers":true
    }
   }
  },
  {
   "cell_type":"code",
   "source":[
    "def split_sentence_into_words(sentence):\r\n",
    "    words = sentence.split()\r\n",
    "    return words\r\n",
    "\r\n",
    "# Example usage\r\n",
    "sample_sentence = \"To jest przykładowe zdanie w języku polskim.\"\r\n",
    "print(split_sentence_into_words(sample_sentence))\r"
   ],
   "execution_count":7,
   "outputs":[
    {
     "name":"stdout",
     "text":[
      "['To', 'jest', 'przykładowe', 'zdanie', 'w', 'języku', 'polskim.']\n"
     ],
     "output_type":"stream"
    }
   ],
   "metadata":{
    "datalore":{
     "node_id":"2CniUipIA8BKIlxnfHfF0J",
     "type":"CODE",
     "hide_input_from_viewers":true,
     "hide_output_from_viewers":true
    }
   }
  },
  {
   "cell_type":"code",
   "source":[
    "import requests\r\n",
    "\r\n",
    "def fetch_data_from_website(url):\r\n",
    "    try:\r\n",
    "        response = requests.get(url)\r\n",
    "        response.raise_for_status() # If the request was unsuccessful, an HTTPError will be raised\r\n",
    "        return response.text # Returns the content in unicode\r\n",
    "    except requests.exceptions.HTTPError as http_err:\r\n",
    "        print(f'HTTP error occurred: {http_err}')  \r\n",
    "    except Exception as err:\r\n",
    "        print(f'Other error occurred: {err}') \r"
   ],
   "execution_count":8,
   "outputs":[
    
   ],
   "metadata":{
    "datalore":{
     "node_id":"inLWh3oPJduVm1Qcu00zJR",
     "type":"CODE",
     "hide_input_from_viewers":true,
     "hide_output_from_viewers":true
    }
   }
  },
  {
   "cell_type":"code",
   "source":[
    "# Demonstrating the use of the fetch_data_from_website() function with Python's official website\r\n",
    "website_url = \"https:\/\/www.python.org\/\"\r\n",
    "print(fetch_data_from_website(website_url))\r"
   ],
   "execution_count":9,
   "outputs":[
    {
     "name":"stdout",
     "text":[
      "<!doctype html>\n",
      "<!--[if lt IE 7]>   <html class=\"no-js ie6 lt-ie7 lt-ie8 lt-ie9\">   <![endif]-->\n",
      "<!--[if IE 7]>      <html class=\"no-js ie7 lt-ie8 lt-ie9\">          <![endif]-->\n",
      "<!--[if IE 8]>      <html class=\"no-js ie8 lt-ie9\">                 <![endif]-->\n",
      "<!--[if gt IE 8]><!--><html class=\"no-js\" lang=\"en\" dir=\"ltr\">  <!--<![endif]-->\n",
      "\n",
      "<head>\n",
      "    <!-- Google tag (gtag.js) -->\n",
      "    <script async src=\"https:\/\/www.googletagmanager.com\/gtag\/js?id=G-TF35YF9CVH\"><\/script>\n",
      "    <script>\n",
      "      window.dataLayer = window.dataLayer || [];\n",
      "      function gtag(){dataLayer.push(arguments);}\n",
      "      gtag('js', new Date());\n",
      "      gtag('config', 'G-TF35YF9CVH');\n",
      "    <\/script>\n",
      "\n",
      "    <meta charset=\"utf-8\">\n",
      "    <meta http-equiv=\"X-UA-Compatible\" content=\"IE=edge\">\n",
      "\n",
      "    <link rel=\"prefetch\" href=\"\/\/ajax.googleapis.com\/ajax\/libs\/jquery\/1.8.2\/jquery.min.js\">\n",
      "    <link rel=\"prefetch\" href=\"\/\/ajax.googleapis.com\/ajax\/libs\/jqueryui\/1.12.1\/jquery-ui.min.js\">\n",
      "\n",
      "    <meta name=\"application-name\" content=\"Python.org\">\n",
      "    <meta name=\"msapplication-tooltip\" content=\"The official home of the Python Programming Language\">\n",
      "    <meta name=\"apple-mobile-web-app-title\" content=\"Python.org\">\n",
      "    <meta name=\"apple-mobile-web-app-capable\" content=\"yes\">\n",
      "    <meta name=\"apple-mobile-web-app-status-bar-style\" content=\"black\">\n",
      "\n",
      "    <meta name=\"viewport\" content=\"width=device-width, initial-scale=1.0\">\n",
      "    <meta name=\"HandheldFriendly\" content=\"True\">\n",
      "    <meta name=\"format-detection\" content=\"telephone=no\">\n",
      "    <meta http-equiv=\"cleartype\" content=\"on\">\n",
      "    <meta http-equiv=\"imagetoolbar\" content=\"false\">\n",
      "\n",
      "    <script async\n",
      "            src=\"https:\/\/media.ethicalads.io\/media\/client\/v1.4.0\/ethicalads.min.js\"\n",
      "            integrity=\"sha256-U3hKDidudIaxBDEzwGJApJgPEf2mWk6cfMWghrAa6i0= sha384-UcmsCqcNRSLW\/dV3Lo1oCi2\/VaurXbib6p4HyUEOeIa\/4OpsrnucrugAefzVZJfI sha512-q4t1L4xEjGV2R4hzqCa41P8jrgFUS8xTb8rdNv4FGvw7FpydVj\/kkxBJHOiaoxHa8olCcx1Slk9K+3sNbsM4ug==\"\n",
      "            crossorigin=\"anonymous\"\n",
      "    ><\/script>\n",
      "    <script src=\"\/static\/js\/libs\/modernizr.js\"><\/script>\n",
      "\n",
      "    <link href=\"\/static\/stylesheets\/style.1c0f356ef3c7.css\" rel=\"stylesheet\" type=\"text\/css\" media=\"all\" title=\"default\" \/>\n",
      "    <link href=\"\/static\/stylesheets\/mq.f9187444a4a1.css\" rel=\"stylesheet\" type=\"text\/css\" media=\"not print, braille, embossed, speech, tty\" \/>\n",
      "    <link href=\"\/static\/stylesheets\/no-mq.bf0c425cdb73.css\" rel=\"stylesheet\" type=\"text\/css\" media=\"screen\" \/>\n",
      "    \n",
      "\n",
      "    <!--[if (lte IE 8)&(!IEMobile)]>\n",
      "    <link href=\"\/static\/stylesheets\/no-mq.bf0c425cdb73.css\" rel=\"stylesheet\" type=\"text\/css\" media=\"screen\" \/>\n",
      "    \n",
      "    \n",
      "    <![endif]-->\n",
      "    <link rel=\"stylesheet\" href=\"\/\/ajax.googleapis.com\/ajax\/libs\/jqueryui\/1.12.1\/themes\/smoothness\/jquery-ui.css\">\n",
      "\n",
      "    \n",
      "    <link rel=\"icon\" type=\"image\/x-icon\" href=\"\/static\/favicon.ico\">\n",
      "    <link rel=\"apple-touch-icon-precomposed\" sizes=\"144x144\" href=\"\/static\/apple-touch-icon-144x144-precomposed.png\">\n",
      "    <link rel=\"apple-touch-icon-precomposed\" sizes=\"114x114\" href=\"\/static\/apple-touch-icon-114x114-precomposed.png\">\n",
      "    <link rel=\"apple-touch-icon-precomposed\" sizes=\"72x72\" href=\"\/static\/apple-touch-icon-72x72-precomposed.png\">\n",
      "    <link rel=\"apple-touch-icon-precomposed\" href=\"\/static\/apple-touch-icon-precomposed.png\">\n",
      "    <link rel=\"apple-touch-icon\" href=\"\/static\/apple-touch-icon-precomposed.png\">\n",
      "\n",
      "    \n",
      "    <meta name=\"msapplication-TileImage\" content=\"\/static\/metro-icon-144x144-precomposed.png\"><!-- white shape -->\n",
      "    <meta name=\"msapplication-TileColor\" content=\"#3673a5\"><!-- python blue -->\n",
      "    <meta name=\"msapplication-navbutton-color\" content=\"#3673a5\">\n",
      "\n",
      "    <title>Welcome to Python.org<\/title>\n",
      "\n",
      "    <meta name=\"description\" content=\"The official home of the Python Programming Language\">\n",
      "    <meta name=\"keywords\" content=\"Python programming language object oriented web free open source software license documentation download community\">\n",
      "\n",
      "    \n",
      "    <meta property=\"og:type\" content=\"website\">\n",
      "    <meta property=\"og:site_name\" content=\"Python.org\">\n",
      "    <meta property=\"og:title\" content=\"Welcome to Python.org\">\n",
      "    <meta property=\"og:description\" content=\"The official home of the Python Programming Language\">\n",
      "    \n",
      "    <meta property=\"og:image\" content=\"https:\/\/www.python.org\/static\/opengraph-icon-200x200.png\">\n",
      "    <meta property=\"og:image:secure_url\" content=\"https:\/\/www.python.org\/static\/opengraph-icon-200x200.png\">\n",
      "    \n",
      "    <meta property=\"og:url\" content=\"https:\/\/www.python.org\/\">\n",
      "\n",
      "    <link rel=\"author\" href=\"\/humans.txt\">\n",
      "\n",
      "    <link rel=\"alternate\" type=\"application\/rss+xml\" title=\"Python Enhancement Proposals\"\n",
      "          href=\"https:\/\/peps.python.org\/peps.rss\">\n",
      "    <link rel=\"alternate\" type=\"application\/rss+xml\" title=\"Python Job Opportunities\"\n",
      "          href=\"https:\/\/www.python.org\/jobs\/feed\/rss\/\">\n",
      "    <link rel=\"alternate\" type=\"application\/rss+xml\" title=\"Python Software Foundation News\"\n",
      "          href=\"https:\/\/feeds.feedburner.com\/PythonSoftwareFoundationNews\">\n",
      "    <link rel=\"alternate\" type=\"application\/rss+xml\" title=\"Python Insider\"\n",
      "          href=\"https:\/\/feeds.feedburner.com\/PythonInsider\">\n",
      "\n",
      "    \n",
      "\n",
      "    \n",
      "    <script type=\"application\/ld+json\">\n",
      "     {\n",
      "       \"@context\": \"https:\/\/schema.org\",\n",
      "       \"@type\": \"WebSite\",\n",
      "       \"url\": \"https:\/\/www.python.org\/\",\n",
      "       \"potentialAction\": {\n",
      "         \"@type\": \"SearchAction\",\n",
      "         \"target\": \"https:\/\/www.python.org\/search\/?q={search_term_string}\",\n",
      "         \"query-input\": \"required name=search_term_string\"\n",
      "       }\n",
      "     }\n",
      "    <\/script>\n",
      "\n",
      "    \n",
      "    <script type=\"text\/javascript\">\n",
      "    var _gaq = _gaq || [];\n",
      "    _gaq.push(['_setAccount', 'UA-39055973-1']);\n",
      "    _gaq.push(['_trackPageview']);\n",
      "\n",
      "    (function() {\n",
      "        var ga = document.createElement('script'); ga.type = 'text\/javascript'; ga.async = true;\n",
      "        ga.src = ('https:' == document.location.protocol ? 'https:\/\/ssl' : 'http:\/\/www') + '.google-analytics.com\/ga.js';\n",
      "        var s = document.getElementsByTagName('script')[0]; s.parentNode.insertBefore(ga, s);\n",
      "    })();\n",
      "    <\/script>\n",
      "    \n",
      "<\/head>\n",
      "\n",
      "<body class=\"python home\" id=\"homepage\">\n",
      "\n",
      "    <div id=\"touchnav-wrapper\">\n",
      "\n",
      "        <div id=\"nojs\" class=\"do-not-print\">\n",
      "            <p><strong>Notice:<\/strong> While JavaScript is not essential for this website, your interaction with the content will be limited. Please turn JavaScript on for the full experience. <\/p>\n",
      "        <\/div>\n",
      "\n",
      "        <!--[if lte IE 8]>\n",
      "        <div id=\"oldie-warning\" class=\"do-not-print\">\n",
      "            <p>\n",
      "                <strong>Notice:<\/strong> Your browser is <em>ancient<\/em>. Please\n",
      "                <a href=\"http:\/\/browsehappy.com\/\">upgrade to a different browser<\/a> to experience a better web.\n",
      "            <\/p>\n",
      "        <\/div>\n",
      "        <![endif]-->\n",
      "\n",
      "        <!-- Sister Site Links -->\n",
      "        <div id=\"top\" class=\"top-bar do-not-print\">\n",
      "\n",
      "            <nav class=\"meta-navigation container\" role=\"navigation\">\n",
      "\n",
      "                \n",
      "                <div class=\"skip-link screen-reader-text\">\n",
      "                    <a href=\"#content\" title=\"Skip to content\">Skip to content<\/a>\n",
      "                <\/div>\n",
      "\n",
      "                \n",
      "                <a id=\"close-python-network\" class=\"jump-link\" href=\"#python-network\" aria-hidden=\"true\">\n",
      "                    <span aria-hidden=\"true\" class=\"icon-arrow-down\"><span>&#9660;<\/span><\/span> Close\n",
      "                <\/a>\n",
      "\n",
      "                \n",
      "\n",
      "<ul class=\"menu\" role=\"tree\">\n",
      "    \n",
      "    <li class=\"python-meta current_item selectedcurrent_branch selected\">\n",
      "        <a href=\"\/\" title=\"The Python Programming Language\" class=\"current_item selectedcurrent_branch selected\">Python<\/a>\n",
      "    <\/li>\n",
      "    \n",
      "    <li class=\"psf-meta \">\n",
      "        <a href=\"https:\/\/www.python.org\/psf\/\" title=\"The Python Software Foundation\" >PSF<\/a>\n",
      "    <\/li>\n",
      "    \n",
      "    <li class=\"docs-meta \">\n",
      "        <a href=\"https:\/\/docs.python.org\" title=\"Python Documentation\" >Docs<\/a>\n",
      "    <\/li>\n",
      "    \n",
      "    <li class=\"pypi-meta \">\n",
      "        <a href=\"https:\/\/pypi.org\/\" title=\"Python Package Index\" >PyPI<\/a>\n",
      "    <\/li>\n",
      "    \n",
      "    <li class=\"jobs-meta \">\n",
      "        <a href=\"\/jobs\/\" title=\"Python Job Board\" >Jobs<\/a>\n",
      "    <\/li>\n",
      "    \n",
      "    <li class=\"shop-meta \">\n",
      "        <a href=\"\/community-landing\/\"  >Community<\/a>\n",
      "    <\/li>\n",
      "    \n",
      "<\/ul>\n",
      "\n",
      "\n",
      "                <a id=\"python-network\" class=\"jump-link\" href=\"#top\" aria-hidden=\"true\">\n",
      "                    <span aria-hidden=\"true\" class=\"icon-arrow-up\"><span>&#9650;<\/span><\/span> The Python Network\n",
      "                <\/a>\n",
      "\n",
      "            <\/nav>\n",
      "\n",
      "        <\/div>\n",
      "\n",
      "        <!-- Header elements -->\n",
      "        <header class=\"main-header\" role=\"banner\">\n",
      "            <div class=\"container\">\n",
      "\n",
      "                <h1 class=\"site-headline\">\n",
      "                    <a href=\"\/\"><img class=\"python-logo\" src=\"\/static\/img\/python-logo.png\" alt=\"python&trade;\"><\/a>\n",
      "                <\/h1>\n",
      "\n",
      "                <div class=\"options-bar-container do-not-print\">\n",
      "                    <a href=\"https:\/\/psfmember.org\/civicrm\/contribute\/transact?reset=1&id=2\" class=\"donate-button\">Donate<\/a>\n",
      "                    <div class=\"options-bar\">\n",
      "                        \n",
      "                        <a id=\"site-map-link\" class=\"jump-to-menu\" href=\"#site-map\"><span class=\"menu-icon\">&equiv;<\/span> Menu<\/a><form class=\"search-the-site\" action=\"\/search\/\" method=\"get\">\n",
      "                            <fieldset title=\"Search Python.org\">\n",
      "\n",
      "                                <span aria-hidden=\"true\" class=\"icon-search\"><\/span>\n",
      "\n",
      "                                <label class=\"screen-reader-text\" for=\"id-search-field\">Search This Site<\/label>\n",
      "                                <input id=\"id-search-field\" name=\"q\" type=\"search\" role=\"textbox\" class=\"search-field\" placeholder=\"Search\" value=\"\" tabindex=\"1\">\n",
      "\n",
      "                                <button type=\"submit\" name=\"submit\" id=\"submit\" class=\"search-button\" title=\"Submit this Search\" tabindex=\"3\">\n",
      "                                    GO\n",
      "                                <\/button>\n",
      "\n",
      "                                \n",
      "                                <!--[if IE]><input type=\"text\" style=\"display: none;\" disabled=\"disabled\" size=\"1\" tabindex=\"4\"><![endif]-->\n",
      "\n",
      "                            <\/fieldset>\n",
      "                        <\/form><span class=\"breaker\"><\/span><div class=\"adjust-font-size\" aria-hidden=\"true\">\n",
      "                            <ul class=\"navigation menu\" aria-label=\"Adjust Text Size on Page\">\n",
      "                                <li class=\"tier-1 last\" aria-haspopup=\"true\">\n",
      "                                    <a href=\"#\" class=\"action-trigger\"><strong><small>A<\/small> A<\/strong><\/a>\n",
      "                                    <ul class=\"subnav menu\">\n",
      "                                        <li class=\"tier-2 element-1\" role=\"treeitem\"><a class=\"text-shrink\" title=\"Make Text Smaller\" href=\"javascript:;\">Smaller<\/a><\/li>\n",
      "                                        <li class=\"tier-2 element-2\" role=\"treeitem\"><a class=\"text-grow\" title=\"Make Text Larger\" href=\"javascript:;\">Larger<\/a><\/li>\n",
      "                                        <li class=\"tier-2 element-3\" role=\"treeitem\"><a class=\"text-reset\" title=\"Reset any font size changes I have made\" href=\"javascript:;\">Reset<\/a><\/li>\n",
      "                                    <\/ul>\n",
      "                                <\/li>\n",
      "                            <\/ul>\n",
      "                        <\/div><div class=\"winkwink-nudgenudge\">\n",
      "                            <ul class=\"navigation menu\" aria-label=\"Social Media Navigation\">\n",
      "                                <li class=\"tier-1 last\" aria-haspopup=\"true\">\n",
      "                                    <a href=\"#\" class=\"action-trigger\">Socialize<\/a>\n",
      "                                    <ul class=\"subnav menu\">\n",
      "                                        <li class=\"tier-2 element-1\" role=\"treeitem\"><a href=\"https:\/\/www.linkedin.com\/company\/python-software-foundation\/\"><i aria-hidden=\"true\" class=\"fa fa-linkedin-square\"><\/i>LinkedIn<\/a><\/li>\n",
      "                                        <li class=\"tier-2 element-2\" role=\"treeitem\"><a href=\"https:\/\/fosstodon.org\/@ThePSF\"><span aria-hidden=\"true\" class=\"icon-mastodon\"><\/span>Mastodon<\/a><\/li>\n",
      "                                        <li class=\"tier-2 element-3\" role=\"treeitem\"><a href=\"\/community\/irc\/\"><span aria-hidden=\"true\" class=\"icon-freenode\"><\/span>Chat on IRC<\/a><\/li>\n",
      "                                        <li class=\"tier-2 element-4\" role=\"treeitem\"><a href=\"https:\/\/twitter.com\/ThePSF\"><span aria-hidden=\"true\" class=\"icon-twitter\"><\/span>Twitter<\/a><\/li>\n",
      "                                    <\/ul>\n",
      "                                <\/li>\n",
      "                            <\/ul>\n",
      "                        <\/div>\n",
      "                        <span data-html-include=\"\/authenticated\"><\/span>\n",
      "                    <\/div><!-- end options-bar -->\n",
      "                <\/div>\n",
      "\n",
      "                <nav id=\"mainnav\" class=\"python-navigation main-navigation do-not-print\" role=\"navigation\">\n",
      "                    \n",
      "                        \n",
      "<ul class=\"navigation menu\" role=\"menubar\" aria-label=\"Main Navigation\">\n",
      "  \n",
      "    \n",
      "    \n",
      "    <li id=\"about\" class=\"tier-1 element-1  \" aria-haspopup=\"true\">\n",
      "        <a href=\"\/about\/\" title=\"\" class=\"\">About<\/a>\n",
      "        \n",
      "            \n",
      "\n",
      "<ul class=\"subnav menu\" role=\"menu\" aria-hidden=\"true\">\n",
      "    \n",
      "        <li class=\"tier-2 element-1\" role=\"treeitem\"><a href=\"\/about\/apps\/\" title=\"\">Applications<\/a><\/li>\n",
      "    \n",
      "        <li class=\"tier-2 element-2\" role=\"treeitem\"><a href=\"\/about\/quotes\/\" title=\"\">Quotes<\/a><\/li>\n",
      "    \n",
      "        <li class=\"tier-2 element-3\" role=\"treeitem\"><a href=\"\/about\/gettingstarted\/\" title=\"\">Getting Started<\/a><\/li>\n",
      "    \n",
      "        <li class=\"tier-2 element-4\" role=\"treeitem\"><a href=\"\/about\/help\/\" title=\"\">Help<\/a><\/li>\n",
      "    \n",
      "        <li class=\"tier-2 element-5\" role=\"treeitem\"><a href=\"http:\/\/brochure.getpython.info\/\" title=\"\">Python Brochure<\/a><\/li>\n",
      "    \n",
      "<\/ul>\n",
      "\n",
      "        \n",
      "    <\/li>\n",
      "    \n",
      "    \n",
      "    \n",
      "    <li id=\"downloads\" class=\"tier-1 element-2  \" aria-haspopup=\"true\">\n",
      "        <a href=\"\/downloads\/\" title=\"\" class=\"\">Downloads<\/a>\n",
      "        \n",
      "            \n",
      "\n",
      "<ul class=\"subnav menu\" role=\"menu\" aria-hidden=\"true\">\n",
      "    \n",
      "        <li class=\"tier-2 element-1\" role=\"treeitem\"><a href=\"\/downloads\/\" title=\"\">All releases<\/a><\/li>\n",
      "    \n",
      "        <li class=\"tier-2 element-2\" role=\"treeitem\"><a href=\"\/downloads\/source\/\" title=\"\">Source code<\/a><\/li>\n",
      "    \n",
      "        <li class=\"tier-2 element-3\" role=\"treeitem\"><a href=\"\/downloads\/windows\/\" title=\"\">Windows<\/a><\/li>\n",
      "    \n",
      "        <li class=\"tier-2 element-4\" role=\"treeitem\"><a href=\"\/downloads\/macos\/\" title=\"\">macOS<\/a><\/li>\n",
      "    \n",
      "        <li class=\"tier-2 element-5\" role=\"treeitem\"><a href=\"\/download\/other\/\" title=\"\">Other Platforms<\/a><\/li>\n",
      "    \n",
      "        <li class=\"tier-2 element-6\" role=\"treeitem\"><a href=\"https:\/\/docs.python.org\/3\/license.html\" title=\"\">License<\/a><\/li>\n",
      "    \n",
      "        <li class=\"tier-2 element-7\" role=\"treeitem\"><a href=\"\/download\/alternatives\" title=\"\">Alternative Implementations<\/a><\/li>\n",
      "    \n",
      "<\/ul>\n",
      "\n",
      "        \n",
      "    <\/li>\n",
      "    \n",
      "    \n",
      "    \n",
      "    <li id=\"documentation\" class=\"tier-1 element-3  \" aria-haspopup=\"true\">\n",
      "        <a href=\"\/doc\/\" title=\"\" class=\"\">Documentation<\/a>\n",
      "        \n",
      "            \n",
      "\n",
      "<ul class=\"subnav menu\" role=\"menu\" aria-hidden=\"true\">\n",
      "    \n",
      "        <li class=\"tier-2 element-1\" role=\"treeitem\"><a href=\"\/doc\/\" title=\"\">Docs<\/a><\/li>\n",
      "    \n",
      "        <li class=\"tier-2 element-2\" role=\"treeitem\"><a href=\"\/doc\/av\" title=\"\">Audio\/Visual Talks<\/a><\/li>\n",
      "    \n",
      "        <li class=\"tier-2 element-3\" role=\"treeitem\"><a href=\"https:\/\/wiki.python.org\/moin\/BeginnersGuide\" title=\"\">Beginner&#39;s Guide<\/a><\/li>\n",
      "    \n",
      "        <li class=\"tier-2 element-4\" role=\"treeitem\"><a href=\"https:\/\/devguide.python.org\/\" title=\"\">Developer&#39;s Guide<\/a><\/li>\n",
      "    \n",
      "        <li class=\"tier-2 element-5\" role=\"treeitem\"><a href=\"https:\/\/docs.python.org\/faq\/\" title=\"\">FAQ<\/a><\/li>\n",
      "    \n",
      "        <li class=\"tier-2 element-6\" role=\"treeitem\"><a href=\"http:\/\/wiki.python.org\/moin\/Languages\" title=\"\">Non-English Docs<\/a><\/li>\n",
      "    \n",
      "        <li class=\"tier-2 element-7\" role=\"treeitem\"><a href=\"https:\/\/peps.python.org\" title=\"\">PEP Index<\/a><\/li>\n",
      "    \n",
      "        <li class=\"tier-2 element-8\" role=\"treeitem\"><a href=\"https:\/\/wiki.python.org\/moin\/PythonBooks\" title=\"\">Python Books<\/a><\/li>\n",
      "    \n",
      "        <li class=\"tier-2 element-9\" role=\"treeitem\"><a href=\"\/doc\/essays\/\" title=\"\">Python Essays<\/a><\/li>\n",
      "    \n",
      "<\/ul>\n",
      "\n",
      "        \n",
      "    <\/li>\n",
      "    \n",
      "    \n",
      "    \n",
      "    <li id=\"community\" class=\"tier-1 element-4  \" aria-haspopup=\"true\">\n",
      "        <a href=\"\/community\/\" title=\"\" class=\"\">Community<\/a>\n",
      "        \n",
      "            \n",
      "\n",
      "<ul class=\"subnav menu\" role=\"menu\" aria-hidden=\"true\">\n",
      "    \n",
      "        <li class=\"tier-2 element-1\" role=\"treeitem\"><a href=\"\/community\/diversity\/\" title=\"\">Diversity<\/a><\/li>\n",
      "    \n",
      "        <li class=\"tier-2 element-2\" role=\"treeitem\"><a href=\"\/community\/lists\/\" title=\"\">Mailing Lists<\/a><\/li>\n",
      "    \n",
      "        <li class=\"tier-2 element-3\" role=\"treeitem\"><a href=\"\/community\/irc\/\" title=\"\">IRC<\/a><\/li>\n",
      "    \n",
      "        <li class=\"tier-2 element-4\" role=\"treeitem\"><a href=\"\/community\/forums\/\" title=\"\">Forums<\/a><\/li>\n",
      "    \n",
      "        <li class=\"tier-2 element-5\" role=\"treeitem\"><a href=\"\/psf\/annual-report\/2021\/\" title=\"\">PSF Annual Impact Report<\/a><\/li>\n",
      "    \n",
      "        <li class=\"tier-2 element-6\" role=\"treeitem\"><a href=\"\/community\/workshops\/\" title=\"\">Python Conferences<\/a><\/li>\n",
      "    \n",
      "        <li class=\"tier-2 element-7\" role=\"treeitem\"><a href=\"\/community\/sigs\/\" title=\"\">Special Interest Groups<\/a><\/li>\n",
      "    \n",
      "        <li class=\"tier-2 element-8\" role=\"treeitem\"><a href=\"\/community\/logos\/\" title=\"\">Python Logo<\/a><\/li>\n",
      "    \n",
      "        <li class=\"tier-2 element-9\" role=\"treeitem\"><a href=\"https:\/\/wiki.python.org\/moin\/\" title=\"\">Python Wiki<\/a><\/li>\n",
      "    \n",
      "        <li class=\"tier-2 element-10\" role=\"treeitem\"><a href=\"\/psf\/conduct\/\" title=\"\">Code of Conduct<\/a><\/li>\n",
      "    \n",
      "        <li class=\"tier-2 element-11\" role=\"treeitem\"><a href=\"\/community\/awards\" title=\"\">Community Awards<\/a><\/li>\n",
      "    \n",
      "        <li class=\"tier-2 element-12\" role=\"treeitem\"><a href=\"\/psf\/get-involved\/\" title=\"\">Get Involved<\/a><\/li>\n",
      "    \n",
      "        <li class=\"tier-2 element-13\" role=\"treeitem\"><a href=\"\/psf\/community-stories\/\" title=\"\">Shared Stories<\/a><\/li>\n",
      "    \n",
      "<\/ul>\n",
      "\n",
      "        \n",
      "    <\/li>\n",
      "    \n",
      "    \n",
      "    \n",
      "    <li id=\"success-stories\" class=\"tier-1 element-5  \" aria-haspopup=\"true\">\n",
      "        <a href=\"\/success-stories\/\" title=\"success-stories\" class=\"\">Success Stories<\/a>\n",
      "        \n",
      "            \n",
      "\n",
      "<ul class=\"subnav menu\" role=\"menu\" aria-hidden=\"true\">\n",
      "    \n",
      "        <li class=\"tier-2 element-1\" role=\"treeitem\"><a href=\"\/success-stories\/category\/arts\/\" title=\"\">Arts<\/a><\/li>\n",
      "    \n",
      "        <li class=\"tier-2 element-2\" role=\"treeitem\"><a href=\"\/success-stories\/category\/business\/\" title=\"\">Business<\/a><\/li>\n",
      "    \n",
      "        <li class=\"tier-2 element-3\" role=\"treeitem\"><a href=\"\/success-stories\/category\/education\/\" title=\"\">Education<\/a><\/li>\n",
      "    \n",
      "        <li class=\"tier-2 element-4\" role=\"treeitem\"><a href=\"\/success-stories\/category\/engineering\/\" title=\"\">Engineering<\/a><\/li>\n",
      "    \n",
      "        <li class=\"tier-2 element-5\" role=\"treeitem\"><a href=\"\/success-stories\/category\/government\/\" title=\"\">Government<\/a><\/li>\n",
      "    \n",
      "        <li class=\"tier-2 element-6\" role=\"treeitem\"><a href=\"\/success-stories\/category\/scientific\/\" title=\"\">Scientific<\/a><\/li>\n",
      "    \n",
      "        <li class=\"tier-2 element-7\" role=\"treeitem\"><a href=\"\/success-stories\/category\/software-development\/\" title=\"\">Software Development<\/a><\/li>\n",
      "    \n",
      "<\/ul>\n",
      "\n",
      "        \n",
      "    <\/li>\n",
      "    \n",
      "    \n",
      "    \n",
      "    <li id=\"news\" class=\"tier-1 element-6  \" aria-haspopup=\"true\">\n",
      "        <a href=\"\/blogs\/\" title=\"News from around the Python world\" class=\"\">News<\/a>\n",
      "        \n",
      "            \n",
      "\n",
      "<ul class=\"subnav menu\" role=\"menu\" aria-hidden=\"true\">\n",
      "    \n",
      "        <li class=\"tier-2 element-1\" role=\"treeitem\"><a href=\"\/blogs\/\" title=\"Python Insider Blog Posts\">Python News<\/a><\/li>\n",
      "    \n",
      "        <li class=\"tier-2 element-2\" role=\"treeitem\"><a href=\"\/psf\/newsletter\/\" title=\"Python Software Foundation Newsletter\">PSF Newsletter<\/a><\/li>\n",
      "    \n",
      "        <li class=\"tier-2 element-3\" role=\"treeitem\"><a href=\"http:\/\/pyfound.blogspot.com\/\" title=\"PSF Blog\">PSF News<\/a><\/li>\n",
      "    \n",
      "        <li class=\"tier-2 element-4\" role=\"treeitem\"><a href=\"http:\/\/pycon.blogspot.com\/\" title=\"PyCon Blog\">PyCon US News<\/a><\/li>\n",
      "    \n",
      "        <li class=\"tier-2 element-5\" role=\"treeitem\"><a href=\"http:\/\/planetpython.org\/\" title=\"Planet Python\">News from the Community<\/a><\/li>\n",
      "    \n",
      "<\/ul>\n",
      "\n",
      "        \n",
      "    <\/li>\n",
      "    \n",
      "    \n",
      "    \n",
      "    <li id=\"events\" class=\"tier-1 element-7  \" aria-haspopup=\"true\">\n",
      "        <a href=\"\/events\/\" title=\"\" class=\"\">Events<\/a>\n",
      "        \n",
      "            \n",
      "\n",
      "<ul class=\"subnav menu\" role=\"menu\" aria-hidden=\"true\">\n",
      "    \n",
      "        <li class=\"tier-2 element-1\" role=\"treeitem\"><a href=\"\/events\/python-events\/\" title=\"\">Python Events<\/a><\/li>\n",
      "    \n",
      "        <li class=\"tier-2 element-2\" role=\"treeitem\"><a href=\"\/events\/python-user-group\/\" title=\"\">User Group Events<\/a><\/li>\n",
      "    \n",
      "        <li class=\"tier-2 element-3\" role=\"treeitem\"><a href=\"\/events\/python-events\/past\/\" title=\"\">Python Events Archive<\/a><\/li>\n",
      "    \n",
      "        <li class=\"tier-2 element-4\" role=\"treeitem\"><a href=\"\/events\/python-user-group\/past\/\" title=\"\">User Group Events Archive<\/a><\/li>\n",
      "    \n",
      "        <li class=\"tier-2 element-5\" role=\"treeitem\"><a href=\"https:\/\/wiki.python.org\/moin\/PythonEventsCalendar#Submitting_an_Event\" title=\"\">Submit an Event<\/a><\/li>\n",
      "    \n",
      "<\/ul>\n",
      "\n",
      "        \n",
      "    <\/li>\n",
      "    \n",
      "    \n",
      "    \n",
      "    \n",
      "  \n",
      "<\/ul>\n",
      "\n",
      "                    \n",
      "                <\/nav>\n",
      "\n",
      "                <div class=\"header-banner \"> <!-- for optional \"do-not-print\" class -->\n",
      "                    \n",
      "        <div id=\"dive-into-python\" class=\"flex-slideshow slideshow\">\n",
      "\n",
      "            <ul class=\"launch-shell menu\" id=\"launch-shell\">\n",
      "                <li>\n",
      "                    <a class=\"button prompt\" id=\"start-shell\" data-shell-container=\"#dive-into-python\" href=\"\/shell\/\">&gt;_\n",
      "                        <span class=\"message\">Launch Interactive Shell<\/span>\n",
      "                    <\/a>\n",
      "                <\/li>\n",
      "            <\/ul>\n",
      "\n",
      "            <ul class=\"slides menu\">\n",
      "                \n",
      "                <li>\n",
      "                    <div class=\"slide-code\"><pre><code><span class=\"comment\"># Python 3: Fibonacci series up to n<\/span>\r\n",
      ">>> def fib(n):\r\n",
      ">>>     a, b = 0, 1\r\n",
      ">>>     while a &lt; n:\r\n",
      ">>>         print(a, end=' ')\r\n",
      ">>>         a, b = b, a+b\r\n",
      ">>>     print()\r\n",
      ">>> fib(1000)\r\n",
      "<span class=\"output\">0 1 1 2 3 5 8 13 21 34 55 89 144 233 377 610 987<\/span><\/code><\/pre><\/div>\n",
      "                    <div class=\"slide-copy\"><h1>Functions Defined<\/h1>\r\n",
      "<p>The core of extensible programming is defining functions. Python allows mandatory and optional arguments, keyword arguments, and even arbitrary argument lists. <a href=\"\/\/docs.python.org\/3\/tutorial\/controlflow.html#defining-functions\">More about defining functions in Python&nbsp;3<\/a><\/p><\/div>\n",
      "                <\/li>\n",
      "                \n",
      "                <li>\n",
      "                    <div class=\"slide-code\"><pre><code><span class=\"comment\"># Python 3: List comprehensions<\/span>\r\n",
      ">>> fruits = ['Banana', 'Apple', 'Lime']\r\n",
      ">>> loud_fruits = [fruit.upper() for fruit in fruits]\r\n",
      ">>> print(loud_fruits)\r\n",
      "<span class=\"output\">['BANANA', 'APPLE', 'LIME']<\/span>\r\n",
      "\r\n",
      "<span class=\"comment\"># List and the enumerate function<\/span>\r\n",
      ">>> list(enumerate(fruits))\r\n",
      "<span class=\"output\">[(0, 'Banana'), (1, 'Apple'), (2, 'Lime')]<\/span><\/code><\/pre><\/div>\n",
      "                    <div class=\"slide-copy\"><h1>Compound Data Types<\/h1>\r\n",
      "<p>Lists (known as arrays in other languages) are one of the compound data types that Python understands. Lists can be indexed, sliced and manipulated with other built-in functions. <a href=\"\/\/docs.python.org\/3\/tutorial\/introduction.html#lists\">More about lists in Python&nbsp;3<\/a><\/p><\/div>\n",
      "                <\/li>\n",
      "                \n",
      "                <li>\n",
      "                    <div class=\"slide-code\"><pre><code><span class=\"comment\"># Python 3: Simple arithmetic<\/span>\r\n",
      ">>> 1 \/ 2\r\n",
      "<span class=\"output\">0.5<\/span>\r\n",
      ">>> 2 ** 3\r\n",
      "<span class=\"output\">8<\/span>\r\n",
      ">>> 17 \/ 3  <span class=\"comment\"># classic division returns a float<\/span>\r\n",
      "<span class=\"output\">5.666666666666667<\/span>\r\n",
      ">>> 17 \/\/ 3  <span class=\"comment\"># floor division<\/span>\r\n",
      "<span class=\"output\">5<\/span><\/code><\/pre><\/div>\n",
      "                    <div class=\"slide-copy\"><h1>Intuitive Interpretation<\/h1>\r\n",
      "<p>Calculations are simple with Python, and expression syntax is straightforward: the operators <code>+<\/code>, <code>-<\/code>, <code>*<\/code> and <code>\/<\/code> work as expected; parentheses <code>()<\/code> can be used for grouping. <a href=\"http:\/\/docs.python.org\/3\/tutorial\/introduction.html#using-python-as-a-calculator\">More about simple math functions in Python&nbsp;3<\/a>.<\/p><\/div>\n",
      "                <\/li>\n",
      "                \n",
      "                <li>\n",
      "                    <div class=\"slide-code\"><pre><code><span class=\"comment\"># For loop on a list<\/span>\r\n",
      ">>> numbers = [2, 4, 6, 8]\r\n",
      ">>> product = 1\r\n",
      ">>> for number in numbers:\r\n",
      "...    product = product * number\r\n",
      "... \r\n",
      ">>> print('The product is:', product)\r\n",
      "<span class=\"output\">The product is: 384<\/span><\/code><\/pre><\/div>\n",
      "                    <div class=\"slide-copy\"><h1>All the Flow You&rsquo;d Expect<\/h1>\r\n",
      "<p>Python knows the usual control flow statements that other languages speak &mdash; <code>if<\/code>, <code>for<\/code>, <code>while<\/code> and <code>range<\/code> &mdash; with some of its own twists, of course. <a href=\"\/\/docs.python.org\/3\/tutorial\/controlflow.html\">More control flow tools in Python&nbsp;3<\/a><\/p><\/div>\n",
      "                <\/li>\n",
      "                \n",
      "                <li>\n",
      "                    <div class=\"slide-code\"><pre><code><span class=\"comment\"># Simple output (with Unicode)<\/span>\r\n",
      ">>> print(\"Hello, I'm Python!\")\r\n",
      "<span class=\"output\">Hello, I'm Python!<\/span>\r\n",
      "<span class=\"comment\"># Input, assignment<\/span>\r\n",
      ">>> name = input('What is your name?\\n')\r\n",
      "<span class=\"output\">What is your name?\r\n",
      "Python<\/span>\r\n",
      ">>> print(f'Hi, {name}.')\r\n",
      "<span class=\"output\">Hi, Python.<\/span><\/code>\r\n",
      "<\/pre><\/div>\n",
      "                    <div class=\"slide-copy\"><h1>Quick &amp; Easy to Learn<\/h1>\r\n",
      "<p>Experienced programmers in any other language can pick up Python very quickly, and beginners find the clean syntax and indentation structure easy to learn. <a href=\"\/\/docs.python.org\/3\/tutorial\/\">Whet your appetite<\/a> with our Python&nbsp;3 overview.<\/p><\/div>\n",
      "                <\/li>\n",
      "                \n",
      "            <\/ul>\n",
      "        <\/div>\n",
      "\n",
      "\n",
      "                <\/div>\n",
      "\n",
      "                \n",
      "        <div class=\"introduction\">\n",
      "            <p>Python is a programming language that lets you work quickly <span class=\"breaker\"><\/span>and integrate systems more effectively. <a class=\"readmore\" href=\"\/doc\/\">Learn More<\/a><\/p>\n",
      "        <\/div>\n",
      "\n",
      "\n",
      "             <\/div><!-- end .container -->\n",
      "        <\/header>\n",
      "\n",
      "        <div id=\"content\" class=\"content-wrapper\">\n",
      "            <!-- Main Content Column -->\n",
      "            <div class=\"container\">\n",
      "\n",
      "                <section class=\"main-content \" role=\"main\">\n",
      "\n",
      "                    \n",
      "                    \n",
      "\n",
      "                    \n",
      "\n",
      "                    \n",
      "\n",
      "                \n",
      "\n",
      "                <div class=\"row\">\n",
      "\n",
      "                    <div class=\"small-widget get-started-widget\">\n",
      "                        <h2 class=\"widget-title\"><span aria-hidden=\"true\" class=\"icon-get-started\"><\/span>Get Started<\/h2>\r\n",
      "<p>Whether you're new to programming or an experienced developer, it's easy to learn and use Python.<\/p>\r\n",
      "<p><a href=\"\/about\/gettingstarted\/\">Start with our Beginner&rsquo;s Guide<\/a><\/p>\n",
      "                    <\/div>\n",
      "\n",
      "                    <div class=\"small-widget download-widget\">\n",
      "                        <h2 class=\"widget-title\"><span aria-hidden=\"true\" class=\"icon-download\"><\/span>Download<\/h2>\n",
      "<p>Python source code and installers are available for download for all versions!<\/p>\n",
      "<p>Latest: <a href=\"\/downloads\/release\/python-3122\/\">Python 3.12.2<\/a><\/p>\n",
      "                    <\/div>\n",
      "\n",
      "                    <div class=\"small-widget documentation-widget\">\n",
      "                        <h2 class=\"widget-title\"><span aria-hidden=\"true\" class=\"icon-documentation\"><\/span>Docs<\/h2>\r\n",
      "<p>Documentation for Python's standard library, along with tutorials and guides, are available online.<\/p>\r\n",
      "<p><a href=\"https:\/\/docs.python.org\">docs.python.org<\/a><\/p>\n",
      "                    <\/div>\n",
      "\n",
      "                    <div class=\"small-widget jobs-widget last\">\n",
      "                        <h2 class=\"widget-title\"><span aria-hidden=\"true\" class=\"icon-jobs\"><\/span>Jobs<\/h2>\r\n",
      "<p>Looking for work or have a Python related position that you're trying to hire for? Our <strong>relaunched community-run job board<\/strong> is the place to go.<\/p>\r\n",
      "<p><a href=\"\/\/jobs.python.org\">jobs.python.org<\/a><\/p>\n",
      "                    <\/div>\n",
      "\n",
      "                <\/div>\n",
      "\n",
      "                <div class=\"list-widgets row\">\n",
      "\n",
      "                    <div class=\"medium-widget blog-widget\">\n",
      "                        \n",
      "                        <div class=\"shrubbery\">\n",
      "                        \n",
      "                            <h2 class=\"widget-title\"><span aria-hidden=\"true\" class=\"icon-news\"><\/span>Latest News<\/h2>\n",
      "                            <p class=\"give-me-more\"><a href=\"https:\/\/blog.python.org\" title=\"More News\">More<\/a><\/p>\n",
      "                            \n",
      "                            <ul class=\"menu\">\n",
      "                                \n",
      "                                \n",
      "                                <li>\n",
      "<time datetime=\"2024-03-20T19:06:00.000002+00:00\"><span class=\"say-no-more\">2024-<\/span>03-20<\/time>\n",
      " <a href=\"https:\/\/pyfound.blogspot.com\/2024\/03\/announcing-pypi-support-specialist.html\">Announcing a PyPI Support Specialist<\/a><\/li>\n",
      "                                \n",
      "                                <li>\n",
      "<time datetime=\"2024-03-20T00:29:00.000002+00:00\"><span class=\"say-no-more\">2024-<\/span>03-20<\/time>\n",
      " <a href=\"https:\/\/pythoninsider.blogspot.com\/2024\/03\/python-31014-3919-and-3819-is-now.html\">Python 3.10.14, 3.9.19, and 3.8.19 is now available<\/a><\/li>\n",
      "                                \n",
      "                                <li>\n",
      "<time datetime=\"2024-03-13T00:01:00.000002+00:00\"><span class=\"say-no-more\">2024-<\/span>03-13<\/time>\n",
      " <a href=\"https:\/\/pythoninsider.blogspot.com\/2024\/03\/python-3130-alpha-5-is-now-available.html\">Python 3.13.0 alpha 5 is now available<\/a><\/li>\n",
      "                                \n",
      "                                <li>\n",
      "<time datetime=\"2024-02-29T16:37:00.000003+00:00\"><span class=\"say-no-more\">2024-<\/span>02-29<\/time>\n",
      " <a href=\"https:\/\/pyfound.blogspot.com\/2024\/02\/white-house-recommends-.html\">White House recommends use of memory-safe languages like Python<\/a><\/li>\n",
      "                                \n",
      "                                <li>\n",
      "<time datetime=\"2024-02-15T21:09:00.000003+00:00\"><span class=\"say-no-more\">2024-<\/span>02-15<\/time>\n",
      " <a href=\"https:\/\/pythoninsider.blogspot.com\/2024\/02\/python-3130-alpha-4-is-now-available.html\">Python 3.13.0 alpha 4 is now available<\/a><\/li>\n",
      "                                \n",
      "                            <\/ul>\n",
      "                        <\/div><!-- end .shrubbery -->\n",
      "\n",
      "                    <\/div>\n",
      "\n",
      "                    <div class=\"medium-widget event-widget last\">\n",
      "                        \n",
      "                        <div class=\"shrubbery\">\n",
      "                        \n",
      "                            <h2 class=\"widget-title\"><span aria-hidden=\"true\" class=\"icon-calendar\"><\/span>Upcoming Events<\/h2>\n",
      "                            <p class=\"give-me-more\"><a href=\"\/events\/calendars\/\" title=\"More Events\">More<\/a><\/p>\n",
      "                            \n",
      "                            <ul class=\"menu\">\n",
      "                                \n",
      "                                \n",
      "                                \n",
      "                                <li>\n",
      "<time datetime=\"2024-03-27T17:00:00+00:00\"><span class=\"say-no-more\">2024-<\/span>03-27<\/time>\n",
      " <a href=\"\/events\/python-user-group\/1705\/\">PyLadies Amsterdam: Global AI Bootcamp<\/a><\/li>\n",
      "                                \n",
      "                                \n",
      "                                \n",
      "                                <li>\n",
      "<time datetime=\"2024-03-29T00:00:00+00:00\"><span class=\"say-no-more\">2024-<\/span>03-29<\/time>\n",
      " <a href=\"\/events\/python-user-group\/1712\/\">PyCamp Spain 2024<\/a><\/li>\n",
      "                                \n",
      "                                \n",
      "                                \n",
      "                                <li>\n",
      "<time datetime=\"2024-03-29T17:00:00+00:00\"><span class=\"say-no-more\">2024-<\/span>03-29<\/time>\n",
      " <a href=\"\/events\/python-user-group\/1708\/\">PyLadies Amsterdam: Fine-tuning text-to-image diffusion models for personalization and subject-driven generation<\/a><\/li>\n",
      "                                \n",
      "                                \n",
      "                                \n",
      "                                <li>\n",
      "<time datetime=\"2024-04-02T00:00:00+00:00\"><span class=\"say-no-more\">2024-<\/span>04-02<\/time>\n",
      " <a href=\"\/events\/python-events\/1652\/\">PyCon Lithuania 2024<\/a><\/li>\n",
      "                                \n",
      "                                \n",
      "                                \n",
      "                                <li>\n",
      "<time datetime=\"2024-04-03T14:30:00+00:00\"><span class=\"say-no-more\">2024-<\/span>04-03<\/time>\n",
      " <a href=\"\/events\/python-user-group\/1714\/\">April Helsinki Python meetup - Wolt x Aiven<\/a><\/li>\n",
      "                                \n",
      "                                \n",
      "                            <\/ul>\n",
      "                        <\/div>\n",
      "\n",
      "                    <\/div>\n",
      "\n",
      "                <\/div>\n",
      "\n",
      "                <div class=\"row\">\n",
      "\n",
      "                    <div class=\"medium-widget success-stories-widget\">\n",
      "                        \n",
      "\n",
      "\n",
      "\n",
      "                        <div class=\"shrubbery\">\n",
      "                            \n",
      "\n",
      "                            <h2 class=\"widget-title\"><span aria-hidden=\"true\" class=\"icon-success-stories\"><\/span>Success Stories<\/h2>\n",
      "                            <p class=\"give-me-more\"><a href=\"\/success-stories\/\" title=\"More Success Stories\">More<\/a><\/p>\n",
      "\n",
      "                            \n",
      "                            <div class=\"success-story-item\" id=\"success-story-1215\">\n",
      "\n",
      "                            <blockquote>\n",
      "                                <a href=\"\/success-stories\/building-a-dependency-graph-of-our-python-codebase\/\">Prioritizing cutting-edge speed and supporting the rapid growth of Hudson River Trading’s codebase can have unintended effects that require innovative solutions. For those working on our Python codebase, this means addressing “code tangling,” the coupling of unrelated code through unintuitive import cycles. In this article, George Farcasiu, Noah Kim, Jacob Brugh, and Jiahao Li discuss how they mitigate the cost and time burden of this issue by creating new tools to analyze and untangle dependencies efficiently.<\/a>\n",
      "                            <\/blockquote>\n",
      "\n",
      "                            <table cellpadding=\"0\" cellspacing=\"0\" border=\"0\" width=\"100%\" class=\"quote-from\">\n",
      "                                <tbody>\n",
      "                                    <tr>\n",
      "                                        \n",
      "                                        <td><p><a href=\"\/success-stories\/building-a-dependency-graph-of-our-python-codebase\/\">Building a Dependency Graph of Our Python Codebase<\/a> <em>by George Farcasiu, Noah Kim, Jacon Brugh, Jiahao Li<\/em><\/p><\/td>\n",
      "                                    <\/tr>\n",
      "                                <\/tbody>\n",
      "                            <\/table>\n",
      "                            <\/div>\n",
      "                            \n",
      "\n",
      "                        <\/div><!-- end .shrubbery -->\n",
      "\n",
      "                    <\/div>\n",
      "\n",
      "                    <div class=\"medium-widget applications-widget last\">\n",
      "                        <div class=\"shrubbery\">\n",
      "                            <h2 class=\"widget-title\"><span aria-hidden=\"true\" class=\"icon-python\"><\/span>Use Python for&hellip;<\/h2>\r\n",
      "<p class=\"give-me-more\"><a href=\"\/about\/apps\" title=\"More Applications\">More<\/a><\/p>\r\n",
      "\r\n",
      "<ul class=\"menu\">\r\n",
      "    <li><b>Web Development<\/b>:\r\n",
      "        <span class=\"tag-wrapper\"><a class=\"tag\" href=\"http:\/\/www.djangoproject.com\/\">Django<\/a>, <a class=\"tag\" href=\"http:\/\/www.pylonsproject.org\/\">Pyramid<\/a>, <a class=\"tag\" href=\"http:\/\/bottlepy.org\">Bottle<\/a>, <a class=\"tag\" href=\"http:\/\/tornadoweb.org\">Tornado<\/a>, <a href=\"http:\/\/flask.pocoo.org\/\" class=\"tag\">Flask<\/a>, <a class=\"tag\" href=\"http:\/\/www.web2py.com\/\">web2py<\/a><\/span><\/li>\r\n",
      "    <li><b>GUI Development<\/b>:\r\n",
      "        <span class=\"tag-wrapper\"><a class=\"tag\" href=\"http:\/\/wiki.python.org\/moin\/TkInter\">tkInter<\/a>, <a class=\"tag\" href=\"https:\/\/wiki.gnome.org\/Projects\/PyGObject\">PyGObject<\/a>, <a class=\"tag\" href=\"http:\/\/www.riverbankcomputing.co.uk\/software\/pyqt\/intro\">PyQt<\/a>, <a class=\"tag\" href=\"https:\/\/wiki.qt.io\/PySide\">PySide<\/a>, <a class=\"tag\" href=\"https:\/\/kivy.org\/\">Kivy<\/a>, <a class=\"tag\" href=\"http:\/\/www.wxpython.org\/\">wxPython<\/a>, <a class=\"tag\" href=\"https:\/\/dearpygui.readthedocs.io\/en\/latest\/\">DearPyGui<\/a><\/span><\/li>\r\n",
      "    <li><b>Scientific and Numeric<\/b>:\r\n",
      "        <span class=\"tag-wrapper\">\r\n",
      "<a class=\"tag\" href=\"http:\/\/www.scipy.org\">SciPy<\/a>, <a class=\"tag\" href=\"http:\/\/pandas.pydata.org\/\">Pandas<\/a>, <a href=\"http:\/\/ipython.org\" class=\"tag\">IPython<\/a><\/span><\/li>\r\n",
      "    <li><b>Software Development<\/b>:\r\n",
      "        <span class=\"tag-wrapper\"><a class=\"tag\" href=\"http:\/\/buildbot.net\/\">Buildbot<\/a>, <a class=\"tag\" href=\"http:\/\/trac.edgewall.org\/\">Trac<\/a>, <a class=\"tag\" href=\"http:\/\/roundup.sourceforge.net\/\">Roundup<\/a><\/span><\/li>\r\n",
      "    <li><b>System Administration<\/b>:\r\n",
      "        <span class=\"tag-wrapper\"><a class=\"tag\" href=\"http:\/\/www.ansible.com\">Ansible<\/a>, <a class=\"tag\" href=\"https:\/\/saltproject.io\">Salt<\/a>, <a class=\"tag\" href=\"https:\/\/www.openstack.org\">OpenStack<\/a>, <a class=\"tag\" href=\"https:\/\/xon.sh\">xonsh<\/a><\/span><\/li>\r\n",
      "<\/ul>\n",
      "                        <\/div><!-- end .shrubbery -->\n",
      "                    <\/div>\n",
      "\n",
      "                <\/div>\n",
      "\n",
      "                \n",
      "                <div class=\"pep-widget\">\n",
      "\n",
      "                    <h2 class=\"widget-title\">\n",
      "                        <span class=\"prompt\">&gt;&gt;&gt;<\/span> <a href=\"\/dev\/peps\/\">Python Enhancement Proposals<span class=\"say-no-more\"> (PEPs)<\/span><\/a>: The future of Python<span class=\"say-no-more\"> is discussed here.<\/span>\n",
      "                        <a aria-hidden=\"true\" class=\"rss-link\" href=\"\/dev\/peps\/peps.rss\"><span class=\"icon-feed\"><\/span> RSS<\/a>\n",
      "                    <\/h2>\n",
      "\n",
      "\n",
      "                    \n",
      "                    \n",
      "                <\/div>\n",
      "\n",
      "                                <div class=\"psf-widget\">\n",
      "\n",
      "                    <div class=\"python-logo\"><\/div>\n",
      "                    \n",
      "                    <h2 class=\"widget-title\">\r\n",
      "    <span class=\"prompt\">&gt;&gt;&gt;<\/span> <a href=\"\/psf\/\">Python Software Foundation<\/a>\r\n",
      "<\/h2>\r\n",
      "<p>The mission of the Python Software Foundation is to promote, protect, and advance the Python programming language, and to support and facilitate the growth of a diverse and international community of Python programmers. <a class=\"readmore\" href=\"\/psf\/\">Learn more<\/a> <\/p>\r\n",
      "<p class=\"click-these\">\r\n",
      "    <a class=\"button\" href=\"\/users\/membership\/\">Become a Member<\/a>\r\n",
      "    <a class=\"button\" href=\"\/psf\/donations\/\">Donate to the PSF<\/a>\r\n",
      "<\/p>\n",
      "                <\/div>\n",
      "\n",
      "\n",
      "\n",
      "\n",
      "                <\/section>\n",
      "\n",
      "                \n",
      "                \n",
      "\n",
      "                \n",
      "                \n",
      "\n",
      "\n",
      "            <\/div><!-- end .container -->\n",
      "        <\/div><!-- end #content .content-wrapper -->\n",
      "\n",
      "        <!-- Footer and social media list -->\n",
      "        \n",
      "        <footer id=\"site-map\" class=\"main-footer\" role=\"contentinfo\">\n",
      "            <div class=\"main-footer-links\">\n",
      "                <div class=\"container\">\n",
      "\n",
      "                    \n",
      "                    <a id=\"back-to-top-1\" class=\"jump-link\" href=\"#python-network\"><span aria-hidden=\"true\" class=\"icon-arrow-up\"><span>&#9650;<\/span><\/span> Back to Top<\/a>\n",
      "\n",
      "                    \n",
      "\n",
      "<ul class=\"sitemap navigation menu do-not-print\" role=\"tree\" id=\"container\">\n",
      "    \n",
      "    <li class=\"tier-1 element-1\">\n",
      "        <a href=\"\/about\/\" >About<\/a>\n",
      "        \n",
      "            \n",
      "\n",
      "<ul class=\"subnav menu\">\n",
      "    \n",
      "        <li class=\"tier-2 element-1\" role=\"treeitem\"><a href=\"\/about\/apps\/\" title=\"\">Applications<\/a><\/li>\n",
      "    \n",
      "        <li class=\"tier-2 element-2\" role=\"treeitem\"><a href=\"\/about\/quotes\/\" title=\"\">Quotes<\/a><\/li>\n",
      "    \n",
      "        <li class=\"tier-2 element-3\" role=\"treeitem\"><a href=\"\/about\/gettingstarted\/\" title=\"\">Getting Started<\/a><\/li>\n",
      "    \n",
      "        <li class=\"tier-2 element-4\" role=\"treeitem\"><a href=\"\/about\/help\/\" title=\"\">Help<\/a><\/li>\n",
      "    \n",
      "        <li class=\"tier-2 element-5\" role=\"treeitem\"><a href=\"http:\/\/brochure.getpython.info\/\" title=\"\">Python Brochure<\/a><\/li>\n",
      "    \n",
      "<\/ul>\n",
      "\n",
      "        \n",
      "    <\/li>\n",
      "    \n",
      "    <li class=\"tier-1 element-2\">\n",
      "        <a href=\"\/downloads\/\" >Downloads<\/a>\n",
      "        \n",
      "            \n",
      "\n",
      "<ul class=\"subnav menu\">\n",
      "    \n",
      "        <li class=\"tier-2 element-1\" role=\"treeitem\"><a href=\"\/downloads\/\" title=\"\">All releases<\/a><\/li>\n",
      "    \n",
      "        <li class=\"tier-2 element-2\" role=\"treeitem\"><a href=\"\/downloads\/source\/\" title=\"\">Source code<\/a><\/li>\n",
      "    \n",
      "        <li class=\"tier-2 element-3\" role=\"treeitem\"><a href=\"\/downloads\/windows\/\" title=\"\">Windows<\/a><\/li>\n",
      "    \n",
      "        <li class=\"tier-2 element-4\" role=\"treeitem\"><a href=\"\/downloads\/macos\/\" title=\"\">macOS<\/a><\/li>\n",
      "    \n",
      "        <li class=\"tier-2 element-5\" role=\"treeitem\"><a href=\"\/download\/other\/\" title=\"\">Other Platforms<\/a><\/li>\n",
      "    \n",
      "        <li class=\"tier-2 element-6\" role=\"treeitem\"><a href=\"https:\/\/docs.python.org\/3\/license.html\" title=\"\">License<\/a><\/li>\n",
      "    \n",
      "        <li class=\"tier-2 element-7\" role=\"treeitem\"><a href=\"\/download\/alternatives\" title=\"\">Alternative Implementations<\/a><\/li>\n",
      "    \n",
      "<\/ul>\n",
      "\n",
      "        \n",
      "    <\/li>\n",
      "    \n",
      "    <li class=\"tier-1 element-3\">\n",
      "        <a href=\"\/doc\/\" >Documentation<\/a>\n",
      "        \n",
      "            \n",
      "\n",
      "<ul class=\"subnav menu\">\n",
      "    \n",
      "        <li class=\"tier-2 element-1\" role=\"treeitem\"><a href=\"\/doc\/\" title=\"\">Docs<\/a><\/li>\n",
      "    \n",
      "        <li class=\"tier-2 element-2\" role=\"treeitem\"><a href=\"\/doc\/av\" title=\"\">Audio\/Visual Talks<\/a><\/li>\n",
      "    \n",
      "        <li class=\"tier-2 element-3\" role=\"treeitem\"><a href=\"https:\/\/wiki.python.org\/moin\/BeginnersGuide\" title=\"\">Beginner&#39;s Guide<\/a><\/li>\n",
      "    \n",
      "        <li class=\"tier-2 element-4\" role=\"treeitem\"><a href=\"https:\/\/devguide.python.org\/\" title=\"\">Developer&#39;s Guide<\/a><\/li>\n",
      "    \n",
      "        <li class=\"tier-2 element-5\" role=\"treeitem\"><a href=\"https:\/\/docs.python.org\/faq\/\" title=\"\">FAQ<\/a><\/li>\n",
      "    \n",
      "        <li class=\"tier-2 element-6\" role=\"treeitem\"><a href=\"http:\/\/wiki.python.org\/moin\/Languages\" title=\"\">Non-English Docs<\/a><\/li>\n",
      "    \n",
      "        <li class=\"tier-2 element-7\" role=\"treeitem\"><a href=\"https:\/\/peps.python.org\" title=\"\">PEP Index<\/a><\/li>\n",
      "    \n",
      "        <li class=\"tier-2 element-8\" role=\"treeitem\"><a href=\"https:\/\/wiki.python.org\/moin\/PythonBooks\" title=\"\">Python Books<\/a><\/li>\n",
      "    \n",
      "        <li class=\"tier-2 element-9\" role=\"treeitem\"><a href=\"\/doc\/essays\/\" title=\"\">Python Essays<\/a><\/li>\n",
      "    \n",
      "<\/ul>\n",
      "\n",
      "        \n",
      "    <\/li>\n",
      "    \n",
      "    <li class=\"tier-1 element-4\">\n",
      "        <a href=\"\/community\/\" >Community<\/a>\n",
      "        \n",
      "            \n",
      "\n",
      "<ul class=\"subnav menu\">\n",
      "    \n",
      "        <li class=\"tier-2 element-1\" role=\"treeitem\"><a href=\"\/community\/diversity\/\" title=\"\">Diversity<\/a><\/li>\n",
      "    \n",
      "        <li class=\"tier-2 element-2\" role=\"treeitem\"><a href=\"\/community\/lists\/\" title=\"\">Mailing Lists<\/a><\/li>\n",
      "    \n",
      "        <li class=\"tier-2 element-3\" role=\"treeitem\"><a href=\"\/community\/irc\/\" title=\"\">IRC<\/a><\/li>\n",
      "    \n",
      "        <li class=\"tier-2 element-4\" role=\"treeitem\"><a href=\"\/community\/forums\/\" title=\"\">Forums<\/a><\/li>\n",
      "    \n",
      "        <li class=\"tier-2 element-5\" role=\"treeitem\"><a href=\"\/psf\/annual-report\/2021\/\" title=\"\">PSF Annual Impact Report<\/a><\/li>\n",
      "    \n",
      "        <li class=\"tier-2 element-6\" role=\"treeitem\"><a href=\"\/community\/workshops\/\" title=\"\">Python Conferences<\/a><\/li>\n",
      "    \n",
      "        <li class=\"tier-2 element-7\" role=\"treeitem\"><a href=\"\/community\/sigs\/\" title=\"\">Special Interest Groups<\/a><\/li>\n",
      "    \n",
      "        <li class=\"tier-2 element-8\" role=\"treeitem\"><a href=\"\/community\/logos\/\" title=\"\">Python Logo<\/a><\/li>\n",
      "    \n",
      "        <li class=\"tier-2 element-9\" role=\"treeitem\"><a href=\"https:\/\/wiki.python.org\/moin\/\" title=\"\">Python Wiki<\/a><\/li>\n",
      "    \n",
      "        <li class=\"tier-2 element-10\" role=\"treeitem\"><a href=\"\/psf\/conduct\/\" title=\"\">Code of Conduct<\/a><\/li>\n",
      "    \n",
      "        <li class=\"tier-2 element-11\" role=\"treeitem\"><a href=\"\/community\/awards\" title=\"\">Community Awards<\/a><\/li>\n",
      "    \n",
      "        <li class=\"tier-2 element-12\" role=\"treeitem\"><a href=\"\/psf\/get-involved\/\" title=\"\">Get Involved<\/a><\/li>\n",
      "    \n",
      "        <li class=\"tier-2 element-13\" role=\"treeitem\"><a href=\"\/psf\/community-stories\/\" title=\"\">Shared Stories<\/a><\/li>\n",
      "    \n",
      "<\/ul>\n",
      "\n",
      "        \n",
      "    <\/li>\n",
      "    \n",
      "    <li class=\"tier-1 element-5\">\n",
      "        <a href=\"\/success-stories\/\" title=\"success-stories\">Success Stories<\/a>\n",
      "        \n",
      "            \n",
      "\n",
      "<ul class=\"subnav menu\">\n",
      "    \n",
      "        <li class=\"tier-2 element-1\" role=\"treeitem\"><a href=\"\/success-stories\/category\/arts\/\" title=\"\">Arts<\/a><\/li>\n",
      "    \n",
      "        <li class=\"tier-2 element-2\" role=\"treeitem\"><a href=\"\/success-stories\/category\/business\/\" title=\"\">Business<\/a><\/li>\n",
      "    \n",
      "        <li class=\"tier-2 element-3\" role=\"treeitem\"><a href=\"\/success-stories\/category\/education\/\" title=\"\">Education<\/a><\/li>\n",
      "    \n",
      "        <li class=\"tier-2 element-4\" role=\"treeitem\"><a href=\"\/success-stories\/category\/engineering\/\" title=\"\">Engineering<\/a><\/li>\n",
      "    \n",
      "        <li class=\"tier-2 element-5\" role=\"treeitem\"><a href=\"\/success-stories\/category\/government\/\" title=\"\">Government<\/a><\/li>\n",
      "    \n",
      "        <li class=\"tier-2 element-6\" role=\"treeitem\"><a href=\"\/success-stories\/category\/scientific\/\" title=\"\">Scientific<\/a><\/li>\n",
      "    \n",
      "        <li class=\"tier-2 element-7\" role=\"treeitem\"><a href=\"\/success-stories\/category\/software-development\/\" title=\"\">Software Development<\/a><\/li>\n",
      "    \n",
      "<\/ul>\n",
      "\n",
      "        \n",
      "    <\/li>\n",
      "    \n",
      "    <li class=\"tier-1 element-6\">\n",
      "        <a href=\"\/blogs\/\" title=\"News from around the Python world\">News<\/a>\n",
      "        \n",
      "            \n",
      "\n",
      "<ul class=\"subnav menu\">\n",
      "    \n",
      "        <li class=\"tier-2 element-1\" role=\"treeitem\"><a href=\"\/blogs\/\" title=\"Python Insider Blog Posts\">Python News<\/a><\/li>\n",
      "    \n",
      "        <li class=\"tier-2 element-2\" role=\"treeitem\"><a href=\"\/psf\/newsletter\/\" title=\"Python Software Foundation Newsletter\">PSF Newsletter<\/a><\/li>\n",
      "    \n",
      "        <li class=\"tier-2 element-3\" role=\"treeitem\"><a href=\"http:\/\/pyfound.blogspot.com\/\" title=\"PSF Blog\">PSF News<\/a><\/li>\n",
      "    \n",
      "        <li class=\"tier-2 element-4\" role=\"treeitem\"><a href=\"http:\/\/pycon.blogspot.com\/\" title=\"PyCon Blog\">PyCon US News<\/a><\/li>\n",
      "    \n",
      "        <li class=\"tier-2 element-5\" role=\"treeitem\"><a href=\"http:\/\/planetpython.org\/\" title=\"Planet Python\">News from the Community<\/a><\/li>\n",
      "    \n",
      "<\/ul>\n",
      "\n",
      "        \n",
      "    <\/li>\n",
      "    \n",
      "    <li class=\"tier-1 element-7\">\n",
      "        <a href=\"\/events\/\" >Events<\/a>\n",
      "        \n",
      "            \n",
      "\n",
      "<ul class=\"subnav menu\">\n",
      "    \n",
      "        <li class=\"tier-2 element-1\" role=\"treeitem\"><a href=\"\/events\/python-events\/\" title=\"\">Python Events<\/a><\/li>\n",
      "    \n",
      "        <li class=\"tier-2 element-2\" role=\"treeitem\"><a href=\"\/events\/python-user-group\/\" title=\"\">User Group Events<\/a><\/li>\n",
      "    \n",
      "        <li class=\"tier-2 element-3\" role=\"treeitem\"><a href=\"\/events\/python-events\/past\/\" title=\"\">Python Events Archive<\/a><\/li>\n",
      "    \n",
      "        <li class=\"tier-2 element-4\" role=\"treeitem\"><a href=\"\/events\/python-user-group\/past\/\" title=\"\">User Group Events Archive<\/a><\/li>\n",
      "    \n",
      "        <li class=\"tier-2 element-5\" role=\"treeitem\"><a href=\"https:\/\/wiki.python.org\/moin\/PythonEventsCalendar#Submitting_an_Event\" title=\"\">Submit an Event<\/a><\/li>\n",
      "    \n",
      "<\/ul>\n",
      "\n",
      "        \n",
      "    <\/li>\n",
      "    \n",
      "    <li class=\"tier-1 element-8\">\n",
      "        <a href=\"\/dev\/\" >Contributing<\/a>\n",
      "        \n",
      "            \n",
      "\n",
      "<ul class=\"subnav menu\">\n",
      "    \n",
      "        <li class=\"tier-2 element-1\" role=\"treeitem\"><a href=\"https:\/\/devguide.python.org\/\" title=\"\">Developer&#39;s Guide<\/a><\/li>\n",
      "    \n",
      "        <li class=\"tier-2 element-2\" role=\"treeitem\"><a href=\"https:\/\/github.com\/python\/cpython\/issues\" title=\"\">Issue Tracker<\/a><\/li>\n",
      "    \n",
      "        <li class=\"tier-2 element-3\" role=\"treeitem\"><a href=\"https:\/\/mail.python.org\/mailman\/listinfo\/python-dev\" title=\"\">python-dev list<\/a><\/li>\n",
      "    \n",
      "        <li class=\"tier-2 element-4\" role=\"treeitem\"><a href=\"\/dev\/core-mentorship\/\" title=\"\">Core Mentorship<\/a><\/li>\n",
      "    \n",
      "        <li class=\"tier-2 element-5\" role=\"treeitem\"><a href=\"\/dev\/security\/\" title=\"\">Report a Security Issue<\/a><\/li>\n",
      "    \n",
      "<\/ul>\n",
      "\n",
      "        \n",
      "    <\/li>\n",
      "    \n",
      "<\/ul>\n",
      "\n",
      "\n",
      "                    <a id=\"back-to-top-2\" class=\"jump-link\" href=\"#python-network\"><span aria-hidden=\"true\" class=\"icon-arrow-up\"><span>&#9650;<\/span><\/span> Back to Top<\/a>\n",
      "                    \n",
      "\n",
      "                <\/div><!-- end .container -->\n",
      "            <\/div> <!-- end .main-footer-links -->\n",
      "\n",
      "            <div class=\"site-base\">\n",
      "                <div class=\"container\">\n",
      "                    \n",
      "                    <ul class=\"footer-links navigation menu do-not-print\" role=\"tree\">\n",
      "                        <li class=\"tier-1 element-1\"><a href=\"\/about\/help\/\">Help &amp; <span class=\"say-no-more\">General<\/span> Contact<\/a><\/li>\n",
      "                        <li class=\"tier-1 element-2\"><a href=\"\/community\/diversity\/\">Diversity <span class=\"say-no-more\">Initiatives<\/span><\/a><\/li>\n",
      "                        <li class=\"tier-1 element-3\"><a href=\"https:\/\/github.com\/python\/pythondotorg\/issues\">Submit Website Bug<\/a><\/li>\n",
      "                        <li class=\"tier-1 element-4\">\n",
      "                            <a href=\"https:\/\/status.python.org\/\">Status <span class=\"python-status-indicator-default\" id=\"python-status-indicator\"><\/span><\/a>\n",
      "                        <\/li>\n",
      "                    <\/ul>\n",
      "\n",
      "                    <div class=\"copyright\">\n",
      "                        <p><small>\n",
      "                            <span class=\"pre\">Copyright &copy;2001-2024.<\/span>\n",
      "                            &nbsp;<span class=\"pre\"><a href=\"\/psf-landing\/\">Python Software Foundation<\/a><\/span>\n",
      "                            &nbsp;<span class=\"pre\"><a href=\"\/about\/legal\/\">Legal Statements<\/a><\/span>\n",
      "                            &nbsp;<span class=\"pre\"><a href=\"\/privacy\/\">Privacy Policy<\/a><\/span>\n",
      "                            <!--&nbsp;<span class=\"pre\"><a href=\"\/psf\/community-infrastructure\">Powered by PSF Community Infrastructure<\/a><\/span>-->\n",
      "                        <\/small><\/p>\n",
      "                    <\/div>\n",
      "\n",
      "                <\/div><!-- end .container -->\n",
      "            <\/div><!-- end .site-base -->\n",
      "\n",
      "        <\/footer>\n",
      "        \n",
      "\n",
      "    <\/div><!-- end #touchnav-wrapper -->\n",
      "\n",
      "    \n",
      "    <script src=\"\/\/ajax.googleapis.com\/ajax\/libs\/jquery\/1.8.2\/jquery.min.js\"><\/script>\n",
      "    <script>window.jQuery || document.write('<script src=\"\/static\/js\/libs\/jquery-1.8.2.min.js\"><\\\/script>')<\/script>\n",
      "    <script src=\"\/\/ajax.googleapis.com\/ajax\/libs\/jqueryui\/1.12.1\/jquery-ui.min.js\"><\/script>\n",
      "    <script>window.jQuery || document.write('<script src=\"\/static\/js\/libs\/jquery-ui-1.12.1.min.js\"><\\\/script>')<\/script>\n",
      "\n",
      "    <script src=\"\/static\/js\/libs\/masonry.pkgd.min.js\"><\/script>\n",
      "    <script src=\"\/static\/js\/libs\/html-includes.js\"><\/script>\n",
      "\n",
      "    <script type=\"text\/javascript\" src=\"\/static\/js\/main-min.f5487accf7ed.js\" charset=\"utf-8\"><\/script>\n",
      "    \n",
      "\n",
      "    <!--[if lte IE 7]>\n",
      "    <script type=\"text\/javascript\" src=\"\/static\/js\/plugins\/IE8-min.8af6e26c7a3b.js\" charset=\"utf-8\"><\/script>\n",
      "    \n",
      "    \n",
      "    <![endif]-->\n",
      "\n",
      "    <!--[if lte IE 8]>\n",
      "    <script type=\"text\/javascript\" src=\"\/static\/js\/plugins\/getComputedStyle-min.d41d8cd98f00.js\" charset=\"utf-8\"><\/script>\n",
      "    \n",
      "    \n",
      "    <![endif]-->\n",
      "\n",
      "    \n",
      "\n",
      "    \n",
      "    \n",
      "\n",
      "<\/body>\n",
      "<\/html>\n",
      "\n"
     ],
     "output_type":"stream"
    }
   ],
   "metadata":{
    "datalore":{
     "node_id":"KPJXutRCZQfZgD2UwVVfSW",
     "type":"CODE",
     "hide_input_from_viewers":true,
     "hide_output_from_viewers":true
    }
   }
  },
  {
   "cell_type":"code",
   "source":[
    "u = np.arange(1,77,3)\n",
    "u"
   ],
   "execution_count":10,
   "outputs":[
    {
     "data":{
      "text\/html":[
       "<pre>array([ 1,  4,  7, 10, 13, 16, 19, 22, 25, 28, 31, 34, 37, 40, 43, 46, 49,\n",
       "       52, 55, 58, 61, 64, 67, 70, 73, 76])<\/pre>"
      ]
     },
     "metadata":{
      
     },
     "output_type":"display_data"
    }
   ],
   "metadata":{
    "datalore":{
     "node_id":"218dll7NCiuHKorqW0uATk",
     "type":"CODE",
     "hide_input_from_viewers":true,
     "hide_output_from_viewers":true
    }
   }
  },
  {
   "cell_type":"code",
   "source":[
    "zlista = [3,89,7,45,24,5,72,11,34,25,78,73,7,29,41]\n",
    "print(zlista)\n",
    "print(type(zlista))"
   ],
   "execution_count":11,
   "outputs":[
    {
     "name":"stdout",
     "text":[
      "[3, 89, 7, 45, 24, 5, 72, 11, 34, 25, 78, 73, 7, 29, 41]\n",
      "<class 'list'>\n"
     ],
     "output_type":"stream"
    }
   ],
   "metadata":{
    "datalore":{
     "node_id":"j2rnKe74Ez3vxFsItZdfoQ",
     "type":"CODE",
     "hide_input_from_viewers":true,
     "hide_output_from_viewers":true
    }
   }
  },
  {
   "cell_type":"code",
   "source":[
    "k = np.linspace(0,10,num=5)\n",
    "k"
   ],
   "execution_count":12,
   "outputs":[
    {
     "data":{
      "text\/html":[
       "<pre>array([ 0. ,  2.5,  5. ,  7.5, 10. ])<\/pre>"
      ]
     },
     "metadata":{
      
     },
     "output_type":"display_data"
    }
   ],
   "metadata":{
    "datalore":{
     "node_id":"cS2q5HoRwDs871Gqz7PVrQ",
     "type":"CODE",
     "hide_input_from_viewers":true,
     "hide_output_from_viewers":true
    }
   }
  },
  {
   "cell_type":"code",
   "source":[
    "print(type(k))"
   ],
   "execution_count":13,
   "outputs":[
    {
     "name":"stdout",
     "text":[
      "<class 'numpy.ndarray'>\n"
     ],
     "output_type":"stream"
    }
   ],
   "metadata":{
    "datalore":{
     "node_id":"LvJ29GpgIr4roZts5E9q1c",
     "type":"CODE",
     "hide_input_from_viewers":true,
     "hide_output_from_viewers":true
    }
   }
  },
  {
   "cell_type":"code",
   "source":[
    "mlista = np.array(zlista)\n",
    "print(mlista)\n",
    "print(type(mlista))"
   ],
   "execution_count":15,
   "outputs":[
    {
     "name":"stdout",
     "text":[
      "[ 3 89  7 45 24  5 72 11 34 25 78 73  7 29 41]\n",
      "<class 'numpy.ndarray'>\n"
     ],
     "output_type":"stream"
    }
   ],
   "metadata":{
    "datalore":{
     "node_id":"a6JSTXSKv9ZdHyi5n1vjD2",
     "type":"CODE",
     "hide_input_from_viewers":true,
     "hide_output_from_viewers":true
    }
   }
  },
  {
   "cell_type":"code",
   "source":[
    "krot = (3,255,247,673,24,8,32)\n",
    "knum = np.array(krot)\n",
    "print(knum)\n",
    "print(type(knum))"
   ],
   "execution_count":16,
   "outputs":[
    {
     "name":"stdout",
     "text":[
      "[  3 255 247 673  24   8  32]\n",
      "<class 'numpy.ndarray'>\n"
     ],
     "output_type":"stream"
    }
   ],
   "metadata":{
    "datalore":{
     "node_id":"YfOn1NAIj9eTKxcKeXUqU9",
     "type":"CODE",
     "hide_input_from_viewers":true,
     "hide_output_from_viewers":true
    }
   }
  },
  {
   "cell_type":"code",
   "source":[
    "zbior = {24,2,5,1,65,8,1,43,345,1}\n",
    "znum = np.array(zbior)\n",
    "print(znum)\n",
    "print(type(znum))"
   ],
   "execution_count":17,
   "outputs":[
    {
     "name":"stdout",
     "text":[
      "{1, 2, 65, 5, 8, 43, 24, 345}\n",
      "<class 'numpy.ndarray'>\n"
     ],
     "output_type":"stream"
    }
   ],
   "metadata":{
    "datalore":{
     "node_id":"mi7sF2GXsOmqQFZTES3lIS",
     "type":"CODE",
     "hide_input_from_viewers":true,
     "hide_output_from_viewers":true
    }
   }
  },
  {
   "cell_type":"code",
   "source":[
    "knum.sort()\n",
    "knum"
   ],
   "execution_count":18,
   "outputs":[
    {
     "data":{
      "text\/html":[
       "<pre>array([  3,   8,  24,  32, 247, 255, 673])<\/pre>"
      ]
     },
     "metadata":{
      
     },
     "output_type":"display_data"
    }
   ],
   "metadata":{
    "datalore":{
     "node_id":"BC5pArN2mVkzoZ47CvFolu",
     "type":"CODE",
     "hide_input_from_viewers":true,
     "hide_output_from_viewers":true
    }
   }
  },
  {
   "cell_type":"code",
   "source":[
    "knum.shape"
   ],
   "execution_count":22,
   "outputs":[
    {
     "data":{
      "text\/plain":[
       "(7,)"
      ]
     },
     "metadata":{
      
     },
     "output_type":"display_data"
    }
   ],
   "metadata":{
    "datalore":{
     "node_id":"efBkxK9rb9jFYvgubCsKhZ",
     "type":"CODE",
     "hide_input_from_viewers":true,
     "hide_output_from_viewers":true
    }
   }
  },
  {
   "cell_type":"code",
   "source":[
    "znum.shape"
   ],
   "execution_count":21,
   "outputs":[
    {
     "data":{
      "text\/plain":[
       "()"
      ]
     },
     "metadata":{
      
     },
     "output_type":"display_data"
    }
   ],
   "metadata":{
    "datalore":{
     "node_id":"SZpYV6gK6vqMvFE8RnbmSD",
     "type":"CODE",
     "hide_input_from_viewers":true,
     "hide_output_from_viewers":true
    }
   }
  },
  {
   "cell_type":"code",
   "source":[
    "zbior = {24,2,5,1,65,8,1,43,345,1}\n",
    "zbior = list(zbior)\n",
    "znum = np.array(zbior)\n",
    "print(znum)\n",
    "print(type(znum))\n",
    "print(znum.shape)"
   ],
   "execution_count":24,
   "outputs":[
    {
     "name":"stdout",
     "text":[
      "[  1   2  65   5   8  43  24 345]\n",
      "<class 'numpy.ndarray'>\n",
      "(8,)\n"
     ],
     "output_type":"stream"
    }
   ],
   "metadata":{
    "datalore":{
     "node_id":"OcSP4ob7Gcr6TMG8Jdjn7T",
     "type":"CODE",
     "hide_input_from_viewers":true,
     "hide_output_from_viewers":true
    }
   }
  },
  {
   "cell_type":"code",
   "source":[
    "l1 = [2,4,6,9,34]\n",
    "l2 = [9,6,76,3,13]\n",
    "l3 = [45,6,7,1,14]"
   ],
   "execution_count":30,
   "outputs":[
    
   ],
   "metadata":{
    "datalore":{
     "node_id":"AJ9njSjbzm6ly3pRzWuVD0",
     "type":"CODE",
     "hide_input_from_viewers":true,
     "hide_output_from_viewers":true
    }
   }
  },
  {
   "cell_type":"code",
   "source":[
    "l = l1 + l2 + l3\n",
    "l"
   ],
   "execution_count":31,
   "outputs":[
    {
     "data":{
      "text\/plain":[
       "[2, 4, 6, 9, 34, 9, 6, 76, 3, 13, 45, 6, 7, 1, 14]"
      ]
     },
     "metadata":{
      
     },
     "output_type":"display_data"
    }
   ],
   "metadata":{
    "datalore":{
     "node_id":"gikvvoEVa1CkzmZo5CXn0p",
     "type":"CODE",
     "hide_input_from_viewers":true,
     "hide_output_from_viewers":true
    }
   }
  },
  {
   "cell_type":"code",
   "source":[
    "a1 = np.array(l1)\n",
    "a2 = np.array(l2)\n",
    "a3 = np.array(l3)"
   ],
   "execution_count":32,
   "outputs":[
    
   ],
   "metadata":{
    "datalore":{
     "node_id":"TKV8EGFLTEk6LI6FB67bhn",
     "type":"CODE",
     "hide_input_from_viewers":true,
     "hide_output_from_viewers":true
    }
   }
  },
  {
   "cell_type":"code",
   "source":[
    "a = a1 + a2 + a3"
   ],
   "execution_count":33,
   "outputs":[
    
   ],
   "metadata":{
    "datalore":{
     "node_id":"FgJdCwu6y2Oy1WIKL5GVOS",
     "type":"CODE",
     "hide_input_from_viewers":true,
     "hide_output_from_viewers":true
    }
   }
  },
  {
   "cell_type":"code",
   "source":[
    "a"
   ],
   "execution_count":34,
   "outputs":[
    {
     "data":{
      "text\/html":[
       "<pre>array([56, 16, 89, 13, 61])<\/pre>"
      ]
     },
     "metadata":{
      
     },
     "output_type":"display_data"
    }
   ],
   "metadata":{
    "datalore":{
     "node_id":"YHs4eBXJsIQt5wRKd2ViCU",
     "type":"CODE",
     "hide_input_from_viewers":true,
     "hide_output_from_viewers":true
    }
   }
  },
  {
   "cell_type":"code",
   "source":[
    "az = np.concatenate((a1,a2,a3))"
   ],
   "execution_count":35,
   "outputs":[
    
   ],
   "metadata":{
    "datalore":{
     "node_id":"WpjQBwFmE13O9gtmdnzcay",
     "type":"CODE",
     "hide_input_from_viewers":true,
     "hide_output_from_viewers":true
    }
   }
  },
  {
   "cell_type":"code",
   "source":[
    "az"
   ],
   "execution_count":36,
   "outputs":[
    {
     "data":{
      "text\/html":[
       "<pre>array([ 2,  4,  6,  9, 34,  9,  6, 76,  3, 13, 45,  6,  7,  1, 14])<\/pre>"
      ]
     },
     "metadata":{
      
     },
     "output_type":"display_data"
    }
   ],
   "metadata":{
    "datalore":{
     "node_id":"xOG2KOPK3nz3H3VSNl9MUl",
     "type":"CODE",
     "hide_input_from_viewers":true,
     "hide_output_from_viewers":true
    }
   }
  },
  {
   "cell_type":"code",
   "source":[
    "extra = [54,452,67,358,93,25,9,67,8,9,24,11,14,63,3]\n",
    "\n",
    "extra = extra + az\n",
    "extra"
   ],
   "execution_count":40,
   "outputs":[
    {
     "data":{
      "text\/html":[
       "<pre>array([ 56, 456,  73, 367, 127,  34,  15, 143,  11,  22,  69,  17,  21,\n",
       "        64,  17])<\/pre>"
      ]
     },
     "metadata":{
      
     },
     "output_type":"display_data"
    }
   ],
   "metadata":{
    "datalore":{
     "node_id":"iYFzbskrfzdIgQiPZ5UokG",
     "type":"CODE",
     "hide_input_from_viewers":true,
     "hide_output_from_viewers":true
    }
   }
  },
  {
   "cell_type":"code",
   "source":[
    "#macierze\n",
    "\n",
    "z1 = [[56,3],[11,67]]\n",
    "print(type(z1))"
   ],
   "execution_count":41,
   "outputs":[
    {
     "name":"stdout",
     "text":[
      "<class 'list'>\n"
     ],
     "output_type":"stream"
    }
   ],
   "metadata":{
    "datalore":{
     "node_id":"tTEZGB64q8N1lFgeVJzoIn",
     "type":"CODE",
     "hide_input_from_viewers":true,
     "hide_output_from_viewers":true
    }
   }
  },
  {
   "cell_type":"code",
   "source":[
    "z1[0][1]"
   ],
   "execution_count":43,
   "outputs":[
    {
     "data":{
      "text\/plain":[
       "3"
      ]
     },
     "metadata":{
      
     },
     "output_type":"display_data"
    }
   ],
   "metadata":{
    "datalore":{
     "node_id":"PDzFFRHiXVVM1rJIYtheJY",
     "type":"CODE",
     "hide_input_from_viewers":true,
     "hide_output_from_viewers":true
    }
   }
  },
  {
   "cell_type":"code",
   "source":[
    "aspec = np.array([[2,9],[18,4]])\n",
    "aspec"
   ],
   "execution_count":45,
   "outputs":[
    {
     "data":{
      "text\/html":[
       "<pre>array([[ 2,  9],\n",
       "       [18,  4]])<\/pre>"
      ]
     },
     "metadata":{
      
     },
     "output_type":"display_data"
    }
   ],
   "metadata":{
    "datalore":{
     "node_id":"rCdym0TkF1ndXrqhNuDO47",
     "type":"CODE",
     "hide_input_from_viewers":true,
     "hide_output_from_viewers":true
    }
   }
  },
  {
   "cell_type":"code",
   "source":[
    "aspec[1][0]"
   ],
   "execution_count":47,
   "outputs":[
    {
     "data":{
      "text\/plain":[
       "18"
      ]
     },
     "metadata":{
      
     },
     "output_type":"display_data"
    }
   ],
   "metadata":{
    "datalore":{
     "node_id":"weioXW8I5SX35Wn2LjDUJj",
     "type":"CODE",
     "hide_input_from_viewers":true,
     "hide_output_from_viewers":true
    }
   }
  },
  {
   "cell_type":"code",
   "source":[
    "aspec[0,1]"
   ],
   "execution_count":48,
   "outputs":[
    {
     "data":{
      "text\/plain":[
       "9"
      ]
     },
     "metadata":{
      
     },
     "output_type":"display_data"
    }
   ],
   "metadata":{
    "datalore":{
     "node_id":"X04kyGV7ua4I0L4LB3ghjN",
     "type":"CODE",
     "hide_input_from_viewers":true,
     "hide_output_from_viewers":true
    }
   }
  },
  {
   "cell_type":"code",
   "source":[
    "x = np.array([[3,4],[3,13]])\n",
    "y = np.array([[14,4],[23,2]])\n",
    "\n",
    "b = np.concatenate((x,y),axis=1)\n",
    "b"
   ],
   "execution_count":51,
   "outputs":[
    {
     "data":{
      "text\/html":[
       "<pre>array([[ 3,  4, 14,  4],\n",
       "       [ 3, 13, 23,  2]])<\/pre>"
      ]
     },
     "metadata":{
      
     },
     "output_type":"display_data"
    }
   ],
   "metadata":{
    "datalore":{
     "node_id":"gLiFHCY9pRp44o2HrykVl4",
     "type":"CODE",
     "hide_input_from_viewers":true,
     "hide_output_from_viewers":true
    }
   }
  }
 ],
 "metadata":{
  "kernelspec":{
   "display_name":"Python",
   "language":"python",
   "name":"python"
  },
  "datalore":{
   "computation_mode":"JUPYTER",
   "package_manager":"pip",
   "base_environment":"default",
   "packages":[
    
   ],
   "report_row_ids":[
    
   ],
   "version":3
  }
 },
 "nbformat":4,
 "nbformat_minor":4
}