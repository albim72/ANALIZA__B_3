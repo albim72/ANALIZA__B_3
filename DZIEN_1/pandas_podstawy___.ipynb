{
 "cells":[
  {
   "cell_type":"code",
   "source":[
    "import pandas as pd\n",
    "import numpy as np"
   ],
   "execution_count":14,
   "outputs":[
    
   ],
   "metadata":{
    "datalore":{
     "node_id":"cx2qf9q08lxoi184iSmzRF",
     "type":"CODE",
     "hide_input_from_viewers":true,
     "hide_output_from_viewers":true
    }
   }
  },
  {
   "cell_type":"code",
   "source":[
    "obj = pd.Series([4,6,5,-6,34])\n",
    "obj"
   ],
   "execution_count":2,
   "outputs":[
    {
     "data":{
      "text\/html":[
       "<pre>0     4\n",
       "1     6\n",
       "2     5\n",
       "3    -6\n",
       "4    34\n",
       "dtype: int64<\/pre>"
      ]
     },
     "metadata":{
      
     },
     "output_type":"display_data"
    }
   ],
   "metadata":{
    "datalore":{
     "node_id":"rUTmX7gFoJBBMtYWVZc3Zi",
     "type":"CODE",
     "hide_input_from_viewers":true,
     "hide_output_from_viewers":true
    }
   }
  },
  {
   "cell_type":"code",
   "source":[
    "obj.values"
   ],
   "execution_count":3,
   "outputs":[
    {
     "data":{
      "text\/html":[
       "<pre>array([ 4,  6,  5, -6, 34])<\/pre>"
      ]
     },
     "metadata":{
      
     },
     "output_type":"display_data"
    }
   ],
   "metadata":{
    "datalore":{
     "node_id":"Fgkpa4DKFLsGEkN2YLosaF",
     "type":"CODE",
     "hide_input_from_viewers":true,
     "hide_output_from_viewers":true
    }
   }
  },
  {
   "cell_type":"code",
   "source":[
    "obj.index"
   ],
   "execution_count":4,
   "outputs":[
    {
     "data":{
      "text\/plain":[
       "RangeIndex(start=0, stop=5, step=1)"
      ]
     },
     "metadata":{
      
     },
     "output_type":"display_data"
    }
   ],
   "metadata":{
    "datalore":{
     "node_id":"uPRS3YoOMP0nBxxk6FLe6m",
     "type":"CODE",
     "hide_input_from_viewers":true,
     "hide_output_from_viewers":true
    }
   }
  },
  {
   "cell_type":"code",
   "source":[
    "obj2 = pd.Series([6,3,2,-56],index=['a','b','h','p'])\n",
    "obj2"
   ],
   "execution_count":5,
   "outputs":[
    {
     "data":{
      "text\/html":[
       "<pre>a     6\n",
       "b     3\n",
       "h     2\n",
       "p   -56\n",
       "dtype: int64<\/pre>"
      ]
     },
     "metadata":{
      
     },
     "output_type":"display_data"
    }
   ],
   "metadata":{
    "datalore":{
     "node_id":"LWECcSsRgMxiKdLm59OaAQ",
     "type":"CODE",
     "hide_input_from_viewers":true,
     "hide_output_from_viewers":true
    }
   }
  },
  {
   "cell_type":"code",
   "source":[
    "obj2['p']"
   ],
   "execution_count":6,
   "outputs":[
    {
     "data":{
      "text\/plain":[
       "-56"
      ]
     },
     "metadata":{
      
     },
     "output_type":"display_data"
    }
   ],
   "metadata":{
    "datalore":{
     "node_id":"ct6OWeuBGAboo1evaCw3R6",
     "type":"CODE",
     "hide_input_from_viewers":true,
     "hide_output_from_viewers":true
    }
   }
  },
  {
   "cell_type":"code",
   "source":[
    "obj2['h']=101\n",
    "obj2"
   ],
   "execution_count":7,
   "outputs":[
    {
     "data":{
      "text\/html":[
       "<pre>a      6\n",
       "b      3\n",
       "h    101\n",
       "p    -56\n",
       "dtype: int64<\/pre>"
      ]
     },
     "metadata":{
      
     },
     "output_type":"display_data"
    }
   ],
   "metadata":{
    "datalore":{
     "node_id":"JTEGWzhlRNMnFgirb7qH89",
     "type":"CODE",
     "hide_input_from_viewers":true,
     "hide_output_from_viewers":true
    }
   }
  },
  {
   "cell_type":"code",
   "source":[
    "obj2[['h','b','a']]"
   ],
   "execution_count":8,
   "outputs":[
    {
     "data":{
      "text\/html":[
       "<pre>h    101\n",
       "b      3\n",
       "a      6\n",
       "dtype: int64<\/pre>"
      ]
     },
     "metadata":{
      
     },
     "output_type":"display_data"
    }
   ],
   "metadata":{
    "datalore":{
     "node_id":"PnhxAwFBdwNTxPgG9wk34g",
     "type":"CODE",
     "hide_input_from_viewers":true,
     "hide_output_from_viewers":true
    }
   }
  },
  {
   "cell_type":"code",
   "source":[
    "obj2[obj2>5]"
   ],
   "execution_count":10,
   "outputs":[
    {
     "data":{
      "text\/html":[
       "<pre>a      6\n",
       "h    101\n",
       "dtype: int64<\/pre>"
      ]
     },
     "metadata":{
      
     },
     "output_type":"display_data"
    }
   ],
   "metadata":{
    "datalore":{
     "node_id":"EIWwlggLQNR8M8PLYzpOkI",
     "type":"CODE",
     "hide_input_from_viewers":true,
     "hide_output_from_viewers":true
    }
   }
  },
  {
   "cell_type":"code",
   "source":[
    "obj2*5"
   ],
   "execution_count":11,
   "outputs":[
    {
     "data":{
      "text\/html":[
       "<pre>a     30\n",
       "b     15\n",
       "h    505\n",
       "p   -280\n",
       "dtype: int64<\/pre>"
      ]
     },
     "metadata":{
      
     },
     "output_type":"display_data"
    }
   ],
   "metadata":{
    "datalore":{
     "node_id":"EhdpSlcg6d24ZrZ5ed2aXW",
     "type":"CODE",
     "hide_input_from_viewers":true,
     "hide_output_from_viewers":true
    }
   }
  },
  {
   "cell_type":"code",
   "source":[
    "no = obj2.to_numpy()\n",
    "no"
   ],
   "execution_count":12,
   "outputs":[
    {
     "data":{
      "text\/html":[
       "<pre>array([  6,   3, 101, -56])<\/pre>"
      ]
     },
     "metadata":{
      
     },
     "output_type":"display_data"
    }
   ],
   "metadata":{
    "datalore":{
     "node_id":"ovxSADnlo42Jhhe5DcPICb",
     "type":"CODE",
     "hide_input_from_viewers":true,
     "hide_output_from_viewers":true
    }
   }
  },
  {
   "cell_type":"code",
   "source":[
    "print(type(no))"
   ],
   "execution_count":13,
   "outputs":[
    {
     "name":"stdout",
     "text":[
      "<class 'numpy.ndarray'>\n"
     ],
     "output_type":"stream"
    }
   ],
   "metadata":{
    "datalore":{
     "node_id":"PyA9rzvnpuyb28wdkFUd0s",
     "type":"CODE",
     "hide_input_from_viewers":true,
     "hide_output_from_viewers":true
    }
   }
  },
  {
   "cell_type":"code",
   "source":[
    "tbnp = np.array([54,25,23,8,2,987,2,5,3])"
   ],
   "execution_count":15,
   "outputs":[
    
   ],
   "metadata":{
    "datalore":{
     "node_id":"6YrVkPzjmBRqZg8WDvO7g1",
     "type":"CODE",
     "hide_input_from_viewers":true,
     "hide_output_from_viewers":true
    }
   }
  },
  {
   "cell_type":"code",
   "source":[
    "tbpd = pd.Series(tbnp)\n",
    "tbpd"
   ],
   "execution_count":16,
   "outputs":[
    {
     "data":{
      "text\/html":[
       "<pre>0     54\n",
       "1     25\n",
       "2     23\n",
       "3      8\n",
       "4      2\n",
       "5    987\n",
       "6      2\n",
       "7      5\n",
       "8      3\n",
       "dtype: int64<\/pre>"
      ]
     },
     "metadata":{
      
     },
     "output_type":"display_data"
    }
   ],
   "metadata":{
    "datalore":{
     "node_id":"RKGK6VuWAYILnXiccUTVy9",
     "type":"CODE",
     "hide_input_from_viewers":true,
     "hide_output_from_viewers":true
    }
   }
  },
  {
   "cell_type":"code",
   "source":[
    "sd = {'Warszawa':4352,'Kraków':5223,'Lublin':3532,'Gdańsk':3123}\n",
    "sd"
   ],
   "execution_count":17,
   "outputs":[
    {
     "data":{
      "text\/plain":[
       "{'Warszawa': 4352, 'Kraków': 5223, 'Lublin': 3532, 'Gdańsk': 3123}"
      ]
     },
     "metadata":{
      
     },
     "output_type":"display_data"
    }
   ],
   "metadata":{
    "datalore":{
     "node_id":"H2Izh0LkM1AYwBt6TAzTQD",
     "type":"CODE",
     "hide_input_from_viewers":true,
     "hide_output_from_viewers":true
    }
   }
  },
  {
   "cell_type":"code",
   "source":[
    "obj3 = pd.Series(sd)\n",
    "obj3"
   ],
   "execution_count":18,
   "outputs":[
    {
     "data":{
      "text\/html":[
       "<pre>Warszawa    4352\n",
       "Kraków      5223\n",
       "Lublin      3532\n",
       "Gdańsk      3123\n",
       "dtype: int64<\/pre>"
      ]
     },
     "metadata":{
      
     },
     "output_type":"display_data"
    }
   ],
   "metadata":{
    "datalore":{
     "node_id":"CyZ0OiHrednJIEp4jkV4hw",
     "type":"CODE",
     "hide_input_from_viewers":true,
     "hide_output_from_viewers":true
    }
   }
  },
  {
   "cell_type":"code",
   "source":[
    "miasta = ['Poznań','Kraków','Rzeszów','Lublin']\n",
    "obj4 = pd.Series(sd,index=miasta)\n",
    "obj4"
   ],
   "execution_count":19,
   "outputs":[
    {
     "data":{
      "text\/html":[
       "<pre>Poznań        NaN\n",
       "Kraków     5223.0\n",
       "Rzeszów       NaN\n",
       "Lublin     3532.0\n",
       "dtype: float64<\/pre>"
      ]
     },
     "metadata":{
      
     },
     "output_type":"display_data"
    }
   ],
   "metadata":{
    "datalore":{
     "node_id":"kZAnAs1D8XluPaNjCQiAvE",
     "type":"CODE",
     "hide_input_from_viewers":true,
     "hide_output_from_viewers":true
    }
   }
  },
  {
   "cell_type":"code",
   "source":[
    "data = {'miasto':['Warszawa','Katowice','Kielce','Toruń','Zamość','Opole'],\n",
    "        'rok':[2020,2020,2021,2019,2020,2020],\n",
    "        'wnioski':[1232,1211,980,765,650,324]}\n",
    "\n",
    "frame = pd.DataFrame(data)"
   ],
   "execution_count":20,
   "outputs":[
    
   ],
   "metadata":{
    "datalore":{
     "node_id":"7I7y6wlrIQURJ0zZCPjU2a",
     "type":"CODE",
     "hide_input_from_viewers":true,
     "hide_output_from_viewers":true
    }
   }
  },
  {
   "cell_type":"code",
   "source":[
    "frame"
   ],
   "execution_count":21,
   "outputs":[
    {
     "data":{
      "text\/html":[
       "<div>\n",
       "<style scoped>\n",
       "    .dataframe tbody tr th:only-of-type {\n",
       "        vertical-align: middle;\n",
       "    }\n",
       "\n",
       "    .dataframe tbody tr th {\n",
       "        vertical-align: top;\n",
       "    }\n",
       "\n",
       "    .dataframe thead th {\n",
       "        text-align: right;\n",
       "    }\n",
       "<\/style>\n",
       "<table border=\"1\" class=\"dataframe\">\n",
       "  <thead>\n",
       "    <tr style=\"text-align: right;\">\n",
       "      <th><\/th>\n",
       "      <th>miasto<\/th>\n",
       "      <th>rok<\/th>\n",
       "      <th>wnioski<\/th>\n",
       "    <\/tr>\n",
       "  <\/thead>\n",
       "  <tbody>\n",
       "    <tr>\n",
       "      <th>0<\/th>\n",
       "      <td>Warszawa<\/td>\n",
       "      <td>2020<\/td>\n",
       "      <td>1232<\/td>\n",
       "    <\/tr>\n",
       "    <tr>\n",
       "      <th>1<\/th>\n",
       "      <td>Katowice<\/td>\n",
       "      <td>2020<\/td>\n",
       "      <td>1211<\/td>\n",
       "    <\/tr>\n",
       "    <tr>\n",
       "      <th>2<\/th>\n",
       "      <td>Kielce<\/td>\n",
       "      <td>2021<\/td>\n",
       "      <td>980<\/td>\n",
       "    <\/tr>\n",
       "    <tr>\n",
       "      <th>3<\/th>\n",
       "      <td>Toruń<\/td>\n",
       "      <td>2019<\/td>\n",
       "      <td>765<\/td>\n",
       "    <\/tr>\n",
       "    <tr>\n",
       "      <th>4<\/th>\n",
       "      <td>Zamość<\/td>\n",
       "      <td>2020<\/td>\n",
       "      <td>650<\/td>\n",
       "    <\/tr>\n",
       "    <tr>\n",
       "      <th>5<\/th>\n",
       "      <td>Opole<\/td>\n",
       "      <td>2020<\/td>\n",
       "      <td>324<\/td>\n",
       "    <\/tr>\n",
       "  <\/tbody>\n",
       "<\/table>\n",
       "<\/div>"
      ]
     },
     "metadata":{
      
     },
     "output_type":"display_data"
    }
   ],
   "metadata":{
    "datalore":{
     "node_id":"Kql3ZYtnWUCcEdnoqYqMNS",
     "type":"CODE",
     "hide_input_from_viewers":true,
     "hide_output_from_viewers":true
    }
   }
  },
  {
   "cell_type":"code",
   "source":[
    "frame['projekty'] = 5.5\n",
    "frame"
   ],
   "execution_count":22,
   "outputs":[
    {
     "data":{
      "text\/html":[
       "<div>\n",
       "<style scoped>\n",
       "    .dataframe tbody tr th:only-of-type {\n",
       "        vertical-align: middle;\n",
       "    }\n",
       "\n",
       "    .dataframe tbody tr th {\n",
       "        vertical-align: top;\n",
       "    }\n",
       "\n",
       "    .dataframe thead th {\n",
       "        text-align: right;\n",
       "    }\n",
       "<\/style>\n",
       "<table border=\"1\" class=\"dataframe\">\n",
       "  <thead>\n",
       "    <tr style=\"text-align: right;\">\n",
       "      <th><\/th>\n",
       "      <th>miasto<\/th>\n",
       "      <th>rok<\/th>\n",
       "      <th>wnioski<\/th>\n",
       "      <th>projekty<\/th>\n",
       "    <\/tr>\n",
       "  <\/thead>\n",
       "  <tbody>\n",
       "    <tr>\n",
       "      <th>0<\/th>\n",
       "      <td>Warszawa<\/td>\n",
       "      <td>2020<\/td>\n",
       "      <td>1232<\/td>\n",
       "      <td>5.5<\/td>\n",
       "    <\/tr>\n",
       "    <tr>\n",
       "      <th>1<\/th>\n",
       "      <td>Katowice<\/td>\n",
       "      <td>2020<\/td>\n",
       "      <td>1211<\/td>\n",
       "      <td>5.5<\/td>\n",
       "    <\/tr>\n",
       "    <tr>\n",
       "      <th>2<\/th>\n",
       "      <td>Kielce<\/td>\n",
       "      <td>2021<\/td>\n",
       "      <td>980<\/td>\n",
       "      <td>5.5<\/td>\n",
       "    <\/tr>\n",
       "    <tr>\n",
       "      <th>3<\/th>\n",
       "      <td>Toruń<\/td>\n",
       "      <td>2019<\/td>\n",
       "      <td>765<\/td>\n",
       "      <td>5.5<\/td>\n",
       "    <\/tr>\n",
       "    <tr>\n",
       "      <th>4<\/th>\n",
       "      <td>Zamość<\/td>\n",
       "      <td>2020<\/td>\n",
       "      <td>650<\/td>\n",
       "      <td>5.5<\/td>\n",
       "    <\/tr>\n",
       "    <tr>\n",
       "      <th>5<\/th>\n",
       "      <td>Opole<\/td>\n",
       "      <td>2020<\/td>\n",
       "      <td>324<\/td>\n",
       "      <td>5.5<\/td>\n",
       "    <\/tr>\n",
       "  <\/tbody>\n",
       "<\/table>\n",
       "<\/div>"
      ]
     },
     "metadata":{
      
     },
     "output_type":"display_data"
    }
   ],
   "metadata":{
    "datalore":{
     "node_id":"HW8IzRXaqIdGuCdGKWm6SN",
     "type":"CODE",
     "hide_input_from_viewers":true,
     "hide_output_from_viewers":true
    }
   }
  },
  {
   "cell_type":"code",
   "source":[
    "frame['projekty'] = np.array([12,8,9,11,21,13])\n",
    "frame"
   ],
   "execution_count":23,
   "outputs":[
    {
     "data":{
      "text\/html":[
       "<div>\n",
       "<style scoped>\n",
       "    .dataframe tbody tr th:only-of-type {\n",
       "        vertical-align: middle;\n",
       "    }\n",
       "\n",
       "    .dataframe tbody tr th {\n",
       "        vertical-align: top;\n",
       "    }\n",
       "\n",
       "    .dataframe thead th {\n",
       "        text-align: right;\n",
       "    }\n",
       "<\/style>\n",
       "<table border=\"1\" class=\"dataframe\">\n",
       "  <thead>\n",
       "    <tr style=\"text-align: right;\">\n",
       "      <th><\/th>\n",
       "      <th>miasto<\/th>\n",
       "      <th>rok<\/th>\n",
       "      <th>wnioski<\/th>\n",
       "      <th>projekty<\/th>\n",
       "    <\/tr>\n",
       "  <\/thead>\n",
       "  <tbody>\n",
       "    <tr>\n",
       "      <th>0<\/th>\n",
       "      <td>Warszawa<\/td>\n",
       "      <td>2020<\/td>\n",
       "      <td>1232<\/td>\n",
       "      <td>12<\/td>\n",
       "    <\/tr>\n",
       "    <tr>\n",
       "      <th>1<\/th>\n",
       "      <td>Katowice<\/td>\n",
       "      <td>2020<\/td>\n",
       "      <td>1211<\/td>\n",
       "      <td>8<\/td>\n",
       "    <\/tr>\n",
       "    <tr>\n",
       "      <th>2<\/th>\n",
       "      <td>Kielce<\/td>\n",
       "      <td>2021<\/td>\n",
       "      <td>980<\/td>\n",
       "      <td>9<\/td>\n",
       "    <\/tr>\n",
       "    <tr>\n",
       "      <th>3<\/th>\n",
       "      <td>Toruń<\/td>\n",
       "      <td>2019<\/td>\n",
       "      <td>765<\/td>\n",
       "      <td>11<\/td>\n",
       "    <\/tr>\n",
       "    <tr>\n",
       "      <th>4<\/th>\n",
       "      <td>Zamość<\/td>\n",
       "      <td>2020<\/td>\n",
       "      <td>650<\/td>\n",
       "      <td>21<\/td>\n",
       "    <\/tr>\n",
       "    <tr>\n",
       "      <th>5<\/th>\n",
       "      <td>Opole<\/td>\n",
       "      <td>2020<\/td>\n",
       "      <td>324<\/td>\n",
       "      <td>13<\/td>\n",
       "    <\/tr>\n",
       "  <\/tbody>\n",
       "<\/table>\n",
       "<\/div>"
      ]
     },
     "metadata":{
      
     },
     "output_type":"display_data"
    }
   ],
   "metadata":{
    "datalore":{
     "node_id":"sZlUoLjVkzdLfEqia8DMgu",
     "type":"CODE",
     "hide_input_from_viewers":true,
     "hide_output_from_viewers":true
    }
   }
  },
  {
   "cell_type":"code",
   "source":[
    "daty = pd.date_range(\"20240325\",periods=6)\n",
    "daty"
   ],
   "execution_count":29,
   "outputs":[
    {
     "data":{
      "text\/plain":[
       "DatetimeIndex(['2024-03-25', '2024-03-26', '2024-03-27', '2024-03-28',\n",
       "               '2024-03-29', '2024-03-30'],\n",
       "              dtype='datetime64[ns]', freq='D')"
      ]
     },
     "metadata":{
      
     },
     "output_type":"display_data"
    }
   ],
   "metadata":{
    "datalore":{
     "node_id":"KYiT7wUP4ih0ZPMzAXB9gR",
     "type":"CODE",
     "hide_input_from_viewers":true,
     "hide_output_from_viewers":true
    }
   }
  },
  {
   "cell_type":"code",
   "source":[
    "fr = pd.DataFrame(np.random.randn(6,4),index=daty,columns=list(\"ABCD\"))\n",
    "fr"
   ],
   "execution_count":36,
   "outputs":[
    {
     "data":{
      "text\/html":[
       "<div>\n",
       "<style scoped>\n",
       "    .dataframe tbody tr th:only-of-type {\n",
       "        vertical-align: middle;\n",
       "    }\n",
       "\n",
       "    .dataframe tbody tr th {\n",
       "        vertical-align: top;\n",
       "    }\n",
       "\n",
       "    .dataframe thead th {\n",
       "        text-align: right;\n",
       "    }\n",
       "<\/style>\n",
       "<table border=\"1\" class=\"dataframe\">\n",
       "  <thead>\n",
       "    <tr style=\"text-align: right;\">\n",
       "      <th><\/th>\n",
       "      <th>A<\/th>\n",
       "      <th>B<\/th>\n",
       "      <th>C<\/th>\n",
       "      <th>D<\/th>\n",
       "    <\/tr>\n",
       "  <\/thead>\n",
       "  <tbody>\n",
       "    <tr>\n",
       "      <th>2024-03-25<\/th>\n",
       "      <td>1.447613<\/td>\n",
       "      <td>-0.793933<\/td>\n",
       "      <td>0.950471<\/td>\n",
       "      <td>-1.148268<\/td>\n",
       "    <\/tr>\n",
       "    <tr>\n",
       "      <th>2024-03-26<\/th>\n",
       "      <td>2.127667<\/td>\n",
       "      <td>-0.971023<\/td>\n",
       "      <td>-1.116340<\/td>\n",
       "      <td>1.068508<\/td>\n",
       "    <\/tr>\n",
       "    <tr>\n",
       "      <th>2024-03-27<\/th>\n",
       "      <td>0.898189<\/td>\n",
       "      <td>-0.821934<\/td>\n",
       "      <td>-0.964022<\/td>\n",
       "      <td>0.039132<\/td>\n",
       "    <\/tr>\n",
       "    <tr>\n",
       "      <th>2024-03-28<\/th>\n",
       "      <td>1.530807<\/td>\n",
       "      <td>1.145132<\/td>\n",
       "      <td>0.452160<\/td>\n",
       "      <td>-0.747402<\/td>\n",
       "    <\/tr>\n",
       "    <tr>\n",
       "      <th>2024-03-29<\/th>\n",
       "      <td>1.524482<\/td>\n",
       "      <td>-0.143560<\/td>\n",
       "      <td>-0.117478<\/td>\n",
       "      <td>0.109907<\/td>\n",
       "    <\/tr>\n",
       "    <tr>\n",
       "      <th>2024-03-30<\/th>\n",
       "      <td>0.460661<\/td>\n",
       "      <td>0.554144<\/td>\n",
       "      <td>1.293913<\/td>\n",
       "      <td>-0.858658<\/td>\n",
       "    <\/tr>\n",
       "  <\/tbody>\n",
       "<\/table>\n",
       "<\/div>"
      ]
     },
     "metadata":{
      
     },
     "output_type":"display_data"
    }
   ],
   "metadata":{
    "datalore":{
     "node_id":"C3y2IafqDiGehyqovDJp9v",
     "type":"CODE",
     "hide_input_from_viewers":true,
     "hide_output_from_viewers":true
    }
   }
  },
  {
   "cell_type":"code",
   "source":[
    "s = \"lajkonik\"\n",
    "s"
   ],
   "execution_count":31,
   "outputs":[
    {
     "data":{
      "text\/plain":[
       "'lajkonik'"
      ]
     },
     "metadata":{
      
     },
     "output_type":"display_data"
    }
   ],
   "metadata":{
    "datalore":{
     "node_id":"r7L5F1rIaNlYW7fqiXHC0e",
     "type":"CODE",
     "hide_input_from_viewers":true,
     "hide_output_from_viewers":true
    }
   }
  },
  {
   "cell_type":"code",
   "source":[
    "s[4]"
   ],
   "execution_count":32,
   "outputs":[
    {
     "data":{
      "text\/plain":[
       "'o'"
      ]
     },
     "metadata":{
      
     },
     "output_type":"display_data"
    }
   ],
   "metadata":{
    "datalore":{
     "node_id":"BWT4lqhpAicVJj4VXJ4gIW",
     "type":"CODE",
     "hide_input_from_viewers":true,
     "hide_output_from_viewers":true
    }
   }
  },
  {
   "cell_type":"code",
   "source":[
    "s[2:5]"
   ],
   "execution_count":33,
   "outputs":[
    {
     "data":{
      "text\/plain":[
       "'jko'"
      ]
     },
     "metadata":{
      
     },
     "output_type":"display_data"
    }
   ],
   "metadata":{
    "datalore":{
     "node_id":"rebpgiTZd6piS53yRPinPh",
     "type":"CODE",
     "hide_input_from_viewers":true,
     "hide_output_from_viewers":true
    }
   }
  },
  {
   "cell_type":"code",
   "source":[
    "s[::-1]"
   ],
   "execution_count":34,
   "outputs":[
    {
     "data":{
      "text\/plain":[
       "'kinokjal'"
      ]
     },
     "metadata":{
      
     },
     "output_type":"display_data"
    }
   ],
   "metadata":{
    "datalore":{
     "node_id":"rtJrbBhAGKcr1Bmoz0z2mO",
     "type":"CODE",
     "hide_input_from_viewers":true,
     "hide_output_from_viewers":true
    }
   }
  },
  {
   "cell_type":"code",
   "source":[
    "fr.describe()"
   ],
   "execution_count":37,
   "outputs":[
    {
     "data":{
      "text\/html":[
       "<div>\n",
       "<style scoped>\n",
       "    .dataframe tbody tr th:only-of-type {\n",
       "        vertical-align: middle;\n",
       "    }\n",
       "\n",
       "    .dataframe tbody tr th {\n",
       "        vertical-align: top;\n",
       "    }\n",
       "\n",
       "    .dataframe thead th {\n",
       "        text-align: right;\n",
       "    }\n",
       "<\/style>\n",
       "<table border=\"1\" class=\"dataframe\">\n",
       "  <thead>\n",
       "    <tr style=\"text-align: right;\">\n",
       "      <th><\/th>\n",
       "      <th>A<\/th>\n",
       "      <th>B<\/th>\n",
       "      <th>C<\/th>\n",
       "      <th>D<\/th>\n",
       "    <\/tr>\n",
       "  <\/thead>\n",
       "  <tbody>\n",
       "    <tr>\n",
       "      <th>count<\/th>\n",
       "      <td>6.000000<\/td>\n",
       "      <td>6.000000<\/td>\n",
       "      <td>6.000000<\/td>\n",
       "      <td>6.000000<\/td>\n",
       "    <\/tr>\n",
       "    <tr>\n",
       "      <th>mean<\/th>\n",
       "      <td>1.331570<\/td>\n",
       "      <td>-0.171862<\/td>\n",
       "      <td>0.083118<\/td>\n",
       "      <td>-0.256130<\/td>\n",
       "    <\/tr>\n",
       "    <tr>\n",
       "      <th>std<\/th>\n",
       "      <td>0.578005<\/td>\n",
       "      <td>0.861462<\/td>\n",
       "      <td>0.992971<\/td>\n",
       "      <td>0.821721<\/td>\n",
       "    <\/tr>\n",
       "    <tr>\n",
       "      <th>min<\/th>\n",
       "      <td>0.460661<\/td>\n",
       "      <td>-0.971023<\/td>\n",
       "      <td>-1.116340<\/td>\n",
       "      <td>-1.148268<\/td>\n",
       "    <\/tr>\n",
       "    <tr>\n",
       "      <th>25%<\/th>\n",
       "      <td>1.035545<\/td>\n",
       "      <td>-0.814934<\/td>\n",
       "      <td>-0.752386<\/td>\n",
       "      <td>-0.830844<\/td>\n",
       "    <\/tr>\n",
       "    <tr>\n",
       "      <th>50%<\/th>\n",
       "      <td>1.486048<\/td>\n",
       "      <td>-0.468746<\/td>\n",
       "      <td>0.167341<\/td>\n",
       "      <td>-0.354135<\/td>\n",
       "    <\/tr>\n",
       "    <tr>\n",
       "      <th>75%<\/th>\n",
       "      <td>1.529226<\/td>\n",
       "      <td>0.379718<\/td>\n",
       "      <td>0.825894<\/td>\n",
       "      <td>0.092213<\/td>\n",
       "    <\/tr>\n",
       "    <tr>\n",
       "      <th>max<\/th>\n",
       "      <td>2.127667<\/td>\n",
       "      <td>1.145132<\/td>\n",
       "      <td>1.293913<\/td>\n",
       "      <td>1.068508<\/td>\n",
       "    <\/tr>\n",
       "  <\/tbody>\n",
       "<\/table>\n",
       "<\/div>"
      ]
     },
     "metadata":{
      
     },
     "output_type":"display_data"
    }
   ],
   "metadata":{
    "datalore":{
     "node_id":"jtepRGMN80eDp1BLameUGe",
     "type":"CODE",
     "hide_input_from_viewers":true,
     "hide_output_from_viewers":true
    }
   }
  },
  {
   "cell_type":"code",
   "source":[
    "fr.sort_index(axis=1,ascending=False)"
   ],
   "execution_count":40,
   "outputs":[
    {
     "data":{
      "text\/html":[
       "<div>\n",
       "<style scoped>\n",
       "    .dataframe tbody tr th:only-of-type {\n",
       "        vertical-align: middle;\n",
       "    }\n",
       "\n",
       "    .dataframe tbody tr th {\n",
       "        vertical-align: top;\n",
       "    }\n",
       "\n",
       "    .dataframe thead th {\n",
       "        text-align: right;\n",
       "    }\n",
       "<\/style>\n",
       "<table border=\"1\" class=\"dataframe\">\n",
       "  <thead>\n",
       "    <tr style=\"text-align: right;\">\n",
       "      <th><\/th>\n",
       "      <th>D<\/th>\n",
       "      <th>C<\/th>\n",
       "      <th>B<\/th>\n",
       "      <th>A<\/th>\n",
       "    <\/tr>\n",
       "  <\/thead>\n",
       "  <tbody>\n",
       "    <tr>\n",
       "      <th>2024-03-25<\/th>\n",
       "      <td>-1.148268<\/td>\n",
       "      <td>0.950471<\/td>\n",
       "      <td>-0.793933<\/td>\n",
       "      <td>1.447613<\/td>\n",
       "    <\/tr>\n",
       "    <tr>\n",
       "      <th>2024-03-26<\/th>\n",
       "      <td>1.068508<\/td>\n",
       "      <td>-1.116340<\/td>\n",
       "      <td>-0.971023<\/td>\n",
       "      <td>2.127667<\/td>\n",
       "    <\/tr>\n",
       "    <tr>\n",
       "      <th>2024-03-27<\/th>\n",
       "      <td>0.039132<\/td>\n",
       "      <td>-0.964022<\/td>\n",
       "      <td>-0.821934<\/td>\n",
       "      <td>0.898189<\/td>\n",
       "    <\/tr>\n",
       "    <tr>\n",
       "      <th>2024-03-28<\/th>\n",
       "      <td>-0.747402<\/td>\n",
       "      <td>0.452160<\/td>\n",
       "      <td>1.145132<\/td>\n",
       "      <td>1.530807<\/td>\n",
       "    <\/tr>\n",
       "    <tr>\n",
       "      <th>2024-03-29<\/th>\n",
       "      <td>0.109907<\/td>\n",
       "      <td>-0.117478<\/td>\n",
       "      <td>-0.143560<\/td>\n",
       "      <td>1.524482<\/td>\n",
       "    <\/tr>\n",
       "    <tr>\n",
       "      <th>2024-03-30<\/th>\n",
       "      <td>-0.858658<\/td>\n",
       "      <td>1.293913<\/td>\n",
       "      <td>0.554144<\/td>\n",
       "      <td>0.460661<\/td>\n",
       "    <\/tr>\n",
       "  <\/tbody>\n",
       "<\/table>\n",
       "<\/div>"
      ]
     },
     "metadata":{
      
     },
     "output_type":"display_data"
    }
   ],
   "metadata":{
    "datalore":{
     "node_id":"qGYVDWaa414KH8sSDuCLYE",
     "type":"CODE",
     "hide_input_from_viewers":true,
     "hide_output_from_viewers":true
    }
   }
  },
  {
   "cell_type":"code",
   "source":[
    "fr.sort_values(by=\"B\",ascending=True)"
   ],
   "execution_count":43,
   "outputs":[
    {
     "data":{
      "text\/html":[
       "<div>\n",
       "<style scoped>\n",
       "    .dataframe tbody tr th:only-of-type {\n",
       "        vertical-align: middle;\n",
       "    }\n",
       "\n",
       "    .dataframe tbody tr th {\n",
       "        vertical-align: top;\n",
       "    }\n",
       "\n",
       "    .dataframe thead th {\n",
       "        text-align: right;\n",
       "    }\n",
       "<\/style>\n",
       "<table border=\"1\" class=\"dataframe\">\n",
       "  <thead>\n",
       "    <tr style=\"text-align: right;\">\n",
       "      <th><\/th>\n",
       "      <th>A<\/th>\n",
       "      <th>B<\/th>\n",
       "      <th>C<\/th>\n",
       "      <th>D<\/th>\n",
       "    <\/tr>\n",
       "  <\/thead>\n",
       "  <tbody>\n",
       "    <tr>\n",
       "      <th>2024-03-26<\/th>\n",
       "      <td>2.127667<\/td>\n",
       "      <td>-0.971023<\/td>\n",
       "      <td>-1.116340<\/td>\n",
       "      <td>1.068508<\/td>\n",
       "    <\/tr>\n",
       "    <tr>\n",
       "      <th>2024-03-27<\/th>\n",
       "      <td>0.898189<\/td>\n",
       "      <td>-0.821934<\/td>\n",
       "      <td>-0.964022<\/td>\n",
       "      <td>0.039132<\/td>\n",
       "    <\/tr>\n",
       "    <tr>\n",
       "      <th>2024-03-25<\/th>\n",
       "      <td>1.447613<\/td>\n",
       "      <td>-0.793933<\/td>\n",
       "      <td>0.950471<\/td>\n",
       "      <td>-1.148268<\/td>\n",
       "    <\/tr>\n",
       "    <tr>\n",
       "      <th>2024-03-29<\/th>\n",
       "      <td>1.524482<\/td>\n",
       "      <td>-0.143560<\/td>\n",
       "      <td>-0.117478<\/td>\n",
       "      <td>0.109907<\/td>\n",
       "    <\/tr>\n",
       "    <tr>\n",
       "      <th>2024-03-30<\/th>\n",
       "      <td>0.460661<\/td>\n",
       "      <td>0.554144<\/td>\n",
       "      <td>1.293913<\/td>\n",
       "      <td>-0.858658<\/td>\n",
       "    <\/tr>\n",
       "    <tr>\n",
       "      <th>2024-03-28<\/th>\n",
       "      <td>1.530807<\/td>\n",
       "      <td>1.145132<\/td>\n",
       "      <td>0.452160<\/td>\n",
       "      <td>-0.747402<\/td>\n",
       "    <\/tr>\n",
       "  <\/tbody>\n",
       "<\/table>\n",
       "<\/div>"
      ]
     },
     "metadata":{
      
     },
     "output_type":"display_data"
    }
   ],
   "metadata":{
    "datalore":{
     "node_id":"j5DlodQc140rgkUzTh3ySF",
     "type":"CODE",
     "hide_input_from_viewers":true,
     "hide_output_from_viewers":true
    }
   }
  }
 ],
 "metadata":{
  "kernelspec":{
   "display_name":"Python",
   "language":"python",
   "name":"python"
  },
  "datalore":{
   "computation_mode":"JUPYTER",
   "package_manager":"pip",
   "base_environment":"default",
   "packages":[
    
   ],
   "report_row_ids":[
    
   ],
   "version":3
  }
 },
 "nbformat":4,
 "nbformat_minor":4
}